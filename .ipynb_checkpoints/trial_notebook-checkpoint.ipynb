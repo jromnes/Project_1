{
 "cells": [
  {
   "cell_type": "markdown",
   "id": "153494b0-1b38-4971-8b79-5efe09c95c25",
   "metadata": {},
   "source": [
    "### This is all for API "
   ]
  },
  {
   "cell_type": "code",
   "execution_count": 1,
   "id": "7c480304-8283-4d42-b6d4-ed445c4918b7",
   "metadata": {
    "tags": []
   },
   "outputs": [],
   "source": [
    "# Initial imports\n",
    "import os\n",
    "import requests\n",
    "import pandas as pd\n",
    "from dotenv import load_dotenv\n",
    "import alpaca_trade_api as tradeapi"
   ]
  },
  {
   "cell_type": "markdown",
   "id": "f46987e5-479e-4580-9149-d53b839ad2f3",
   "metadata": {},
   "source": [
    "## Will need a .env file created with api key(reminder)"
   ]
  },
  {
   "cell_type": "code",
   "execution_count": 2,
   "id": "a6fb0fd5-3348-4e15-9605-309d203bbf68",
   "metadata": {
    "tags": []
   },
   "outputs": [],
   "source": [
    "path = ('/Users/jordanromnes/Downloads/Project_1/keys.env')"
   ]
  },
  {
   "cell_type": "code",
   "execution_count": 3,
   "id": "2b454716-4ec7-4597-852b-de4693ddc98c",
   "metadata": {
    "tags": []
   },
   "outputs": [
    {
     "data": {
      "text/plain": [
       "True"
      ]
     },
     "execution_count": 3,
     "metadata": {},
     "output_type": "execute_result"
    }
   ],
   "source": [
    "# Load .env environment variables\n",
    "load_dotenv(path)"
   ]
  },
  {
   "cell_type": "code",
   "execution_count": 4,
   "id": "1038dcfb-1756-44bb-a319-1f3fedb1808d",
   "metadata": {
    "tags": []
   },
   "outputs": [],
   "source": [
    "# Set Alpaca API key and secret\n",
    "alpaca_api_key = os.getenv(\"ALPACA_API_KEY\")\n",
    "alpaca_secret_key = os.getenv(\"ALPACA_SECRET_KEY\")"
   ]
  },
  {
   "cell_type": "code",
   "execution_count": 5,
   "id": "418b6e0a-37c3-4a2c-a5df-9085cf8629c5",
   "metadata": {
    "tags": []
   },
   "outputs": [
    {
     "name": "stdout",
     "output_type": "stream",
     "text": [
      "Alpaca Key type: <class 'str'>\n",
      "Alpaca Secret Key type: <class 'str'>\n"
     ]
    }
   ],
   "source": [
    "# Verify that Alpaca key and secret were correctly loaded\n",
    "print(f\"Alpaca Key type: {type(alpaca_api_key)}\")\n",
    "print(f\"Alpaca Secret Key type: {type(alpaca_secret_key)}\")"
   ]
  },
  {
   "cell_type": "code",
   "execution_count": 6,
   "id": "e92b8742-7ef8-43a0-a247-9f4b1e7d8be7",
   "metadata": {
    "tags": []
   },
   "outputs": [],
   "source": [
    "# Create the Alpaca API object\n",
    "alpaca = tradeapi.REST(\n",
    "    alpaca_api_key,\n",
    "    alpaca_secret_key,\n",
    "    api_version=\"v2\")"
   ]
  },
  {
   "cell_type": "markdown",
   "id": "4937e616-6f74-43e7-9009-c36c1958567e",
   "metadata": {
    "tags": []
   },
   "source": [
    "## Needs editing"
   ]
  },
  {
   "cell_type": "code",
   "execution_count": 8,
   "id": "f2cb2227-1d9f-45e1-b224-f636cf5b04c7",
   "metadata": {
    "tags": []
   },
   "outputs": [],
   "source": [
    "#%run /Users/jordanromnes/Downloads/Project_1/data_extraction&cleaning.ipynb"
   ]
  },
  {
   "cell_type": "markdown",
   "id": "3416819d-6754-4e7d-affd-2ad01da9d210",
   "metadata": {},
   "source": [
    "# Range Sliders & Labels for line plots\n"
   ]
  },
  {
   "cell_type": "raw",
   "id": "81eb9898-d667-4800-9ab3-9710ca3f8a97",
   "metadata": {},
   "source": [
    "fig = go.Figure()\n",
    "\n",
    "# Add traces for each portfolio\n",
    "for column in all_historical_values_df.columns:\n",
    "    fig.add_trace(go.Scatter(x=all_historical_values_df.index, y=all_historical_values_df[column],\n",
    "                             mode='lines+markers', name=column))\n",
    "\n",
    "# Update layout\n",
    "fig.update_layout(\n",
    "    xaxis=dict(title='Date'),\n",
    "    yaxis=dict(title='Portfolio Value'),\n",
    "    legend=dict(title='Portfolios', orientation='h', yanchor='bottom', y=-1, xanchor='right', x=1),\n",
    "    annotations=[\n",
    "        dict(xref='paper', yref='paper', x=0.0, y=0, xanchor='left', yanchor='bottom',\n",
    "             text='Historical Values of Portfolios',\n",
    "             font=dict(family='Arial', size=30, color='white'),\n",
    "             showarrow=False)\n",
    "    ],\n",
    "    margin=dict(l=20, r=20, t=80, b=20),\n",
    "    plot_bgcolor='black',\n",
    "    width=1000,\n",
    "    height=1000 \n",
    ")\n",
    "\n",
    "for column in all_historical_values_df.columns:\n",
    "    first_value = all_historical_values_df[column].iloc[0]\n",
    "    last_value = all_historical_values_df[column].iloc[-1]\n",
    "\n",
    "    fig.add_annotation(\n",
    "        x=all_historical_values_df.index[0],\n",
    "        y=first_value,\n",
    "        text=f'${first_value:.2f}',\n",
    "        showarrow=True,\n",
    "        arrowhead=2,\n",
    "        arrowsize=1,\n",
    "        arrowwidth=2,\n",
    "        arrowcolor='white',\n",
    "        font=dict(family='Arial', size=12, color='white'),\n",
    "        xanchor='left',\n",
    "        yanchor='bottom'\n",
    "    )\n",
    "\n",
    "    fig.add_annotation(\n",
    "        x=all_historical_values_df.index[-1],\n",
    "        y=last_value,\n",
    "        text=f'${last_value:.2f}',\n",
    "        font=dict(family='Arial', size=12, color='white'),\n",
    "        xanchor='left',\n",
    "        yanchor='bottom'\n",
    "    )\n",
    "\n",
    "\n",
    "\n",
    "# Add range slider\n",
    "fig.update_layout(\n",
    "    xaxis=dict(\n",
    "        rangeselector=dict(\n",
    "            buttons=list([\n",
    "                dict(count=1,\n",
    "                     label=\"1m\",\n",
    "                     step=\"month\",\n",
    "                     stepmode=\"backward\"),\n",
    "                dict(count=6,\n",
    "                     label=\"6m\",\n",
    "                     step=\"month\",\n",
    "                     stepmode=\"backward\"),\n",
    "                dict(count=1,\n",
    "                     label=\"YTD\",\n",
    "                     step=\"year\",\n",
    "                     stepmode=\"todate\"),\n",
    "                dict(count=1,\n",
    "                     label=\"1y\",\n",
    "                     step=\"year\",\n",
    "                     stepmode=\"backward\"),\n",
    "                dict(step=\"all\")\n",
    "            ])\n",
    "        ),\n",
    "        rangeslider=dict(\n",
    "            visible=True\n",
    "        ),\n",
    "        type=\"date\"\n",
    "    )\n",
    ")\n",
    "\n",
    "# Show the plot\n",
    "fig.show()\n"
   ]
  },
  {
   "cell_type": "markdown",
   "id": "de761c72-bbca-46b9-bed6-7a9365ab84d2",
   "metadata": {},
   "source": [
    "# Base Code For Box Plot"
   ]
  },
  {
   "cell_type": "code",
   "execution_count": null,
   "id": "f0614232-9545-448a-a94e-7d8447e499c6",
   "metadata": {},
   "outputs": [],
   "source": [
    "fig = px.box(df, y=\"total_bill\")\n",
    "fig.show()"
   ]
  },
  {
   "cell_type": "markdown",
   "id": "90353a6e-5072-44e9-a446-f6562f06ce40",
   "metadata": {},
   "source": [
    "# Base code for pie chart"
   ]
  },
  {
   "cell_type": "code",
   "execution_count": null,
   "id": "98a7bf7e-7668-4512-9895-3308c1033a16",
   "metadata": {},
   "outputs": [],
   "source": [
    "fig = px.pie(df, values='pop', names='country', title='Population of European continent')\n",
    "fig.show()"
   ]
  },
  {
   "cell_type": "markdown",
   "id": "1bf370b7-8587-42de-9e43-4bbba6aba6f6",
   "metadata": {},
   "source": [
    "# base code for histogram"
   ]
  },
  {
   "cell_type": "code",
   "execution_count": null,
   "id": "9ee81057-ebda-4ec5-92a5-90d5ce83b1a0",
   "metadata": {},
   "outputs": [],
   "source": [
    "fig = px.histogram(df, x=\"total_bill\")\n",
    "fig.show()"
   ]
  },
  {
   "cell_type": "markdown",
   "id": "d7f3e96e-e222-40ee-8b31-a3482513a0d7",
   "metadata": {
    "tags": []
   },
   "source": [
    "# base code for Drop down"
   ]
  },
  {
   "cell_type": "code",
   "execution_count": null,
   "id": "fc8d69db-82dd-4b3f-8888-c535becd2803",
   "metadata": {},
   "outputs": [],
   "source": [
    "# Add dropdown\n",
    "fig.update_layout(\n",
    "    updatemenus=[\n",
    "        dict(\n",
    "            buttons=list([\n",
    "                dict(\n",
    "                    args=[\"type\", \"surface\"],\n",
    "                    label=\"3D Surface\",\n",
    "                    method=\"restyle\"\n",
    "                ),\n",
    "                dict(\n",
    "                    args=[\"type\", \"heatmap\"],\n",
    "                    label=\"Heatmap\",\n",
    "                    method=\"restyle\"\n",
    "                )\n",
    "            ]),\n",
    "            direction=\"down\",\n",
    "            pad={\"r\": 10, \"t\": 10},\n",
    "            showactive=True,\n",
    "            x=0.1,\n",
    "            xanchor=\"left\",\n",
    "            y=1.1,\n",
    "            yanchor=\"top\"\n",
    "        ),\n",
    "    ]\n",
    ")"
   ]
  },
  {
   "cell_type": "markdown",
   "id": "729bed55-09a3-4c5f-96e7-3f76a0164cb8",
   "metadata": {},
   "source": [
    "# Base code for Line"
   ]
  },
  {
   "cell_type": "code",
   "execution_count": null,
   "id": "3e566bac-c9e5-4afa-9509-6b6ba2b99b8f",
   "metadata": {},
   "outputs": [],
   "source": [
    "df = px.data.gapminder().query(\"country=='Canada'\")\n",
    "fig = px.line(df, x=\"year\", y=\"lifeExp\", title='Life expectancy in Canada')\n",
    "fig.show()\n"
   ]
  },
  {
   "cell_type": "markdown",
   "id": "0d4f5e7a-5fa2-4580-ac1b-0768e13169d7",
   "metadata": {},
   "source": [
    "# Base code for range slider"
   ]
  },
  {
   "cell_type": "code",
   "execution_count": null,
   "id": "5dd7c4e6-148e-4b2d-ba74-479184d45a58",
   "metadata": {},
   "outputs": [],
   "source": [
    "# Base code for range slider\n",
    "\n",
    "# Add range slider\n",
    "fig.update_layout(\n",
    "    xaxis=dict(\n",
    "        rangeselector=dict(\n",
    "            buttons=list([\n",
    "                dict(count=1,\n",
    "                     label=\"1m\",\n",
    "                     step=\"month\",\n",
    "                     stepmode=\"backward\"),\n",
    "                dict(count=6,\n",
    "                     label=\"6m\",\n",
    "                     step=\"month\",\n",
    "                     stepmode=\"backward\"),\n",
    "                dict(count=1,\n",
    "                     label=\"YTD\",\n",
    "                     step=\"year\",\n",
    "                     stepmode=\"todate\"),\n",
    "                dict(count=1,\n",
    "                     label=\"1y\",\n",
    "                     step=\"year\",\n",
    "                     stepmode=\"backward\"),\n",
    "                dict(step=\"all\")\n",
    "            ])\n",
    "        ),\n",
    "        rangeslider=dict(\n",
    "            visible=True\n",
    "        ),\n",
    "        type=\"date\"\n",
    "    )\n",
    ")"
   ]
  },
  {
   "cell_type": "code",
   "execution_count": null,
   "id": "3825fd36-4d42-4a7d-bbab-0abd35410edb",
   "metadata": {},
   "outputs": [],
   "source": [
    "# Plotting the upper and lower CI 95% of all MC simulation(min/max = high/low; open/close = CIupper/CIlower\n",
    "min_data = [0.612243, 0.805576, 0.786399, 0.604798, 0.769029, 0.862505, 0.649108, 0.909431, 0.677289, 0.647386, 0.628008, 0.280719]\n",
    "max_data = [2.967900, 3.577134, 3.090839, 4.066498, 3.077694, 3.639074, 2.797470, 3.107733, 3.281936, 3.183344, 2.978899, 4.169834]\n",
    "ci_upper = [2.363665, 2.707885, 2.420722, 2.917650, 2.374532, 2.917394, 2.165186, 2.553763, 2.301589, 2.331461, 2.292041, 2.457851]\n",
    "ci_lower = [0.949598, 1.015959, 1.030039, 0.964470, 0.958643, 1.173393, 0.876502, 1.047440, 0.892707, 0.924784, 0.923972, 0.450766]\n",
    "portfolios = ['Control', 'Technology', 'Finance', 'Consumer Services', 'Industrial', 'Energy', 'Utilities', 'Healthcare', 'Materials', 'Real Estate', 'Consumer Staples', 'Consumer Discretionary']\n",
    "\n",
    "fig = go.Figure(data=[go.Candlestick(x=portfolios,\n",
    "                       open=ci_upper, high=max_data,\n",
    "                       low=min_data, close=ci_lower)])\n",
    "\n",
    "fig.show()"
   ]
  },
  {
   "cell_type": "code",
   "execution_count": null,
   "id": "f85fab61-97c8-4068-abe0-61cd1ae2a05c",
   "metadata": {},
   "outputs": [],
   "source": []
  }
 ],
 "metadata": {
  "kernelspec": {
   "display_name": "Python 3 (ipykernel)",
   "language": "python",
   "name": "python3"
  },
  "language_info": {
   "codemirror_mode": {
    "name": "ipython",
    "version": 3
   },
   "file_extension": ".py",
   "mimetype": "text/x-python",
   "name": "python",
   "nbconvert_exporter": "python",
   "pygments_lexer": "ipython3",
   "version": "3.11.7"
  }
 },
 "nbformat": 4,
 "nbformat_minor": 5
}
