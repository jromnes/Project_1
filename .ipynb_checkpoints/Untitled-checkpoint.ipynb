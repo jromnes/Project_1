{
 "cells": [
  {
   "cell_type": "code",
   "execution_count": 1,
   "id": "96f238bc-603b-49cb-ba73-0187b28f5f50",
   "metadata": {
    "tags": []
   },
   "outputs": [],
   "source": [
    "# Imports\n",
    "import os\n",
    "import requests\n",
    "import pandas as pd\n",
    "import numpy as np\n",
    "from dotenv import load_dotenv\n",
    "import alpaca_trade_api as tradeapi\n",
    "from MCForecastTools import MCSimulation\n",
    "import plotly.express as px\n",
    "import plotly.graph_objects as go\n",
    "from datetime import datetime\n",
    "import seaborn as sns\n",
    "\n",
    "%matplotlib inline"
   ]
  },
  {
   "cell_type": "code",
   "execution_count": 39,
   "id": "90ffb2ad-a5ad-4202-8371-b5275ea3afd8",
   "metadata": {
    "tags": []
   },
   "outputs": [
    {
     "data": {
      "text/html": [
       "<div>\n",
       "<style scoped>\n",
       "    .dataframe tbody tr th:only-of-type {\n",
       "        vertical-align: middle;\n",
       "    }\n",
       "\n",
       "    .dataframe tbody tr th {\n",
       "        vertical-align: top;\n",
       "    }\n",
       "\n",
       "    .dataframe thead th {\n",
       "        text-align: right;\n",
       "    }\n",
       "</style>\n",
       "<table border=\"1\" class=\"dataframe\">\n",
       "  <thead>\n",
       "    <tr style=\"text-align: right;\">\n",
       "      <th></th>\n",
       "      <th>Control Portfolio Weights</th>\n",
       "      <th>Technology Portfolio Weights</th>\n",
       "      <th>Financial Portfolio Weights</th>\n",
       "      <th>Consumer Services Portfolio Weights</th>\n",
       "      <th>Industrial Portfolio Weights</th>\n",
       "      <th>Energy Portfolio Weights</th>\n",
       "      <th>Utilities Portfolio Weights</th>\n",
       "      <th>Healthcare Portfolio Weights</th>\n",
       "      <th>Materials Portfolio Weights</th>\n",
       "      <th>Real Estate Portfolio Weights</th>\n",
       "      <th>Consumer Staples Portfolio Weights</th>\n",
       "      <th>Consumer Discretionary Portfolio Weights</th>\n",
       "    </tr>\n",
       "    <tr>\n",
       "      <th>Stock Ticker</th>\n",
       "      <th></th>\n",
       "      <th></th>\n",
       "      <th></th>\n",
       "      <th></th>\n",
       "      <th></th>\n",
       "      <th></th>\n",
       "      <th></th>\n",
       "      <th></th>\n",
       "      <th></th>\n",
       "      <th></th>\n",
       "      <th></th>\n",
       "      <th></th>\n",
       "    </tr>\n",
       "  </thead>\n",
       "  <tbody>\n",
       "    <tr>\n",
       "      <th>AAPL</th>\n",
       "      <td>0.09</td>\n",
       "      <td>0.250</td>\n",
       "      <td>0.075</td>\n",
       "      <td>0.075</td>\n",
       "      <td>0.075</td>\n",
       "      <td>0.075</td>\n",
       "      <td>0.075</td>\n",
       "      <td>0.075</td>\n",
       "      <td>0.075</td>\n",
       "      <td>0.075</td>\n",
       "      <td>0.075</td>\n",
       "      <td>0.075</td>\n",
       "    </tr>\n",
       "    <tr>\n",
       "      <th>JPM</th>\n",
       "      <td>0.09</td>\n",
       "      <td>0.075</td>\n",
       "      <td>0.250</td>\n",
       "      <td>0.075</td>\n",
       "      <td>0.075</td>\n",
       "      <td>0.075</td>\n",
       "      <td>0.075</td>\n",
       "      <td>0.075</td>\n",
       "      <td>0.075</td>\n",
       "      <td>0.075</td>\n",
       "      <td>0.075</td>\n",
       "      <td>0.075</td>\n",
       "    </tr>\n",
       "    <tr>\n",
       "      <th>META</th>\n",
       "      <td>0.09</td>\n",
       "      <td>0.075</td>\n",
       "      <td>0.075</td>\n",
       "      <td>0.250</td>\n",
       "      <td>0.075</td>\n",
       "      <td>0.075</td>\n",
       "      <td>0.075</td>\n",
       "      <td>0.075</td>\n",
       "      <td>0.075</td>\n",
       "      <td>0.075</td>\n",
       "      <td>0.075</td>\n",
       "      <td>0.075</td>\n",
       "    </tr>\n",
       "    <tr>\n",
       "      <th>UNP</th>\n",
       "      <td>0.09</td>\n",
       "      <td>0.075</td>\n",
       "      <td>0.075</td>\n",
       "      <td>0.075</td>\n",
       "      <td>0.250</td>\n",
       "      <td>0.075</td>\n",
       "      <td>0.075</td>\n",
       "      <td>0.075</td>\n",
       "      <td>0.075</td>\n",
       "      <td>0.075</td>\n",
       "      <td>0.075</td>\n",
       "      <td>0.075</td>\n",
       "    </tr>\n",
       "    <tr>\n",
       "      <th>XOM</th>\n",
       "      <td>0.09</td>\n",
       "      <td>0.075</td>\n",
       "      <td>0.075</td>\n",
       "      <td>0.075</td>\n",
       "      <td>0.075</td>\n",
       "      <td>0.250</td>\n",
       "      <td>0.075</td>\n",
       "      <td>0.075</td>\n",
       "      <td>0.075</td>\n",
       "      <td>0.075</td>\n",
       "      <td>0.075</td>\n",
       "      <td>0.075</td>\n",
       "    </tr>\n",
       "  </tbody>\n",
       "</table>\n",
       "</div>"
      ],
      "text/plain": [
       "              Control Portfolio Weights  Technology Portfolio Weights  \\\n",
       "Stock Ticker                                                            \n",
       "AAPL                               0.09                         0.250   \n",
       "JPM                                0.09                         0.075   \n",
       "META                               0.09                         0.075   \n",
       "UNP                                0.09                         0.075   \n",
       "XOM                                0.09                         0.075   \n",
       "\n",
       "              Financial Portfolio Weights  \\\n",
       "Stock Ticker                                \n",
       "AAPL                                0.075   \n",
       "JPM                                 0.250   \n",
       "META                                0.075   \n",
       "UNP                                 0.075   \n",
       "XOM                                 0.075   \n",
       "\n",
       "              Consumer Services Portfolio Weights  \\\n",
       "Stock Ticker                                        \n",
       "AAPL                                        0.075   \n",
       "JPM                                         0.075   \n",
       "META                                        0.250   \n",
       "UNP                                         0.075   \n",
       "XOM                                         0.075   \n",
       "\n",
       "              Industrial Portfolio Weights  Energy Portfolio Weights  \\\n",
       "Stock Ticker                                                           \n",
       "AAPL                                 0.075                     0.075   \n",
       "JPM                                  0.075                     0.075   \n",
       "META                                 0.075                     0.075   \n",
       "UNP                                  0.250                     0.075   \n",
       "XOM                                  0.075                     0.250   \n",
       "\n",
       "              Utilities Portfolio Weights  Healthcare Portfolio Weights  \\\n",
       "Stock Ticker                                                              \n",
       "AAPL                                0.075                         0.075   \n",
       "JPM                                 0.075                         0.075   \n",
       "META                                0.075                         0.075   \n",
       "UNP                                 0.075                         0.075   \n",
       "XOM                                 0.075                         0.075   \n",
       "\n",
       "              Materials Portfolio Weights  Real Estate Portfolio Weights  \\\n",
       "Stock Ticker                                                               \n",
       "AAPL                                0.075                          0.075   \n",
       "JPM                                 0.075                          0.075   \n",
       "META                                0.075                          0.075   \n",
       "UNP                                 0.075                          0.075   \n",
       "XOM                                 0.075                          0.075   \n",
       "\n",
       "              Consumer Staples Portfolio Weights  \\\n",
       "Stock Ticker                                       \n",
       "AAPL                                       0.075   \n",
       "JPM                                        0.075   \n",
       "META                                       0.075   \n",
       "UNP                                        0.075   \n",
       "XOM                                        0.075   \n",
       "\n",
       "              Consumer Discretionary Portfolio Weights  \n",
       "Stock Ticker                                            \n",
       "AAPL                                             0.075  \n",
       "JPM                                              0.075  \n",
       "META                                             0.075  \n",
       "UNP                                              0.075  \n",
       "XOM                                              0.075  "
      ]
     },
     "execution_count": 39,
     "metadata": {},
     "output_type": "execute_result"
    }
   ],
   "source": [
    "control_weights = [0.09, 0.09, 0.09, 0.09, 0.09, 0.09, 0.09, 0.09, 0.09, 0.09, 0.09]\n",
    "tech_weights = [0.25, 0.075, 0.075, 0.075, 0.075, 0.075, 0.075, 0.075, 0.075, 0.075, 0.075]\n",
    "fin_weights = [0.075, 0.25, 0.075, 0.075, 0.075, 0.075, 0.075, 0.075, 0.075, 0.075, 0.075]\n",
    "con_ser_weights = [0.075, 0.075, 0.25, 0.075, 0.075, 0.075, 0.075, 0.075, 0.075, 0.075, 0.075]\n",
    "ind_weights = [0.075, 0.075, 0.075, 0.25, 0.075, 0.075, 0.075, 0.075, 0.075, 0.075, 0.075]\n",
    "nrg_weights = [0.075, 0.075, 0.075, 0.075, 0.25, 0.075, 0.075, 0.075, 0.075, 0.075, 0.075]\n",
    "util_weights = [0.075, 0.075, 0.075, 0.075, 0.075, 0.25, 0.075, 0.075, 0.075, 0.075, 0.075]\n",
    "hc_weights = [0.075, 0.075, 0.075, 0.075, 0.075, 0.075, 0.25, 0.075, 0.075, 0.075, 0.075]\n",
    "mat_weights = [0.075, 0.075, 0.075, 0.075, 0.075, 0.075, 0.075, 0.25, 0.075, 0.075, 0.075]\n",
    "re_weights = [0.075, 0.075, 0.075, 0.075, 0.075, 0.075, 0.075, 0.075, 0.25, 0.075, 0.075]\n",
    "con_staple_weights = [0.075, 0.075, 0.075, 0.075, 0.075, 0.075, 0.075, 0.075, 0.075, 0.25, 0.075]\n",
    "con_disc_weights = [0.075, 0.075, 0.075, 0.075, 0.075, 0.075, 0.075, 0.075, 0.075, 0.075, 0.25]\n",
    "stocks = ['AAPL', 'JPM', 'META', 'UNP', 'XOM', 'NEE', 'UNH', 'RIO', 'EQIX', 'WMT', 'AMZN']\n",
    "weights_df = pd.DataFrame({\n",
    "    'Stock Ticker': stocks,\n",
    "    'Control Portfolio Weights': control_weights,\n",
    "    'Technology Portfolio Weights': tech_weights, \n",
    "    'Financial Portfolio Weights': fin_weights, \n",
    "    'Consumer Services Portfolio Weights': con_ser_weights, \n",
    "    'Industrial Portfolio Weights': ind_weights, \n",
    "    'Energy Portfolio Weights': nrg_weights, \n",
    "    'Utilities Portfolio Weights': util_weights,\n",
    "    'Healthcare Portfolio Weights': hc_weights,\n",
    "    'Materials Portfolio Weights': mat_weights, \n",
    "    'Real Estate Portfolio Weights': re_weights, \n",
    "    'Consumer Staples Portfolio Weights': con_staple_weights, \n",
    "    'Consumer Discretionary Portfolio Weights': con_disc_weights,\n",
    "})\n",
    "\n",
    "weights_df.set_index('Stock Ticker', inplace=True)\n",
    "weights_df.head()"
   ]
  },
  {
   "cell_type": "code",
   "execution_count": 51,
   "id": "9320d942-ecc4-4bef-bf78-9fdde7dbb053",
   "metadata": {
    "tags": []
   },
   "outputs": [
    {
     "data": {
      "application/vnd.plotly.v1+json": {
       "config": {
        "plotlyServerURL": "https://plot.ly"
       },
       "data": [
        {
         "alignmentgroup": "True",
         "hovertemplate": "Stock Ticker=AAPL<br>index=%{x}<br>Weights=%{y}<extra></extra>",
         "legendgroup": "AAPL",
         "marker": {
          "color": "#636efa",
          "pattern": {
           "shape": ""
          }
         },
         "name": "AAPL",
         "offsetgroup": "AAPL",
         "orientation": "v",
         "showlegend": true,
         "textposition": "auto",
         "type": "bar",
         "x": [
          "Control Portfolio Weights",
          "Technology Portfolio Weights",
          "Financial Portfolio Weights",
          "Consumer Services Portfolio Weights",
          "Industrial Portfolio Weights",
          "Energy Portfolio Weights",
          "Utilities Portfolio Weights",
          "Healthcare Portfolio Weights",
          "Materials Portfolio Weights",
          "Real Estate Portfolio Weights",
          "Consumer Staples Portfolio Weights",
          "Consumer Discretionary Portfolio Weights"
         ],
         "xaxis": "x",
         "y": [
          0.09,
          0.25,
          0.075,
          0.075,
          0.075,
          0.075,
          0.075,
          0.075,
          0.075,
          0.075,
          0.075,
          0.075
         ],
         "yaxis": "y"
        },
        {
         "alignmentgroup": "True",
         "hovertemplate": "Stock Ticker=JPM<br>index=%{x}<br>Weights=%{y}<extra></extra>",
         "legendgroup": "JPM",
         "marker": {
          "color": "#EF553B",
          "pattern": {
           "shape": ""
          }
         },
         "name": "JPM",
         "offsetgroup": "JPM",
         "orientation": "v",
         "showlegend": true,
         "textposition": "auto",
         "type": "bar",
         "x": [
          "Control Portfolio Weights",
          "Technology Portfolio Weights",
          "Financial Portfolio Weights",
          "Consumer Services Portfolio Weights",
          "Industrial Portfolio Weights",
          "Energy Portfolio Weights",
          "Utilities Portfolio Weights",
          "Healthcare Portfolio Weights",
          "Materials Portfolio Weights",
          "Real Estate Portfolio Weights",
          "Consumer Staples Portfolio Weights",
          "Consumer Discretionary Portfolio Weights"
         ],
         "xaxis": "x",
         "y": [
          0.09,
          0.075,
          0.25,
          0.075,
          0.075,
          0.075,
          0.075,
          0.075,
          0.075,
          0.075,
          0.075,
          0.075
         ],
         "yaxis": "y"
        },
        {
         "alignmentgroup": "True",
         "hovertemplate": "Stock Ticker=META<br>index=%{x}<br>Weights=%{y}<extra></extra>",
         "legendgroup": "META",
         "marker": {
          "color": "#00cc96",
          "pattern": {
           "shape": ""
          }
         },
         "name": "META",
         "offsetgroup": "META",
         "orientation": "v",
         "showlegend": true,
         "textposition": "auto",
         "type": "bar",
         "x": [
          "Control Portfolio Weights",
          "Technology Portfolio Weights",
          "Financial Portfolio Weights",
          "Consumer Services Portfolio Weights",
          "Industrial Portfolio Weights",
          "Energy Portfolio Weights",
          "Utilities Portfolio Weights",
          "Healthcare Portfolio Weights",
          "Materials Portfolio Weights",
          "Real Estate Portfolio Weights",
          "Consumer Staples Portfolio Weights",
          "Consumer Discretionary Portfolio Weights"
         ],
         "xaxis": "x",
         "y": [
          0.09,
          0.075,
          0.075,
          0.25,
          0.075,
          0.075,
          0.075,
          0.075,
          0.075,
          0.075,
          0.075,
          0.075
         ],
         "yaxis": "y"
        },
        {
         "alignmentgroup": "True",
         "hovertemplate": "Stock Ticker=UNP<br>index=%{x}<br>Weights=%{y}<extra></extra>",
         "legendgroup": "UNP",
         "marker": {
          "color": "#ab63fa",
          "pattern": {
           "shape": ""
          }
         },
         "name": "UNP",
         "offsetgroup": "UNP",
         "orientation": "v",
         "showlegend": true,
         "textposition": "auto",
         "type": "bar",
         "x": [
          "Control Portfolio Weights",
          "Technology Portfolio Weights",
          "Financial Portfolio Weights",
          "Consumer Services Portfolio Weights",
          "Industrial Portfolio Weights",
          "Energy Portfolio Weights",
          "Utilities Portfolio Weights",
          "Healthcare Portfolio Weights",
          "Materials Portfolio Weights",
          "Real Estate Portfolio Weights",
          "Consumer Staples Portfolio Weights",
          "Consumer Discretionary Portfolio Weights"
         ],
         "xaxis": "x",
         "y": [
          0.09,
          0.075,
          0.075,
          0.075,
          0.25,
          0.075,
          0.075,
          0.075,
          0.075,
          0.075,
          0.075,
          0.075
         ],
         "yaxis": "y"
        },
        {
         "alignmentgroup": "True",
         "hovertemplate": "Stock Ticker=XOM<br>index=%{x}<br>Weights=%{y}<extra></extra>",
         "legendgroup": "XOM",
         "marker": {
          "color": "#FFA15A",
          "pattern": {
           "shape": ""
          }
         },
         "name": "XOM",
         "offsetgroup": "XOM",
         "orientation": "v",
         "showlegend": true,
         "textposition": "auto",
         "type": "bar",
         "x": [
          "Control Portfolio Weights",
          "Technology Portfolio Weights",
          "Financial Portfolio Weights",
          "Consumer Services Portfolio Weights",
          "Industrial Portfolio Weights",
          "Energy Portfolio Weights",
          "Utilities Portfolio Weights",
          "Healthcare Portfolio Weights",
          "Materials Portfolio Weights",
          "Real Estate Portfolio Weights",
          "Consumer Staples Portfolio Weights",
          "Consumer Discretionary Portfolio Weights"
         ],
         "xaxis": "x",
         "y": [
          0.09,
          0.075,
          0.075,
          0.075,
          0.075,
          0.25,
          0.075,
          0.075,
          0.075,
          0.075,
          0.075,
          0.075
         ],
         "yaxis": "y"
        },
        {
         "alignmentgroup": "True",
         "hovertemplate": "Stock Ticker=NEE<br>index=%{x}<br>Weights=%{y}<extra></extra>",
         "legendgroup": "NEE",
         "marker": {
          "color": "#19d3f3",
          "pattern": {
           "shape": ""
          }
         },
         "name": "NEE",
         "offsetgroup": "NEE",
         "orientation": "v",
         "showlegend": true,
         "textposition": "auto",
         "type": "bar",
         "x": [
          "Control Portfolio Weights",
          "Technology Portfolio Weights",
          "Financial Portfolio Weights",
          "Consumer Services Portfolio Weights",
          "Industrial Portfolio Weights",
          "Energy Portfolio Weights",
          "Utilities Portfolio Weights",
          "Healthcare Portfolio Weights",
          "Materials Portfolio Weights",
          "Real Estate Portfolio Weights",
          "Consumer Staples Portfolio Weights",
          "Consumer Discretionary Portfolio Weights"
         ],
         "xaxis": "x",
         "y": [
          0.09,
          0.075,
          0.075,
          0.075,
          0.075,
          0.075,
          0.25,
          0.075,
          0.075,
          0.075,
          0.075,
          0.075
         ],
         "yaxis": "y"
        },
        {
         "alignmentgroup": "True",
         "hovertemplate": "Stock Ticker=UNH<br>index=%{x}<br>Weights=%{y}<extra></extra>",
         "legendgroup": "UNH",
         "marker": {
          "color": "#FF6692",
          "pattern": {
           "shape": ""
          }
         },
         "name": "UNH",
         "offsetgroup": "UNH",
         "orientation": "v",
         "showlegend": true,
         "textposition": "auto",
         "type": "bar",
         "x": [
          "Control Portfolio Weights",
          "Technology Portfolio Weights",
          "Financial Portfolio Weights",
          "Consumer Services Portfolio Weights",
          "Industrial Portfolio Weights",
          "Energy Portfolio Weights",
          "Utilities Portfolio Weights",
          "Healthcare Portfolio Weights",
          "Materials Portfolio Weights",
          "Real Estate Portfolio Weights",
          "Consumer Staples Portfolio Weights",
          "Consumer Discretionary Portfolio Weights"
         ],
         "xaxis": "x",
         "y": [
          0.09,
          0.075,
          0.075,
          0.075,
          0.075,
          0.075,
          0.075,
          0.25,
          0.075,
          0.075,
          0.075,
          0.075
         ],
         "yaxis": "y"
        },
        {
         "alignmentgroup": "True",
         "hovertemplate": "Stock Ticker=RIO<br>index=%{x}<br>Weights=%{y}<extra></extra>",
         "legendgroup": "RIO",
         "marker": {
          "color": "#B6E880",
          "pattern": {
           "shape": ""
          }
         },
         "name": "RIO",
         "offsetgroup": "RIO",
         "orientation": "v",
         "showlegend": true,
         "textposition": "auto",
         "type": "bar",
         "x": [
          "Control Portfolio Weights",
          "Technology Portfolio Weights",
          "Financial Portfolio Weights",
          "Consumer Services Portfolio Weights",
          "Industrial Portfolio Weights",
          "Energy Portfolio Weights",
          "Utilities Portfolio Weights",
          "Healthcare Portfolio Weights",
          "Materials Portfolio Weights",
          "Real Estate Portfolio Weights",
          "Consumer Staples Portfolio Weights",
          "Consumer Discretionary Portfolio Weights"
         ],
         "xaxis": "x",
         "y": [
          0.09,
          0.075,
          0.075,
          0.075,
          0.075,
          0.075,
          0.075,
          0.075,
          0.25,
          0.075,
          0.075,
          0.075
         ],
         "yaxis": "y"
        },
        {
         "alignmentgroup": "True",
         "hovertemplate": "Stock Ticker=EQIX<br>index=%{x}<br>Weights=%{y}<extra></extra>",
         "legendgroup": "EQIX",
         "marker": {
          "color": "#FF97FF",
          "pattern": {
           "shape": ""
          }
         },
         "name": "EQIX",
         "offsetgroup": "EQIX",
         "orientation": "v",
         "showlegend": true,
         "textposition": "auto",
         "type": "bar",
         "x": [
          "Control Portfolio Weights",
          "Technology Portfolio Weights",
          "Financial Portfolio Weights",
          "Consumer Services Portfolio Weights",
          "Industrial Portfolio Weights",
          "Energy Portfolio Weights",
          "Utilities Portfolio Weights",
          "Healthcare Portfolio Weights",
          "Materials Portfolio Weights",
          "Real Estate Portfolio Weights",
          "Consumer Staples Portfolio Weights",
          "Consumer Discretionary Portfolio Weights"
         ],
         "xaxis": "x",
         "y": [
          0.09,
          0.075,
          0.075,
          0.075,
          0.075,
          0.075,
          0.075,
          0.075,
          0.075,
          0.25,
          0.075,
          0.075
         ],
         "yaxis": "y"
        },
        {
         "alignmentgroup": "True",
         "hovertemplate": "Stock Ticker=WMT<br>index=%{x}<br>Weights=%{y}<extra></extra>",
         "legendgroup": "WMT",
         "marker": {
          "color": "#FECB52",
          "pattern": {
           "shape": ""
          }
         },
         "name": "WMT",
         "offsetgroup": "WMT",
         "orientation": "v",
         "showlegend": true,
         "textposition": "auto",
         "type": "bar",
         "x": [
          "Control Portfolio Weights",
          "Technology Portfolio Weights",
          "Financial Portfolio Weights",
          "Consumer Services Portfolio Weights",
          "Industrial Portfolio Weights",
          "Energy Portfolio Weights",
          "Utilities Portfolio Weights",
          "Healthcare Portfolio Weights",
          "Materials Portfolio Weights",
          "Real Estate Portfolio Weights",
          "Consumer Staples Portfolio Weights",
          "Consumer Discretionary Portfolio Weights"
         ],
         "xaxis": "x",
         "y": [
          0.09,
          0.075,
          0.075,
          0.075,
          0.075,
          0.075,
          0.075,
          0.075,
          0.075,
          0.075,
          0.25,
          0.075
         ],
         "yaxis": "y"
        },
        {
         "alignmentgroup": "True",
         "hovertemplate": "Stock Ticker=AMZN<br>index=%{x}<br>Weights=%{y}<extra></extra>",
         "legendgroup": "AMZN",
         "marker": {
          "color": "#636efa",
          "pattern": {
           "shape": ""
          }
         },
         "name": "AMZN",
         "offsetgroup": "AMZN",
         "orientation": "v",
         "showlegend": true,
         "textposition": "auto",
         "type": "bar",
         "x": [
          "Control Portfolio Weights",
          "Technology Portfolio Weights",
          "Financial Portfolio Weights",
          "Consumer Services Portfolio Weights",
          "Industrial Portfolio Weights",
          "Energy Portfolio Weights",
          "Utilities Portfolio Weights",
          "Healthcare Portfolio Weights",
          "Materials Portfolio Weights",
          "Real Estate Portfolio Weights",
          "Consumer Staples Portfolio Weights",
          "Consumer Discretionary Portfolio Weights"
         ],
         "xaxis": "x",
         "y": [
          0.09,
          0.075,
          0.075,
          0.075,
          0.075,
          0.075,
          0.075,
          0.075,
          0.075,
          0.075,
          0.075,
          0.25
         ],
         "yaxis": "y"
        }
       ],
       "layout": {
        "barmode": "relative",
        "height": 850,
        "legend": {
         "title": {
          "text": "Stock Ticker"
         },
         "tracegroupgap": 0
        },
        "template": {
         "data": {
          "bar": [
           {
            "error_x": {
             "color": "#2a3f5f"
            },
            "error_y": {
             "color": "#2a3f5f"
            },
            "marker": {
             "line": {
              "color": "#E5ECF6",
              "width": 0.5
             },
             "pattern": {
              "fillmode": "overlay",
              "size": 10,
              "solidity": 0.2
             }
            },
            "type": "bar"
           }
          ],
          "barpolar": [
           {
            "marker": {
             "line": {
              "color": "#E5ECF6",
              "width": 0.5
             },
             "pattern": {
              "fillmode": "overlay",
              "size": 10,
              "solidity": 0.2
             }
            },
            "type": "barpolar"
           }
          ],
          "carpet": [
           {
            "aaxis": {
             "endlinecolor": "#2a3f5f",
             "gridcolor": "white",
             "linecolor": "white",
             "minorgridcolor": "white",
             "startlinecolor": "#2a3f5f"
            },
            "baxis": {
             "endlinecolor": "#2a3f5f",
             "gridcolor": "white",
             "linecolor": "white",
             "minorgridcolor": "white",
             "startlinecolor": "#2a3f5f"
            },
            "type": "carpet"
           }
          ],
          "choropleth": [
           {
            "colorbar": {
             "outlinewidth": 0,
             "ticks": ""
            },
            "type": "choropleth"
           }
          ],
          "contour": [
           {
            "colorbar": {
             "outlinewidth": 0,
             "ticks": ""
            },
            "colorscale": [
             [
              0,
              "#0d0887"
             ],
             [
              0.1111111111111111,
              "#46039f"
             ],
             [
              0.2222222222222222,
              "#7201a8"
             ],
             [
              0.3333333333333333,
              "#9c179e"
             ],
             [
              0.4444444444444444,
              "#bd3786"
             ],
             [
              0.5555555555555556,
              "#d8576b"
             ],
             [
              0.6666666666666666,
              "#ed7953"
             ],
             [
              0.7777777777777778,
              "#fb9f3a"
             ],
             [
              0.8888888888888888,
              "#fdca26"
             ],
             [
              1,
              "#f0f921"
             ]
            ],
            "type": "contour"
           }
          ],
          "contourcarpet": [
           {
            "colorbar": {
             "outlinewidth": 0,
             "ticks": ""
            },
            "type": "contourcarpet"
           }
          ],
          "heatmap": [
           {
            "colorbar": {
             "outlinewidth": 0,
             "ticks": ""
            },
            "colorscale": [
             [
              0,
              "#0d0887"
             ],
             [
              0.1111111111111111,
              "#46039f"
             ],
             [
              0.2222222222222222,
              "#7201a8"
             ],
             [
              0.3333333333333333,
              "#9c179e"
             ],
             [
              0.4444444444444444,
              "#bd3786"
             ],
             [
              0.5555555555555556,
              "#d8576b"
             ],
             [
              0.6666666666666666,
              "#ed7953"
             ],
             [
              0.7777777777777778,
              "#fb9f3a"
             ],
             [
              0.8888888888888888,
              "#fdca26"
             ],
             [
              1,
              "#f0f921"
             ]
            ],
            "type": "heatmap"
           }
          ],
          "heatmapgl": [
           {
            "colorbar": {
             "outlinewidth": 0,
             "ticks": ""
            },
            "colorscale": [
             [
              0,
              "#0d0887"
             ],
             [
              0.1111111111111111,
              "#46039f"
             ],
             [
              0.2222222222222222,
              "#7201a8"
             ],
             [
              0.3333333333333333,
              "#9c179e"
             ],
             [
              0.4444444444444444,
              "#bd3786"
             ],
             [
              0.5555555555555556,
              "#d8576b"
             ],
             [
              0.6666666666666666,
              "#ed7953"
             ],
             [
              0.7777777777777778,
              "#fb9f3a"
             ],
             [
              0.8888888888888888,
              "#fdca26"
             ],
             [
              1,
              "#f0f921"
             ]
            ],
            "type": "heatmapgl"
           }
          ],
          "histogram": [
           {
            "marker": {
             "pattern": {
              "fillmode": "overlay",
              "size": 10,
              "solidity": 0.2
             }
            },
            "type": "histogram"
           }
          ],
          "histogram2d": [
           {
            "colorbar": {
             "outlinewidth": 0,
             "ticks": ""
            },
            "colorscale": [
             [
              0,
              "#0d0887"
             ],
             [
              0.1111111111111111,
              "#46039f"
             ],
             [
              0.2222222222222222,
              "#7201a8"
             ],
             [
              0.3333333333333333,
              "#9c179e"
             ],
             [
              0.4444444444444444,
              "#bd3786"
             ],
             [
              0.5555555555555556,
              "#d8576b"
             ],
             [
              0.6666666666666666,
              "#ed7953"
             ],
             [
              0.7777777777777778,
              "#fb9f3a"
             ],
             [
              0.8888888888888888,
              "#fdca26"
             ],
             [
              1,
              "#f0f921"
             ]
            ],
            "type": "histogram2d"
           }
          ],
          "histogram2dcontour": [
           {
            "colorbar": {
             "outlinewidth": 0,
             "ticks": ""
            },
            "colorscale": [
             [
              0,
              "#0d0887"
             ],
             [
              0.1111111111111111,
              "#46039f"
             ],
             [
              0.2222222222222222,
              "#7201a8"
             ],
             [
              0.3333333333333333,
              "#9c179e"
             ],
             [
              0.4444444444444444,
              "#bd3786"
             ],
             [
              0.5555555555555556,
              "#d8576b"
             ],
             [
              0.6666666666666666,
              "#ed7953"
             ],
             [
              0.7777777777777778,
              "#fb9f3a"
             ],
             [
              0.8888888888888888,
              "#fdca26"
             ],
             [
              1,
              "#f0f921"
             ]
            ],
            "type": "histogram2dcontour"
           }
          ],
          "mesh3d": [
           {
            "colorbar": {
             "outlinewidth": 0,
             "ticks": ""
            },
            "type": "mesh3d"
           }
          ],
          "parcoords": [
           {
            "line": {
             "colorbar": {
              "outlinewidth": 0,
              "ticks": ""
             }
            },
            "type": "parcoords"
           }
          ],
          "pie": [
           {
            "automargin": true,
            "type": "pie"
           }
          ],
          "scatter": [
           {
            "fillpattern": {
             "fillmode": "overlay",
             "size": 10,
             "solidity": 0.2
            },
            "type": "scatter"
           }
          ],
          "scatter3d": [
           {
            "line": {
             "colorbar": {
              "outlinewidth": 0,
              "ticks": ""
             }
            },
            "marker": {
             "colorbar": {
              "outlinewidth": 0,
              "ticks": ""
             }
            },
            "type": "scatter3d"
           }
          ],
          "scattercarpet": [
           {
            "marker": {
             "colorbar": {
              "outlinewidth": 0,
              "ticks": ""
             }
            },
            "type": "scattercarpet"
           }
          ],
          "scattergeo": [
           {
            "marker": {
             "colorbar": {
              "outlinewidth": 0,
              "ticks": ""
             }
            },
            "type": "scattergeo"
           }
          ],
          "scattergl": [
           {
            "marker": {
             "colorbar": {
              "outlinewidth": 0,
              "ticks": ""
             }
            },
            "type": "scattergl"
           }
          ],
          "scattermapbox": [
           {
            "marker": {
             "colorbar": {
              "outlinewidth": 0,
              "ticks": ""
             }
            },
            "type": "scattermapbox"
           }
          ],
          "scatterpolar": [
           {
            "marker": {
             "colorbar": {
              "outlinewidth": 0,
              "ticks": ""
             }
            },
            "type": "scatterpolar"
           }
          ],
          "scatterpolargl": [
           {
            "marker": {
             "colorbar": {
              "outlinewidth": 0,
              "ticks": ""
             }
            },
            "type": "scatterpolargl"
           }
          ],
          "scatterternary": [
           {
            "marker": {
             "colorbar": {
              "outlinewidth": 0,
              "ticks": ""
             }
            },
            "type": "scatterternary"
           }
          ],
          "surface": [
           {
            "colorbar": {
             "outlinewidth": 0,
             "ticks": ""
            },
            "colorscale": [
             [
              0,
              "#0d0887"
             ],
             [
              0.1111111111111111,
              "#46039f"
             ],
             [
              0.2222222222222222,
              "#7201a8"
             ],
             [
              0.3333333333333333,
              "#9c179e"
             ],
             [
              0.4444444444444444,
              "#bd3786"
             ],
             [
              0.5555555555555556,
              "#d8576b"
             ],
             [
              0.6666666666666666,
              "#ed7953"
             ],
             [
              0.7777777777777778,
              "#fb9f3a"
             ],
             [
              0.8888888888888888,
              "#fdca26"
             ],
             [
              1,
              "#f0f921"
             ]
            ],
            "type": "surface"
           }
          ],
          "table": [
           {
            "cells": {
             "fill": {
              "color": "#EBF0F8"
             },
             "line": {
              "color": "white"
             }
            },
            "header": {
             "fill": {
              "color": "#C8D4E3"
             },
             "line": {
              "color": "white"
             }
            },
            "type": "table"
           }
          ]
         },
         "layout": {
          "annotationdefaults": {
           "arrowcolor": "#2a3f5f",
           "arrowhead": 0,
           "arrowwidth": 1
          },
          "autotypenumbers": "strict",
          "coloraxis": {
           "colorbar": {
            "outlinewidth": 0,
            "ticks": ""
           }
          },
          "colorscale": {
           "diverging": [
            [
             0,
             "#8e0152"
            ],
            [
             0.1,
             "#c51b7d"
            ],
            [
             0.2,
             "#de77ae"
            ],
            [
             0.3,
             "#f1b6da"
            ],
            [
             0.4,
             "#fde0ef"
            ],
            [
             0.5,
             "#f7f7f7"
            ],
            [
             0.6,
             "#e6f5d0"
            ],
            [
             0.7,
             "#b8e186"
            ],
            [
             0.8,
             "#7fbc41"
            ],
            [
             0.9,
             "#4d9221"
            ],
            [
             1,
             "#276419"
            ]
           ],
           "sequential": [
            [
             0,
             "#0d0887"
            ],
            [
             0.1111111111111111,
             "#46039f"
            ],
            [
             0.2222222222222222,
             "#7201a8"
            ],
            [
             0.3333333333333333,
             "#9c179e"
            ],
            [
             0.4444444444444444,
             "#bd3786"
            ],
            [
             0.5555555555555556,
             "#d8576b"
            ],
            [
             0.6666666666666666,
             "#ed7953"
            ],
            [
             0.7777777777777778,
             "#fb9f3a"
            ],
            [
             0.8888888888888888,
             "#fdca26"
            ],
            [
             1,
             "#f0f921"
            ]
           ],
           "sequentialminus": [
            [
             0,
             "#0d0887"
            ],
            [
             0.1111111111111111,
             "#46039f"
            ],
            [
             0.2222222222222222,
             "#7201a8"
            ],
            [
             0.3333333333333333,
             "#9c179e"
            ],
            [
             0.4444444444444444,
             "#bd3786"
            ],
            [
             0.5555555555555556,
             "#d8576b"
            ],
            [
             0.6666666666666666,
             "#ed7953"
            ],
            [
             0.7777777777777778,
             "#fb9f3a"
            ],
            [
             0.8888888888888888,
             "#fdca26"
            ],
            [
             1,
             "#f0f921"
            ]
           ]
          },
          "colorway": [
           "#636efa",
           "#EF553B",
           "#00cc96",
           "#ab63fa",
           "#FFA15A",
           "#19d3f3",
           "#FF6692",
           "#B6E880",
           "#FF97FF",
           "#FECB52"
          ],
          "font": {
           "color": "#2a3f5f"
          },
          "geo": {
           "bgcolor": "white",
           "lakecolor": "white",
           "landcolor": "#E5ECF6",
           "showlakes": true,
           "showland": true,
           "subunitcolor": "white"
          },
          "hoverlabel": {
           "align": "left"
          },
          "hovermode": "closest",
          "mapbox": {
           "style": "light"
          },
          "paper_bgcolor": "white",
          "plot_bgcolor": "#E5ECF6",
          "polar": {
           "angularaxis": {
            "gridcolor": "white",
            "linecolor": "white",
            "ticks": ""
           },
           "bgcolor": "#E5ECF6",
           "radialaxis": {
            "gridcolor": "white",
            "linecolor": "white",
            "ticks": ""
           }
          },
          "scene": {
           "xaxis": {
            "backgroundcolor": "#E5ECF6",
            "gridcolor": "white",
            "gridwidth": 2,
            "linecolor": "white",
            "showbackground": true,
            "ticks": "",
            "zerolinecolor": "white"
           },
           "yaxis": {
            "backgroundcolor": "#E5ECF6",
            "gridcolor": "white",
            "gridwidth": 2,
            "linecolor": "white",
            "showbackground": true,
            "ticks": "",
            "zerolinecolor": "white"
           },
           "zaxis": {
            "backgroundcolor": "#E5ECF6",
            "gridcolor": "white",
            "gridwidth": 2,
            "linecolor": "white",
            "showbackground": true,
            "ticks": "",
            "zerolinecolor": "white"
           }
          },
          "shapedefaults": {
           "line": {
            "color": "#2a3f5f"
           }
          },
          "ternary": {
           "aaxis": {
            "gridcolor": "white",
            "linecolor": "white",
            "ticks": ""
           },
           "baxis": {
            "gridcolor": "white",
            "linecolor": "white",
            "ticks": ""
           },
           "bgcolor": "#E5ECF6",
           "caxis": {
            "gridcolor": "white",
            "linecolor": "white",
            "ticks": ""
           }
          },
          "title": {
           "x": 0.05
          },
          "xaxis": {
           "automargin": true,
           "gridcolor": "white",
           "linecolor": "white",
           "ticks": "",
           "title": {
            "standoff": 15
           },
           "zerolinecolor": "white",
           "zerolinewidth": 2
          },
          "yaxis": {
           "automargin": true,
           "gridcolor": "white",
           "linecolor": "white",
           "ticks": "",
           "title": {
            "standoff": 15
           },
           "zerolinecolor": "white",
           "zerolinewidth": 2
          }
         }
        },
        "title": {
         "text": "Portfolio Weights"
        },
        "width": 1000,
        "xaxis": {
         "anchor": "y",
         "autorange": true,
         "domain": [
          0,
          1
         ],
         "range": [
          -0.5,
          11.5
         ],
         "title": {
          "text": "index"
         },
         "type": "category"
        },
        "yaxis": {
         "anchor": "x",
         "autorange": true,
         "domain": [
          0,
          1
         ],
         "range": [
          0,
          1.0526315789473684
         ],
         "title": {
          "text": "Weights"
         },
         "type": "linear"
        }
       }
      },
      "image/png": "[encoded data removed]",
      "text/html": [
       "<div>                            <div id=\"9df48305-3318-4925-9e2b-d99bda3ce479\" class=\"plotly-graph-div\" style=\"height:850px; width:1000px;\"></div>            <script type=\"text/javascript\">                require([\"plotly\"], function(Plotly) {                    window.PLOTLYENV=window.PLOTLYENV || {};                                    if (document.getElementById(\"9df48305-3318-4925-9e2b-d99bda3ce479\")) {                    Plotly.newPlot(                        \"9df48305-3318-4925-9e2b-d99bda3ce479\",                        [{\"alignmentgroup\":\"True\",\"hovertemplate\":\"Stock Ticker=AAPL\\u003cbr\\u003eindex=%{x}\\u003cbr\\u003eWeights=%{y}\\u003cextra\\u003e\\u003c\\u002fextra\\u003e\",\"legendgroup\":\"AAPL\",\"marker\":{\"color\":\"#636efa\",\"pattern\":{\"shape\":\"\"}},\"name\":\"AAPL\",\"offsetgroup\":\"AAPL\",\"orientation\":\"v\",\"showlegend\":true,\"textposition\":\"auto\",\"x\":[\"Control Portfolio Weights\",\"Technology Portfolio Weights\",\"Financial Portfolio Weights\",\"Consumer Services Portfolio Weights\",\"Industrial Portfolio Weights\",\"Energy Portfolio Weights\",\"Utilities Portfolio Weights\",\"Healthcare Portfolio Weights\",\"Materials Portfolio Weights\",\"Real Estate Portfolio Weights\",\"Consumer Staples Portfolio Weights\",\"Consumer Discretionary Portfolio Weights\"],\"xaxis\":\"x\",\"y\":[0.09,0.25,0.075,0.075,0.075,0.075,0.075,0.075,0.075,0.075,0.075,0.075],\"yaxis\":\"y\",\"type\":\"bar\"},{\"alignmentgroup\":\"True\",\"hovertemplate\":\"Stock Ticker=JPM\\u003cbr\\u003eindex=%{x}\\u003cbr\\u003eWeights=%{y}\\u003cextra\\u003e\\u003c\\u002fextra\\u003e\",\"legendgroup\":\"JPM\",\"marker\":{\"color\":\"#EF553B\",\"pattern\":{\"shape\":\"\"}},\"name\":\"JPM\",\"offsetgroup\":\"JPM\",\"orientation\":\"v\",\"showlegend\":true,\"textposition\":\"auto\",\"x\":[\"Control Portfolio Weights\",\"Technology Portfolio Weights\",\"Financial Portfolio Weights\",\"Consumer Services Portfolio Weights\",\"Industrial Portfolio Weights\",\"Energy Portfolio Weights\",\"Utilities Portfolio Weights\",\"Healthcare Portfolio Weights\",\"Materials Portfolio Weights\",\"Real Estate Portfolio Weights\",\"Consumer Staples Portfolio Weights\",\"Consumer Discretionary Portfolio Weights\"],\"xaxis\":\"x\",\"y\":[0.09,0.075,0.25,0.075,0.075,0.075,0.075,0.075,0.075,0.075,0.075,0.075],\"yaxis\":\"y\",\"type\":\"bar\"},{\"alignmentgroup\":\"True\",\"hovertemplate\":\"Stock Ticker=META\\u003cbr\\u003eindex=%{x}\\u003cbr\\u003eWeights=%{y}\\u003cextra\\u003e\\u003c\\u002fextra\\u003e\",\"legendgroup\":\"META\",\"marker\":{\"color\":\"#00cc96\",\"pattern\":{\"shape\":\"\"}},\"name\":\"META\",\"offsetgroup\":\"META\",\"orientation\":\"v\",\"showlegend\":true,\"textposition\":\"auto\",\"x\":[\"Control Portfolio Weights\",\"Technology Portfolio Weights\",\"Financial Portfolio Weights\",\"Consumer Services Portfolio Weights\",\"Industrial Portfolio Weights\",\"Energy Portfolio Weights\",\"Utilities Portfolio Weights\",\"Healthcare Portfolio Weights\",\"Materials Portfolio Weights\",\"Real Estate Portfolio Weights\",\"Consumer Staples Portfolio Weights\",\"Consumer Discretionary Portfolio Weights\"],\"xaxis\":\"x\",\"y\":[0.09,0.075,0.075,0.25,0.075,0.075,0.075,0.075,0.075,0.075,0.075,0.075],\"yaxis\":\"y\",\"type\":\"bar\"},{\"alignmentgroup\":\"True\",\"hovertemplate\":\"Stock Ticker=UNP\\u003cbr\\u003eindex=%{x}\\u003cbr\\u003eWeights=%{y}\\u003cextra\\u003e\\u003c\\u002fextra\\u003e\",\"legendgroup\":\"UNP\",\"marker\":{\"color\":\"#ab63fa\",\"pattern\":{\"shape\":\"\"}},\"name\":\"UNP\",\"offsetgroup\":\"UNP\",\"orientation\":\"v\",\"showlegend\":true,\"textposition\":\"auto\",\"x\":[\"Control Portfolio Weights\",\"Technology Portfolio Weights\",\"Financial Portfolio Weights\",\"Consumer Services Portfolio Weights\",\"Industrial Portfolio Weights\",\"Energy Portfolio Weights\",\"Utilities Portfolio Weights\",\"Healthcare Portfolio Weights\",\"Materials Portfolio Weights\",\"Real Estate Portfolio Weights\",\"Consumer Staples Portfolio Weights\",\"Consumer Discretionary Portfolio Weights\"],\"xaxis\":\"x\",\"y\":[0.09,0.075,0.075,0.075,0.25,0.075,0.075,0.075,0.075,0.075,0.075,0.075],\"yaxis\":\"y\",\"type\":\"bar\"},{\"alignmentgroup\":\"True\",\"hovertemplate\":\"Stock Ticker=XOM\\u003cbr\\u003eindex=%{x}\\u003cbr\\u003eWeights=%{y}\\u003cextra\\u003e\\u003c\\u002fextra\\u003e\",\"legendgroup\":\"XOM\",\"marker\":{\"color\":\"#FFA15A\",\"pattern\":{\"shape\":\"\"}},\"name\":\"XOM\",\"offsetgroup\":\"XOM\",\"orientation\":\"v\",\"showlegend\":true,\"textposition\":\"auto\",\"x\":[\"Control Portfolio Weights\",\"Technology Portfolio Weights\",\"Financial Portfolio Weights\",\"Consumer Services Portfolio Weights\",\"Industrial Portfolio Weights\",\"Energy Portfolio Weights\",\"Utilities Portfolio Weights\",\"Healthcare Portfolio Weights\",\"Materials Portfolio Weights\",\"Real Estate Portfolio Weights\",\"Consumer Staples Portfolio Weights\",\"Consumer Discretionary Portfolio Weights\"],\"xaxis\":\"x\",\"y\":[0.09,0.075,0.075,0.075,0.075,0.25,0.075,0.075,0.075,0.075,0.075,0.075],\"yaxis\":\"y\",\"type\":\"bar\"},{\"alignmentgroup\":\"True\",\"hovertemplate\":\"Stock Ticker=NEE\\u003cbr\\u003eindex=%{x}\\u003cbr\\u003eWeights=%{y}\\u003cextra\\u003e\\u003c\\u002fextra\\u003e\",\"legendgroup\":\"NEE\",\"marker\":{\"color\":\"#19d3f3\",\"pattern\":{\"shape\":\"\"}},\"name\":\"NEE\",\"offsetgroup\":\"NEE\",\"orientation\":\"v\",\"showlegend\":true,\"textposition\":\"auto\",\"x\":[\"Control Portfolio Weights\",\"Technology Portfolio Weights\",\"Financial Portfolio Weights\",\"Consumer Services Portfolio Weights\",\"Industrial Portfolio Weights\",\"Energy Portfolio Weights\",\"Utilities Portfolio Weights\",\"Healthcare Portfolio Weights\",\"Materials Portfolio Weights\",\"Real Estate Portfolio Weights\",\"Consumer Staples Portfolio Weights\",\"Consumer Discretionary Portfolio Weights\"],\"xaxis\":\"x\",\"y\":[0.09,0.075,0.075,0.075,0.075,0.075,0.25,0.075,0.075,0.075,0.075,0.075],\"yaxis\":\"y\",\"type\":\"bar\"},{\"alignmentgroup\":\"True\",\"hovertemplate\":\"Stock Ticker=UNH\\u003cbr\\u003eindex=%{x}\\u003cbr\\u003eWeights=%{y}\\u003cextra\\u003e\\u003c\\u002fextra\\u003e\",\"legendgroup\":\"UNH\",\"marker\":{\"color\":\"#FF6692\",\"pattern\":{\"shape\":\"\"}},\"name\":\"UNH\",\"offsetgroup\":\"UNH\",\"orientation\":\"v\",\"showlegend\":true,\"textposition\":\"auto\",\"x\":[\"Control Portfolio Weights\",\"Technology Portfolio Weights\",\"Financial Portfolio Weights\",\"Consumer Services Portfolio Weights\",\"Industrial Portfolio Weights\",\"Energy Portfolio Weights\",\"Utilities Portfolio Weights\",\"Healthcare Portfolio Weights\",\"Materials Portfolio Weights\",\"Real Estate Portfolio Weights\",\"Consumer Staples Portfolio Weights\",\"Consumer Discretionary Portfolio Weights\"],\"xaxis\":\"x\",\"y\":[0.09,0.075,0.075,0.075,0.075,0.075,0.075,0.25,0.075,0.075,0.075,0.075],\"yaxis\":\"y\",\"type\":\"bar\"},{\"alignmentgroup\":\"True\",\"hovertemplate\":\"Stock Ticker=RIO\\u003cbr\\u003eindex=%{x}\\u003cbr\\u003eWeights=%{y}\\u003cextra\\u003e\\u003c\\u002fextra\\u003e\",\"legendgroup\":\"RIO\",\"marker\":{\"color\":\"#B6E880\",\"pattern\":{\"shape\":\"\"}},\"name\":\"RIO\",\"offsetgroup\":\"RIO\",\"orientation\":\"v\",\"showlegend\":true,\"textposition\":\"auto\",\"x\":[\"Control Portfolio Weights\",\"Technology Portfolio Weights\",\"Financial Portfolio Weights\",\"Consumer Services Portfolio Weights\",\"Industrial Portfolio Weights\",\"Energy Portfolio Weights\",\"Utilities Portfolio Weights\",\"Healthcare Portfolio Weights\",\"Materials Portfolio Weights\",\"Real Estate Portfolio Weights\",\"Consumer Staples Portfolio Weights\",\"Consumer Discretionary Portfolio Weights\"],\"xaxis\":\"x\",\"y\":[0.09,0.075,0.075,0.075,0.075,0.075,0.075,0.075,0.25,0.075,0.075,0.075],\"yaxis\":\"y\",\"type\":\"bar\"},{\"alignmentgroup\":\"True\",\"hovertemplate\":\"Stock Ticker=EQIX\\u003cbr\\u003eindex=%{x}\\u003cbr\\u003eWeights=%{y}\\u003cextra\\u003e\\u003c\\u002fextra\\u003e\",\"legendgroup\":\"EQIX\",\"marker\":{\"color\":\"#FF97FF\",\"pattern\":{\"shape\":\"\"}},\"name\":\"EQIX\",\"offsetgroup\":\"EQIX\",\"orientation\":\"v\",\"showlegend\":true,\"textposition\":\"auto\",\"x\":[\"Control Portfolio Weights\",\"Technology Portfolio Weights\",\"Financial Portfolio Weights\",\"Consumer Services Portfolio Weights\",\"Industrial Portfolio Weights\",\"Energy Portfolio Weights\",\"Utilities Portfolio Weights\",\"Healthcare Portfolio Weights\",\"Materials Portfolio Weights\",\"Real Estate Portfolio Weights\",\"Consumer Staples Portfolio Weights\",\"Consumer Discretionary Portfolio Weights\"],\"xaxis\":\"x\",\"y\":[0.09,0.075,0.075,0.075,0.075,0.075,0.075,0.075,0.075,0.25,0.075,0.075],\"yaxis\":\"y\",\"type\":\"bar\"},{\"alignmentgroup\":\"True\",\"hovertemplate\":\"Stock Ticker=WMT\\u003cbr\\u003eindex=%{x}\\u003cbr\\u003eWeights=%{y}\\u003cextra\\u003e\\u003c\\u002fextra\\u003e\",\"legendgroup\":\"WMT\",\"marker\":{\"color\":\"#FECB52\",\"pattern\":{\"shape\":\"\"}},\"name\":\"WMT\",\"offsetgroup\":\"WMT\",\"orientation\":\"v\",\"showlegend\":true,\"textposition\":\"auto\",\"x\":[\"Control Portfolio Weights\",\"Technology Portfolio Weights\",\"Financial Portfolio Weights\",\"Consumer Services Portfolio Weights\",\"Industrial Portfolio Weights\",\"Energy Portfolio Weights\",\"Utilities Portfolio Weights\",\"Healthcare Portfolio Weights\",\"Materials Portfolio Weights\",\"Real Estate Portfolio Weights\",\"Consumer Staples Portfolio Weights\",\"Consumer Discretionary Portfolio Weights\"],\"xaxis\":\"x\",\"y\":[0.09,0.075,0.075,0.075,0.075,0.075,0.075,0.075,0.075,0.075,0.25,0.075],\"yaxis\":\"y\",\"type\":\"bar\"},{\"alignmentgroup\":\"True\",\"hovertemplate\":\"Stock Ticker=AMZN\\u003cbr\\u003eindex=%{x}\\u003cbr\\u003eWeights=%{y}\\u003cextra\\u003e\\u003c\\u002fextra\\u003e\",\"legendgroup\":\"AMZN\",\"marker\":{\"color\":\"#636efa\",\"pattern\":{\"shape\":\"\"}},\"name\":\"AMZN\",\"offsetgroup\":\"AMZN\",\"orientation\":\"v\",\"showlegend\":true,\"textposition\":\"auto\",\"x\":[\"Control Portfolio Weights\",\"Technology Portfolio Weights\",\"Financial Portfolio Weights\",\"Consumer Services Portfolio Weights\",\"Industrial Portfolio Weights\",\"Energy Portfolio Weights\",\"Utilities Portfolio Weights\",\"Healthcare Portfolio Weights\",\"Materials Portfolio Weights\",\"Real Estate Portfolio Weights\",\"Consumer Staples Portfolio Weights\",\"Consumer Discretionary Portfolio Weights\"],\"xaxis\":\"x\",\"y\":[0.09,0.075,0.075,0.075,0.075,0.075,0.075,0.075,0.075,0.075,0.075,0.25],\"yaxis\":\"y\",\"type\":\"bar\"}],                        {\"template\":{\"data\":{\"histogram2dcontour\":[{\"type\":\"histogram2dcontour\",\"colorbar\":{\"outlinewidth\":0,\"ticks\":\"\"},\"colorscale\":[[0.0,\"#0d0887\"],[0.1111111111111111,\"#46039f\"],[0.2222222222222222,\"#7201a8\"],[0.3333333333333333,\"#9c179e\"],[0.4444444444444444,\"#bd3786\"],[0.5555555555555556,\"#d8576b\"],[0.6666666666666666,\"#ed7953\"],[0.7777777777777778,\"#fb9f3a\"],[0.8888888888888888,\"#fdca26\"],[1.0,\"#f0f921\"]]}],\"choropleth\":[{\"type\":\"choropleth\",\"colorbar\":{\"outlinewidth\":0,\"ticks\":\"\"}}],\"histogram2d\":[{\"type\":\"histogram2d\",\"colorbar\":{\"outlinewidth\":0,\"ticks\":\"\"},\"colorscale\":[[0.0,\"#0d0887\"],[0.1111111111111111,\"#46039f\"],[0.2222222222222222,\"#7201a8\"],[0.3333333333333333,\"#9c179e\"],[0.4444444444444444,\"#bd3786\"],[0.5555555555555556,\"#d8576b\"],[0.6666666666666666,\"#ed7953\"],[0.7777777777777778,\"#fb9f3a\"],[0.8888888888888888,\"#fdca26\"],[1.0,\"#f0f921\"]]}],\"heatmap\":[{\"type\":\"heatmap\",\"colorbar\":{\"outlinewidth\":0,\"ticks\":\"\"},\"colorscale\":[[0.0,\"#0d0887\"],[0.1111111111111111,\"#46039f\"],[0.2222222222222222,\"#7201a8\"],[0.3333333333333333,\"#9c179e\"],[0.4444444444444444,\"#bd3786\"],[0.5555555555555556,\"#d8576b\"],[0.6666666666666666,\"#ed7953\"],[0.7777777777777778,\"#fb9f3a\"],[0.8888888888888888,\"#fdca26\"],[1.0,\"#f0f921\"]]}],\"heatmapgl\":[{\"type\":\"heatmapgl\",\"colorbar\":{\"outlinewidth\":0,\"ticks\":\"\"},\"colorscale\":[[0.0,\"#0d0887\"],[0.1111111111111111,\"#46039f\"],[0.2222222222222222,\"#7201a8\"],[0.3333333333333333,\"#9c179e\"],[0.4444444444444444,\"#bd3786\"],[0.5555555555555556,\"#d8576b\"],[0.6666666666666666,\"#ed7953\"],[0.7777777777777778,\"#fb9f3a\"],[0.8888888888888888,\"#fdca26\"],[1.0,\"#f0f921\"]]}],\"contourcarpet\":[{\"type\":\"contourcarpet\",\"colorbar\":{\"outlinewidth\":0,\"ticks\":\"\"}}],\"contour\":[{\"type\":\"contour\",\"colorbar\":{\"outlinewidth\":0,\"ticks\":\"\"},\"colorscale\":[[0.0,\"#0d0887\"],[0.1111111111111111,\"#46039f\"],[0.2222222222222222,\"#7201a8\"],[0.3333333333333333,\"#9c179e\"],[0.4444444444444444,\"#bd3786\"],[0.5555555555555556,\"#d8576b\"],[0.6666666666666666,\"#ed7953\"],[0.7777777777777778,\"#fb9f3a\"],[0.8888888888888888,\"#fdca26\"],[1.0,\"#f0f921\"]]}],\"surface\":[{\"type\":\"surface\",\"colorbar\":{\"outlinewidth\":0,\"ticks\":\"\"},\"colorscale\":[[0.0,\"#0d0887\"],[0.1111111111111111,\"#46039f\"],[0.2222222222222222,\"#7201a8\"],[0.3333333333333333,\"#9c179e\"],[0.4444444444444444,\"#bd3786\"],[0.5555555555555556,\"#d8576b\"],[0.6666666666666666,\"#ed7953\"],[0.7777777777777778,\"#fb9f3a\"],[0.8888888888888888,\"#fdca26\"],[1.0,\"#f0f921\"]]}],\"mesh3d\":[{\"type\":\"mesh3d\",\"colorbar\":{\"outlinewidth\":0,\"ticks\":\"\"}}],\"scatter\":[{\"fillpattern\":{\"fillmode\":\"overlay\",\"size\":10,\"solidity\":0.2},\"type\":\"scatter\"}],\"parcoords\":[{\"type\":\"parcoords\",\"line\":{\"colorbar\":{\"outlinewidth\":0,\"ticks\":\"\"}}}],\"scatterpolargl\":[{\"type\":\"scatterpolargl\",\"marker\":{\"colorbar\":{\"outlinewidth\":0,\"ticks\":\"\"}}}],\"bar\":[{\"error_x\":{\"color\":\"#2a3f5f\"},\"error_y\":{\"color\":\"#2a3f5f\"},\"marker\":{\"line\":{\"color\":\"#E5ECF6\",\"width\":0.5},\"pattern\":{\"fillmode\":\"overlay\",\"size\":10,\"solidity\":0.2}},\"type\":\"bar\"}],\"scattergeo\":[{\"type\":\"scattergeo\",\"marker\":{\"colorbar\":{\"outlinewidth\":0,\"ticks\":\"\"}}}],\"scatterpolar\":[{\"type\":\"scatterpolar\",\"marker\":{\"colorbar\":{\"outlinewidth\":0,\"ticks\":\"\"}}}],\"histogram\":[{\"marker\":{\"pattern\":{\"fillmode\":\"overlay\",\"size\":10,\"solidity\":0.2}},\"type\":\"histogram\"}],\"scattergl\":[{\"type\":\"scattergl\",\"marker\":{\"colorbar\":{\"outlinewidth\":0,\"ticks\":\"\"}}}],\"scatter3d\":[{\"type\":\"scatter3d\",\"line\":{\"colorbar\":{\"outlinewidth\":0,\"ticks\":\"\"}},\"marker\":{\"colorbar\":{\"outlinewidth\":0,\"ticks\":\"\"}}}],\"scattermapbox\":[{\"type\":\"scattermapbox\",\"marker\":{\"colorbar\":{\"outlinewidth\":0,\"ticks\":\"\"}}}],\"scatterternary\":[{\"type\":\"scatterternary\",\"marker\":{\"colorbar\":{\"outlinewidth\":0,\"ticks\":\"\"}}}],\"scattercarpet\":[{\"type\":\"scattercarpet\",\"marker\":{\"colorbar\":{\"outlinewidth\":0,\"ticks\":\"\"}}}],\"carpet\":[{\"aaxis\":{\"endlinecolor\":\"#2a3f5f\",\"gridcolor\":\"white\",\"linecolor\":\"white\",\"minorgridcolor\":\"white\",\"startlinecolor\":\"#2a3f5f\"},\"baxis\":{\"endlinecolor\":\"#2a3f5f\",\"gridcolor\":\"white\",\"linecolor\":\"white\",\"minorgridcolor\":\"white\",\"startlinecolor\":\"#2a3f5f\"},\"type\":\"carpet\"}],\"table\":[{\"cells\":{\"fill\":{\"color\":\"#EBF0F8\"},\"line\":{\"color\":\"white\"}},\"header\":{\"fill\":{\"color\":\"#C8D4E3\"},\"line\":{\"color\":\"white\"}},\"type\":\"table\"}],\"barpolar\":[{\"marker\":{\"line\":{\"color\":\"#E5ECF6\",\"width\":0.5},\"pattern\":{\"fillmode\":\"overlay\",\"size\":10,\"solidity\":0.2}},\"type\":\"barpolar\"}],\"pie\":[{\"automargin\":true,\"type\":\"pie\"}]},\"layout\":{\"autotypenumbers\":\"strict\",\"colorway\":[\"#636efa\",\"#EF553B\",\"#00cc96\",\"#ab63fa\",\"#FFA15A\",\"#19d3f3\",\"#FF6692\",\"#B6E880\",\"#FF97FF\",\"#FECB52\"],\"font\":{\"color\":\"#2a3f5f\"},\"hovermode\":\"closest\",\"hoverlabel\":{\"align\":\"left\"},\"paper_bgcolor\":\"white\",\"plot_bgcolor\":\"#E5ECF6\",\"polar\":{\"bgcolor\":\"#E5ECF6\",\"angularaxis\":{\"gridcolor\":\"white\",\"linecolor\":\"white\",\"ticks\":\"\"},\"radialaxis\":{\"gridcolor\":\"white\",\"linecolor\":\"white\",\"ticks\":\"\"}},\"ternary\":{\"bgcolor\":\"#E5ECF6\",\"aaxis\":{\"gridcolor\":\"white\",\"linecolor\":\"white\",\"ticks\":\"\"},\"baxis\":{\"gridcolor\":\"white\",\"linecolor\":\"white\",\"ticks\":\"\"},\"caxis\":{\"gridcolor\":\"white\",\"linecolor\":\"white\",\"ticks\":\"\"}},\"coloraxis\":{\"colorbar\":{\"outlinewidth\":0,\"ticks\":\"\"}},\"colorscale\":{\"sequential\":[[0.0,\"#0d0887\"],[0.1111111111111111,\"#46039f\"],[0.2222222222222222,\"#7201a8\"],[0.3333333333333333,\"#9c179e\"],[0.4444444444444444,\"#bd3786\"],[0.5555555555555556,\"#d8576b\"],[0.6666666666666666,\"#ed7953\"],[0.7777777777777778,\"#fb9f3a\"],[0.8888888888888888,\"#fdca26\"],[1.0,\"#f0f921\"]],\"sequentialminus\":[[0.0,\"#0d0887\"],[0.1111111111111111,\"#46039f\"],[0.2222222222222222,\"#7201a8\"],[0.3333333333333333,\"#9c179e\"],[0.4444444444444444,\"#bd3786\"],[0.5555555555555556,\"#d8576b\"],[0.6666666666666666,\"#ed7953\"],[0.7777777777777778,\"#fb9f3a\"],[0.8888888888888888,\"#fdca26\"],[1.0,\"#f0f921\"]],\"diverging\":[[0,\"#8e0152\"],[0.1,\"#c51b7d\"],[0.2,\"#de77ae\"],[0.3,\"#f1b6da\"],[0.4,\"#fde0ef\"],[0.5,\"#f7f7f7\"],[0.6,\"#e6f5d0\"],[0.7,\"#b8e186\"],[0.8,\"#7fbc41\"],[0.9,\"#4d9221\"],[1,\"#276419\"]]},\"xaxis\":{\"gridcolor\":\"white\",\"linecolor\":\"white\",\"ticks\":\"\",\"title\":{\"standoff\":15},\"zerolinecolor\":\"white\",\"automargin\":true,\"zerolinewidth\":2},\"yaxis\":{\"gridcolor\":\"white\",\"linecolor\":\"white\",\"ticks\":\"\",\"title\":{\"standoff\":15},\"zerolinecolor\":\"white\",\"automargin\":true,\"zerolinewidth\":2},\"scene\":{\"xaxis\":{\"backgroundcolor\":\"#E5ECF6\",\"gridcolor\":\"white\",\"linecolor\":\"white\",\"showbackground\":true,\"ticks\":\"\",\"zerolinecolor\":\"white\",\"gridwidth\":2},\"yaxis\":{\"backgroundcolor\":\"#E5ECF6\",\"gridcolor\":\"white\",\"linecolor\":\"white\",\"showbackground\":true,\"ticks\":\"\",\"zerolinecolor\":\"white\",\"gridwidth\":2},\"zaxis\":{\"backgroundcolor\":\"#E5ECF6\",\"gridcolor\":\"white\",\"linecolor\":\"white\",\"showbackground\":true,\"ticks\":\"\",\"zerolinecolor\":\"white\",\"gridwidth\":2}},\"shapedefaults\":{\"line\":{\"color\":\"#2a3f5f\"}},\"annotationdefaults\":{\"arrowcolor\":\"#2a3f5f\",\"arrowhead\":0,\"arrowwidth\":1},\"geo\":{\"bgcolor\":\"white\",\"landcolor\":\"#E5ECF6\",\"subunitcolor\":\"white\",\"showland\":true,\"showlakes\":true,\"lakecolor\":\"white\"},\"title\":{\"x\":0.05},\"mapbox\":{\"style\":\"light\"}}},\"xaxis\":{\"anchor\":\"y\",\"domain\":[0.0,1.0],\"title\":{\"text\":\"index\"}},\"yaxis\":{\"anchor\":\"x\",\"domain\":[0.0,1.0],\"title\":{\"text\":\"Weights\"}},\"legend\":{\"title\":{\"text\":\"Stock Ticker\"},\"tracegroupgap\":0},\"title\":{\"text\":\"Portfolio Weights\"},\"barmode\":\"relative\",\"height\":850,\"width\":1000},                        {\"responsive\": true}                    ).then(function(){\n",
       "                            \n",
       "var gd = document.getElementById('9df48305-3318-4925-9e2b-d99bda3ce479');\n",
       "var x = new MutationObserver(function (mutations, observer) {{\n",
       "        var display = window.getComputedStyle(gd).display;\n",
       "        if (!display || display === 'none') {{\n",
       "            console.log([gd, 'removed!']);\n",
       "            Plotly.purge(gd);\n",
       "            observer.disconnect();\n",
       "        }}\n",
       "}});\n",
       "\n",
       "// Listen for the removal of the full notebook cells\n",
       "var notebookContainer = gd.closest('#notebook-container');\n",
       "if (notebookContainer) {{\n",
       "    x.observe(notebookContainer, {childList: true});\n",
       "}}\n",
       "\n",
       "// Listen for the clearing of the current output cell\n",
       "var outputEl = gd.closest('.output');\n",
       "if (outputEl) {{\n",
       "    x.observe(outputEl, {childList: true});\n",
       "}}\n",
       "\n",
       "                        })                };                });            </script>        </div>"
      ]
     },
     "metadata": {},
     "output_type": "display_data"
    }
   ],
   "source": [
    "weights_df_fig = px.bar(weights_df.transpose(), labels={'value': 'Weights'}, title='Portfolio Weights', width=1000, height=850)\n",
    "weights_df_fig.show()"
   ]
  },
  {
   "cell_type": "code",
   "execution_count": null,
   "id": "8b4a1ca9-5f5d-4daa-a129-7d1fb2fb02b9",
   "metadata": {},
   "outputs": [],
   "source": [
    "# Look into dashboard"
   ]
  },
  {
   "cell_type": "code",
   "execution_count": null,
   "id": "0998d30b-9ee9-4de2-9261-2e61ad77d503",
   "metadata": {},
   "outputs": [],
   "source": [
    "# Bar chart for portfolio weights"
   ]
  },
  {
   "cell_type": "code",
   "execution_count": 99,
   "id": "b627182a-7e43-46ba-ae94-6c6babe346a2",
   "metadata": {
    "tags": []
   },
   "outputs": [
    {
     "data": {
      "text/html": [
       "<div>\n",
       "<style scoped>\n",
       "    .dataframe tbody tr th:only-of-type {\n",
       "        vertical-align: middle;\n",
       "    }\n",
       "\n",
       "    .dataframe tbody tr th {\n",
       "        vertical-align: top;\n",
       "    }\n",
       "\n",
       "    .dataframe thead th {\n",
       "        text-align: right;\n",
       "    }\n",
       "</style>\n",
       "<table border=\"1\" class=\"dataframe\">\n",
       "  <thead>\n",
       "    <tr style=\"text-align: right;\">\n",
       "      <th></th>\n",
       "      <th>Portfolio</th>\n",
       "      <th>Count</th>\n",
       "      <th>Mean</th>\n",
       "      <th>Std</th>\n",
       "      <th>Min</th>\n",
       "      <th>25%</th>\n",
       "      <th>50%</th>\n",
       "      <th>75%</th>\n",
       "      <th>Max</th>\n",
       "      <th>95% CI Lower</th>\n",
       "      <th>95% CI Upper</th>\n",
       "    </tr>\n",
       "  </thead>\n",
       "  <tbody>\n",
       "    <tr>\n",
       "      <th>0</th>\n",
       "      <td>Control Portfolio</td>\n",
       "      <td>500</td>\n",
       "      <td>1.545391</td>\n",
       "      <td>0.358682</td>\n",
       "      <td>0.703196</td>\n",
       "      <td>1.277155</td>\n",
       "      <td>1.505098</td>\n",
       "      <td>1.773814</td>\n",
       "      <td>3.242164</td>\n",
       "      <td>0.978377</td>\n",
       "      <td>2.296405</td>\n",
       "    </tr>\n",
       "    <tr>\n",
       "      <th>1</th>\n",
       "      <td>Technology Portfolio</td>\n",
       "      <td>500</td>\n",
       "      <td>1.659857</td>\n",
       "      <td>0.372502</td>\n",
       "      <td>0.870358</td>\n",
       "      <td>1.391495</td>\n",
       "      <td>1.621650</td>\n",
       "      <td>1.892591</td>\n",
       "      <td>2.958406</td>\n",
       "      <td>1.039767</td>\n",
       "      <td>2.450768</td>\n",
       "    </tr>\n",
       "    <tr>\n",
       "      <th>2</th>\n",
       "      <td>Financial Portfolio</td>\n",
       "      <td>500</td>\n",
       "      <td>1.615429</td>\n",
       "      <td>0.367757</td>\n",
       "      <td>0.664177</td>\n",
       "      <td>1.339905</td>\n",
       "      <td>1.574458</td>\n",
       "      <td>1.832107</td>\n",
       "      <td>3.257708</td>\n",
       "      <td>1.039084</td>\n",
       "      <td>2.495551</td>\n",
       "    </tr>\n",
       "    <tr>\n",
       "      <th>3</th>\n",
       "      <td>Consumer Services Portfolio</td>\n",
       "      <td>500</td>\n",
       "      <td>1.740296</td>\n",
       "      <td>0.543870</td>\n",
       "      <td>0.752176</td>\n",
       "      <td>1.353373</td>\n",
       "      <td>1.640123</td>\n",
       "      <td>2.091901</td>\n",
       "      <td>4.233898</td>\n",
       "      <td>0.948574</td>\n",
       "      <td>2.986681</td>\n",
       "    </tr>\n",
       "    <tr>\n",
       "      <th>4</th>\n",
       "      <td>Industrial Portfolio</td>\n",
       "      <td>500</td>\n",
       "      <td>1.578976</td>\n",
       "      <td>0.365985</td>\n",
       "      <td>0.788292</td>\n",
       "      <td>1.311028</td>\n",
       "      <td>1.548915</td>\n",
       "      <td>1.808063</td>\n",
       "      <td>2.950851</td>\n",
       "      <td>0.982911</td>\n",
       "      <td>2.390296</td>\n",
       "    </tr>\n",
       "    <tr>\n",
       "      <th>5</th>\n",
       "      <td>Energy Portfolio</td>\n",
       "      <td>500</td>\n",
       "      <td>1.952880</td>\n",
       "      <td>0.469835</td>\n",
       "      <td>0.776112</td>\n",
       "      <td>1.607052</td>\n",
       "      <td>1.894041</td>\n",
       "      <td>2.217046</td>\n",
       "      <td>3.666983</td>\n",
       "      <td>1.214852</td>\n",
       "      <td>2.997150</td>\n",
       "    </tr>\n",
       "    <tr>\n",
       "      <th>6</th>\n",
       "      <td>Utilities Portfolio</td>\n",
       "      <td>500</td>\n",
       "      <td>1.427392</td>\n",
       "      <td>0.334997</td>\n",
       "      <td>0.502422</td>\n",
       "      <td>1.191671</td>\n",
       "      <td>1.390096</td>\n",
       "      <td>1.624966</td>\n",
       "      <td>2.805759</td>\n",
       "      <td>0.887621</td>\n",
       "      <td>2.169756</td>\n",
       "    </tr>\n",
       "    <tr>\n",
       "      <th>7</th>\n",
       "      <td>Healthcare Portfolio</td>\n",
       "      <td>500</td>\n",
       "      <td>1.672034</td>\n",
       "      <td>0.394731</td>\n",
       "      <td>0.832961</td>\n",
       "      <td>1.391577</td>\n",
       "      <td>1.622487</td>\n",
       "      <td>1.891133</td>\n",
       "      <td>3.104243</td>\n",
       "      <td>0.991597</td>\n",
       "      <td>2.582875</td>\n",
       "    </tr>\n",
       "    <tr>\n",
       "      <th>8</th>\n",
       "      <td>Materials Portfolio</td>\n",
       "      <td>500</td>\n",
       "      <td>1.499294</td>\n",
       "      <td>0.387952</td>\n",
       "      <td>0.726631</td>\n",
       "      <td>1.205730</td>\n",
       "      <td>1.452233</td>\n",
       "      <td>1.722245</td>\n",
       "      <td>3.211989</td>\n",
       "      <td>0.915699</td>\n",
       "      <td>2.345870</td>\n",
       "    </tr>\n",
       "    <tr>\n",
       "      <th>9</th>\n",
       "      <td>Real Estate Portfolio</td>\n",
       "      <td>500</td>\n",
       "      <td>1.544857</td>\n",
       "      <td>0.378868</td>\n",
       "      <td>0.746463</td>\n",
       "      <td>1.261457</td>\n",
       "      <td>1.502943</td>\n",
       "      <td>1.763815</td>\n",
       "      <td>3.529010</td>\n",
       "      <td>0.954109</td>\n",
       "      <td>2.403055</td>\n",
       "    </tr>\n",
       "    <tr>\n",
       "      <th>10</th>\n",
       "      <td>Consumer Staples Portfolio</td>\n",
       "      <td>500</td>\n",
       "      <td>1.523139</td>\n",
       "      <td>0.340528</td>\n",
       "      <td>0.787898</td>\n",
       "      <td>1.282223</td>\n",
       "      <td>1.475149</td>\n",
       "      <td>1.712802</td>\n",
       "      <td>3.012248</td>\n",
       "      <td>0.983309</td>\n",
       "      <td>2.349423</td>\n",
       "    </tr>\n",
       "    <tr>\n",
       "      <th>11</th>\n",
       "      <td>Consumer Discretionary Portfolio</td>\n",
       "      <td>500</td>\n",
       "      <td>1.255082</td>\n",
       "      <td>0.550978</td>\n",
       "      <td>0.377275</td>\n",
       "      <td>0.859306</td>\n",
       "      <td>1.154307</td>\n",
       "      <td>1.563726</td>\n",
       "      <td>3.989297</td>\n",
       "      <td>0.479429</td>\n",
       "      <td>2.602098</td>\n",
       "    </tr>\n",
       "  </tbody>\n",
       "</table>\n",
       "</div>"
      ],
      "text/plain": [
       "                           Portfolio  Count      Mean       Std       Min  \\\n",
       "0                  Control Portfolio    500  1.545391  0.358682  0.703196   \n",
       "1               Technology Portfolio    500  1.659857  0.372502  0.870358   \n",
       "2                Financial Portfolio    500  1.615429  0.367757  0.664177   \n",
       "3        Consumer Services Portfolio    500  1.740296  0.543870  0.752176   \n",
       "4               Industrial Portfolio    500  1.578976  0.365985  0.788292   \n",
       "5                   Energy Portfolio    500  1.952880  0.469835  0.776112   \n",
       "6                Utilities Portfolio    500  1.427392  0.334997  0.502422   \n",
       "7               Healthcare Portfolio    500  1.672034  0.394731  0.832961   \n",
       "8                Materials Portfolio    500  1.499294  0.387952  0.726631   \n",
       "9              Real Estate Portfolio    500  1.544857  0.378868  0.746463   \n",
       "10        Consumer Staples Portfolio    500  1.523139  0.340528  0.787898   \n",
       "11  Consumer Discretionary Portfolio    500  1.255082  0.550978  0.377275   \n",
       "\n",
       "         25%       50%       75%       Max  95% CI Lower  95% CI Upper  \n",
       "0   1.277155  1.505098  1.773814  3.242164      0.978377      2.296405  \n",
       "1   1.391495  1.621650  1.892591  2.958406      1.039767      2.450768  \n",
       "2   1.339905  1.574458  1.832107  3.257708      1.039084      2.495551  \n",
       "3   1.353373  1.640123  2.091901  4.233898      0.948574      2.986681  \n",
       "4   1.311028  1.548915  1.808063  2.950851      0.982911      2.390296  \n",
       "5   1.607052  1.894041  2.217046  3.666983      1.214852      2.997150  \n",
       "6   1.191671  1.390096  1.624966  2.805759      0.887621      2.169756  \n",
       "7   1.391577  1.622487  1.891133  3.104243      0.991597      2.582875  \n",
       "8   1.205730  1.452233  1.722245  3.211989      0.915699      2.345870  \n",
       "9   1.261457  1.502943  1.763815  3.529010      0.954109      2.403055  \n",
       "10  1.282223  1.475149  1.712802  3.012248      0.983309      2.349423  \n",
       "11  0.859306  1.154307  1.563726  3.989297      0.479429      2.602098  "
      ]
     },
     "execution_count": 99,
     "metadata": {},
     "output_type": "execute_result"
    }
   ],
   "source": [
    "#summary statistics data from MC summary stats\n",
    "summary_data = {\n",
    "    'Portfolio': ['Control Portfolio', 'Technology Portfolio', 'Financial Portfolio', 'Consumer Services Portfolio', 'Industrial Portfolio', 'Energy Portfolio', 'Utilities Portfolio', 'Healthcare Portfolio', 'Materials Portfolio', 'Real Estate Portfolio', 'Consumer Staples Portfolio', 'Consumer Discretionary Portfolio'],\n",
    "    'Count': [500, 500, 500, 500, 500, 500, 500, 500, 500, 500, 500, 500],\n",
    "    'Mean': [1.545391, 1.659857, 1.615429, 1.740296, 1.578976, 1.952880, 1.427392, 1.672034, 1.499294, 1.544857, 1.523139, 1.255082],\n",
    "    'Std': [0.358682, 0.372502, 0.367757, 0.543870, 0.365985, 0.469835, 0.334997, 0.394731, 0.387952, 0.378868, 0.340528, 0.550978],\n",
    "    'Min': [0.703196, 0.870358, 0.664177, 0.752176, 0.788292, 0.776112, 0.502422, 0.832961, 0.726631, 0.746463, 0.787898, 0.377275],\n",
    "    '25%': [1.277155, 1.391495, 1.339905, 1.353373, 1.311028, 1.607052, 1.191671, 1.391577, 1.205730, 1.261457, 1.282223, 0.859306],\n",
    "    '50%': [1.505098, 1.621650, 1.574458, 1.640123, 1.548915, 1.894041, 1.390096, 1.622487, 1.452233, 1.502943, 1.475149, 1.154307],\n",
    "    '75%': [1.773814, 1.892591, 1.832107, 2.091901, 1.808063, 2.217046, 1.624966, 1.891133, 1.722245, 1.763815, 1.712802, 1.563726],\n",
    "    'Max': [3.242164, 2.958406, 3.257708, 4.233898, 2.950851, 3.666983, 2.805759, 3.104243, 3.211989, 3.529010, 3.012248, 3.989297],\n",
    "    '95% CI Lower': [0.978377, 1.039767, 1.039084, 0.948574, 0.982911, 1.214852, 0.887621, 0.991597, 0.915699, 0.954109, 0.983309, 0.479429],\n",
    "    '95% CI Upper': [2.296405, 2.450768, 2.495551, 2.986681, 2.390296, 2.997150, 2.169756, 2.582875, 2.345870, 2.403055, 2.349423, 2.602098],\n",
    "}\n",
    "\n",
    "# Create DataFrame\n",
    "all_mc_summary_stats = pd.DataFrame(summary_data)\n",
    "\n",
    "\n",
    "\n",
    "# Display the DataFrame\n",
    "all_mc_summary_stats"
   ]
  },
  {
   "cell_type": "code",
   "execution_count": 100,
   "id": "ccca5efb-8ca8-4b7c-810c-08c728493b4d",
   "metadata": {
    "tags": []
   },
   "outputs": [
    {
     "data": {
      "application/vnd.plotly.v1+json": {
       "config": {
        "plotlyServerURL": "https://plot.ly"
       },
       "data": [
        {
         "alignmentgroup": "True",
         "hovertemplate": "Std=0.358682<br>Portfolio Value=%{x}<br>Portfolio=%{y}<extra></extra>",
         "legendgroup": "0.358682",
         "marker": {
          "color": "#636efa"
         },
         "name": "0.358682",
         "notched": false,
         "offsetgroup": "0.358682",
         "orientation": "h",
         "showlegend": true,
         "type": "box",
         "x": [
          19567.54,
          45928.1
         ],
         "x0": " ",
         "xaxis": "x",
         "y": [
          "Control Portfolio",
          "Control Portfolio"
         ],
         "y0": " ",
         "yaxis": "y"
        },
        {
         "alignmentgroup": "True",
         "hovertemplate": "Std=0.372502<br>Portfolio Value=%{x}<br>Portfolio=%{y}<extra></extra>",
         "legendgroup": "0.372502",
         "marker": {
          "color": "#EF553B"
         },
         "name": "0.372502",
         "notched": false,
         "offsetgroup": "0.372502",
         "orientation": "h",
         "showlegend": true,
         "type": "box",
         "x": [
          20795.340000000004,
          49015.36
         ],
         "x0": " ",
         "xaxis": "x",
         "y": [
          "Technology Portfolio",
          "Technology Portfolio"
         ],
         "y0": " ",
         "yaxis": "y"
        },
        {
         "alignmentgroup": "True",
         "hovertemplate": "Std=0.367757<br>Portfolio Value=%{x}<br>Portfolio=%{y}<extra></extra>",
         "legendgroup": "0.367757",
         "marker": {
          "color": "#00cc96"
         },
         "name": "0.367757",
         "notched": false,
         "offsetgroup": "0.367757",
         "orientation": "h",
         "showlegend": true,
         "type": "box",
         "x": [
          20781.679999999997,
          49911.02
         ],
         "x0": " ",
         "xaxis": "x",
         "y": [
          "Financial Portfolio",
          "Financial Portfolio"
         ],
         "y0": " ",
         "yaxis": "y"
        },
        {
         "alignmentgroup": "True",
         "hovertemplate": "Std=0.54387<br>Portfolio Value=%{x}<br>Portfolio=%{y}<extra></extra>",
         "legendgroup": "0.54387",
         "marker": {
          "color": "#ab63fa"
         },
         "name": "0.54387",
         "notched": false,
         "offsetgroup": "0.54387",
         "orientation": "h",
         "showlegend": true,
         "type": "box",
         "x": [
          18971.48,
          59733.619999999995
         ],
         "x0": " ",
         "xaxis": "x",
         "y": [
          "Consumer Services Portfolio",
          "Consumer Services Portfolio"
         ],
         "y0": " ",
         "yaxis": "y"
        },
        {
         "alignmentgroup": "True",
         "hovertemplate": "Std=0.365985<br>Portfolio Value=%{x}<br>Portfolio=%{y}<extra></extra>",
         "legendgroup": "0.365985",
         "marker": {
          "color": "#FFA15A"
         },
         "name": "0.365985",
         "notched": false,
         "offsetgroup": "0.365985",
         "orientation": "h",
         "showlegend": true,
         "type": "box",
         "x": [
          19658.22,
          47805.920000000006
         ],
         "x0": " ",
         "xaxis": "x",
         "y": [
          "Industrial Portfolio",
          "Industrial Portfolio"
         ],
         "y0": " ",
         "yaxis": "y"
        },
        {
         "alignmentgroup": "True",
         "hovertemplate": "Std=0.469835<br>Portfolio Value=%{x}<br>Portfolio=%{y}<extra></extra>",
         "legendgroup": "0.469835",
         "marker": {
          "color": "#19d3f3"
         },
         "name": "0.469835",
         "notched": false,
         "offsetgroup": "0.469835",
         "orientation": "h",
         "showlegend": true,
         "type": "box",
         "x": [
          24297.04,
          59943
         ],
         "x0": " ",
         "xaxis": "x",
         "y": [
          "Energy Portfolio",
          "Energy Portfolio"
         ],
         "y0": " ",
         "yaxis": "y"
        },
        {
         "alignmentgroup": "True",
         "hovertemplate": "Std=0.334997<br>Portfolio Value=%{x}<br>Portfolio=%{y}<extra></extra>",
         "legendgroup": "0.334997",
         "marker": {
          "color": "#FF6692"
         },
         "name": "0.334997",
         "notched": false,
         "offsetgroup": "0.334997",
         "orientation": "h",
         "showlegend": true,
         "type": "box",
         "x": [
          17752.42,
          43395.12
         ],
         "x0": " ",
         "xaxis": "x",
         "y": [
          "Utilities Portfolio",
          "Utilities Portfolio"
         ],
         "y0": " ",
         "yaxis": "y"
        },
        {
         "alignmentgroup": "True",
         "hovertemplate": "Std=0.394731<br>Portfolio Value=%{x}<br>Portfolio=%{y}<extra></extra>",
         "legendgroup": "0.394731",
         "marker": {
          "color": "#B6E880"
         },
         "name": "0.394731",
         "notched": false,
         "offsetgroup": "0.394731",
         "orientation": "h",
         "showlegend": true,
         "type": "box",
         "x": [
          19831.94,
          51657.5
         ],
         "x0": " ",
         "xaxis": "x",
         "y": [
          "Healthcare Portfolio",
          "Healthcare Portfolio"
         ],
         "y0": " ",
         "yaxis": "y"
        },
        {
         "alignmentgroup": "True",
         "hovertemplate": "Std=0.387952<br>Portfolio Value=%{x}<br>Portfolio=%{y}<extra></extra>",
         "legendgroup": "0.387952",
         "marker": {
          "color": "#FF97FF"
         },
         "name": "0.387952",
         "notched": false,
         "offsetgroup": "0.387952",
         "orientation": "h",
         "showlegend": true,
         "type": "box",
         "x": [
          18313.98,
          46917.4
         ],
         "x0": " ",
         "xaxis": "x",
         "y": [
          "Materials Portfolio",
          "Materials Portfolio"
         ],
         "y0": " ",
         "yaxis": "y"
        },
        {
         "alignmentgroup": "True",
         "hovertemplate": "Std=0.378868<br>Portfolio Value=%{x}<br>Portfolio=%{y}<extra></extra>",
         "legendgroup": "0.378868",
         "marker": {
          "color": "#FECB52"
         },
         "name": "0.378868",
         "notched": false,
         "offsetgroup": "0.378868",
         "orientation": "h",
         "showlegend": true,
         "type": "box",
         "x": [
          19082.18,
          48061.100000000006
         ],
         "x0": " ",
         "xaxis": "x",
         "y": [
          "Real Estate Portfolio",
          "Real Estate Portfolio"
         ],
         "y0": " ",
         "yaxis": "y"
        },
        {
         "alignmentgroup": "True",
         "hovertemplate": "Std=0.340528<br>Portfolio Value=%{x}<br>Portfolio=%{y}<extra></extra>",
         "legendgroup": "0.340528",
         "marker": {
          "color": "#636efa"
         },
         "name": "0.340528",
         "notched": false,
         "offsetgroup": "0.340528",
         "orientation": "h",
         "showlegend": true,
         "type": "box",
         "x": [
          19666.18,
          46988.46
         ],
         "x0": " ",
         "xaxis": "x",
         "y": [
          "Consumer Staples Portfolio",
          "Consumer Staples Portfolio"
         ],
         "y0": " ",
         "yaxis": "y"
        },
        {
         "alignmentgroup": "True",
         "hovertemplate": "Std=0.550978<br>Portfolio Value=%{x}<br>Portfolio=%{y}<extra></extra>",
         "legendgroup": "0.550978",
         "marker": {
          "color": "#EF553B"
         },
         "name": "0.550978",
         "notched": false,
         "offsetgroup": "0.550978",
         "orientation": "h",
         "showlegend": true,
         "type": "box",
         "x": [
          9588.58,
          52041.96
         ],
         "x0": " ",
         "xaxis": "x",
         "y": [
          "Consumer Discretionary Portfolio",
          "Consumer Discretionary Portfolio"
         ],
         "y0": " ",
         "yaxis": "y"
        }
       ],
       "layout": {
        "autosize": true,
        "boxmode": "group",
        "legend": {
         "title": {
          "text": "Standard Deviation"
         },
         "tracegroupgap": 0,
         "traceorder": "normal"
        },
        "template": {
         "data": {
          "bar": [
           {
            "error_x": {
             "color": "#2a3f5f"
            },
            "error_y": {
             "color": "#2a3f5f"
            },
            "marker": {
             "line": {
              "color": "#E5ECF6",
              "width": 0.5
             },
             "pattern": {
              "fillmode": "overlay",
              "size": 10,
              "solidity": 0.2
             }
            },
            "type": "bar"
           }
          ],
          "barpolar": [
           {
            "marker": {
             "line": {
              "color": "#E5ECF6",
              "width": 0.5
             },
             "pattern": {
              "fillmode": "overlay",
              "size": 10,
              "solidity": 0.2
             }
            },
            "type": "barpolar"
           }
          ],
          "carpet": [
           {
            "aaxis": {
             "endlinecolor": "#2a3f5f",
             "gridcolor": "white",
             "linecolor": "white",
             "minorgridcolor": "white",
             "startlinecolor": "#2a3f5f"
            },
            "baxis": {
             "endlinecolor": "#2a3f5f",
             "gridcolor": "white",
             "linecolor": "white",
             "minorgridcolor": "white",
             "startlinecolor": "#2a3f5f"
            },
            "type": "carpet"
           }
          ],
          "choropleth": [
           {
            "colorbar": {
             "outlinewidth": 0,
             "ticks": ""
            },
            "type": "choropleth"
           }
          ],
          "contour": [
           {
            "colorbar": {
             "outlinewidth": 0,
             "ticks": ""
            },
            "colorscale": [
             [
              0,
              "#0d0887"
             ],
             [
              0.1111111111111111,
              "#46039f"
             ],
             [
              0.2222222222222222,
              "#7201a8"
             ],
             [
              0.3333333333333333,
              "#9c179e"
             ],
             [
              0.4444444444444444,
              "#bd3786"
             ],
             [
              0.5555555555555556,
              "#d8576b"
             ],
             [
              0.6666666666666666,
              "#ed7953"
             ],
             [
              0.7777777777777778,
              "#fb9f3a"
             ],
             [
              0.8888888888888888,
              "#fdca26"
             ],
             [
              1,
              "#f0f921"
             ]
            ],
            "type": "contour"
           }
          ],
          "contourcarpet": [
           {
            "colorbar": {
             "outlinewidth": 0,
             "ticks": ""
            },
            "type": "contourcarpet"
           }
          ],
          "heatmap": [
           {
            "colorbar": {
             "outlinewidth": 0,
             "ticks": ""
            },
            "colorscale": [
             [
              0,
              "#0d0887"
             ],
             [
              0.1111111111111111,
              "#46039f"
             ],
             [
              0.2222222222222222,
              "#7201a8"
             ],
             [
              0.3333333333333333,
              "#9c179e"
             ],
             [
              0.4444444444444444,
              "#bd3786"
             ],
             [
              0.5555555555555556,
              "#d8576b"
             ],
             [
              0.6666666666666666,
              "#ed7953"
             ],
             [
              0.7777777777777778,
              "#fb9f3a"
             ],
             [
              0.8888888888888888,
              "#fdca26"
             ],
             [
              1,
              "#f0f921"
             ]
            ],
            "type": "heatmap"
           }
          ],
          "heatmapgl": [
           {
            "colorbar": {
             "outlinewidth": 0,
             "ticks": ""
            },
            "colorscale": [
             [
              0,
              "#0d0887"
             ],
             [
              0.1111111111111111,
              "#46039f"
             ],
             [
              0.2222222222222222,
              "#7201a8"
             ],
             [
              0.3333333333333333,
              "#9c179e"
             ],
             [
              0.4444444444444444,
              "#bd3786"
             ],
             [
              0.5555555555555556,
              "#d8576b"
             ],
             [
              0.6666666666666666,
              "#ed7953"
             ],
             [
              0.7777777777777778,
              "#fb9f3a"
             ],
             [
              0.8888888888888888,
              "#fdca26"
             ],
             [
              1,
              "#f0f921"
             ]
            ],
            "type": "heatmapgl"
           }
          ],
          "histogram": [
           {
            "marker": {
             "pattern": {
              "fillmode": "overlay",
              "size": 10,
              "solidity": 0.2
             }
            },
            "type": "histogram"
           }
          ],
          "histogram2d": [
           {
            "colorbar": {
             "outlinewidth": 0,
             "ticks": ""
            },
            "colorscale": [
             [
              0,
              "#0d0887"
             ],
             [
              0.1111111111111111,
              "#46039f"
             ],
             [
              0.2222222222222222,
              "#7201a8"
             ],
             [
              0.3333333333333333,
              "#9c179e"
             ],
             [
              0.4444444444444444,
              "#bd3786"
             ],
             [
              0.5555555555555556,
              "#d8576b"
             ],
             [
              0.6666666666666666,
              "#ed7953"
             ],
             [
              0.7777777777777778,
              "#fb9f3a"
             ],
             [
              0.8888888888888888,
              "#fdca26"
             ],
             [
              1,
              "#f0f921"
             ]
            ],
            "type": "histogram2d"
           }
          ],
          "histogram2dcontour": [
           {
            "colorbar": {
             "outlinewidth": 0,
             "ticks": ""
            },
            "colorscale": [
             [
              0,
              "#0d0887"
             ],
             [
              0.1111111111111111,
              "#46039f"
             ],
             [
              0.2222222222222222,
              "#7201a8"
             ],
             [
              0.3333333333333333,
              "#9c179e"
             ],
             [
              0.4444444444444444,
              "#bd3786"
             ],
             [
              0.5555555555555556,
              "#d8576b"
             ],
             [
              0.6666666666666666,
              "#ed7953"
             ],
             [
              0.7777777777777778,
              "#fb9f3a"
             ],
             [
              0.8888888888888888,
              "#fdca26"
             ],
             [
              1,
              "#f0f921"
             ]
            ],
            "type": "histogram2dcontour"
           }
          ],
          "mesh3d": [
           {
            "colorbar": {
             "outlinewidth": 0,
             "ticks": ""
            },
            "type": "mesh3d"
           }
          ],
          "parcoords": [
           {
            "line": {
             "colorbar": {
              "outlinewidth": 0,
              "ticks": ""
             }
            },
            "type": "parcoords"
           }
          ],
          "pie": [
           {
            "automargin": true,
            "type": "pie"
           }
          ],
          "scatter": [
           {
            "fillpattern": {
             "fillmode": "overlay",
             "size": 10,
             "solidity": 0.2
            },
            "type": "scatter"
           }
          ],
          "scatter3d": [
           {
            "line": {
             "colorbar": {
              "outlinewidth": 0,
              "ticks": ""
             }
            },
            "marker": {
             "colorbar": {
              "outlinewidth": 0,
              "ticks": ""
             }
            },
            "type": "scatter3d"
           }
          ],
          "scattercarpet": [
           {
            "marker": {
             "colorbar": {
              "outlinewidth": 0,
              "ticks": ""
             }
            },
            "type": "scattercarpet"
           }
          ],
          "scattergeo": [
           {
            "marker": {
             "colorbar": {
              "outlinewidth": 0,
              "ticks": ""
             }
            },
            "type": "scattergeo"
           }
          ],
          "scattergl": [
           {
            "marker": {
             "colorbar": {
              "outlinewidth": 0,
              "ticks": ""
             }
            },
            "type": "scattergl"
           }
          ],
          "scattermapbox": [
           {
            "marker": {
             "colorbar": {
              "outlinewidth": 0,
              "ticks": ""
             }
            },
            "type": "scattermapbox"
           }
          ],
          "scatterpolar": [
           {
            "marker": {
             "colorbar": {
              "outlinewidth": 0,
              "ticks": ""
             }
            },
            "type": "scatterpolar"
           }
          ],
          "scatterpolargl": [
           {
            "marker": {
             "colorbar": {
              "outlinewidth": 0,
              "ticks": ""
             }
            },
            "type": "scatterpolargl"
           }
          ],
          "scatterternary": [
           {
            "marker": {
             "colorbar": {
              "outlinewidth": 0,
              "ticks": ""
             }
            },
            "type": "scatterternary"
           }
          ],
          "surface": [
           {
            "colorbar": {
             "outlinewidth": 0,
             "ticks": ""
            },
            "colorscale": [
             [
              0,
              "#0d0887"
             ],
             [
              0.1111111111111111,
              "#46039f"
             ],
             [
              0.2222222222222222,
              "#7201a8"
             ],
             [
              0.3333333333333333,
              "#9c179e"
             ],
             [
              0.4444444444444444,
              "#bd3786"
             ],
             [
              0.5555555555555556,
              "#d8576b"
             ],
             [
              0.6666666666666666,
              "#ed7953"
             ],
             [
              0.7777777777777778,
              "#fb9f3a"
             ],
             [
              0.8888888888888888,
              "#fdca26"
             ],
             [
              1,
              "#f0f921"
             ]
            ],
            "type": "surface"
           }
          ],
          "table": [
           {
            "cells": {
             "fill": {
              "color": "#EBF0F8"
             },
             "line": {
              "color": "white"
             }
            },
            "header": {
             "fill": {
              "color": "#C8D4E3"
             },
             "line": {
              "color": "white"
             }
            },
            "type": "table"
           }
          ]
         },
         "layout": {
          "annotationdefaults": {
           "arrowcolor": "#2a3f5f",
           "arrowhead": 0,
           "arrowwidth": 1
          },
          "autotypenumbers": "strict",
          "coloraxis": {
           "colorbar": {
            "outlinewidth": 0,
            "ticks": ""
           }
          },
          "colorscale": {
           "diverging": [
            [
             0,
             "#8e0152"
            ],
            [
             0.1,
             "#c51b7d"
            ],
            [
             0.2,
             "#de77ae"
            ],
            [
             0.3,
             "#f1b6da"
            ],
            [
             0.4,
             "#fde0ef"
            ],
            [
             0.5,
             "#f7f7f7"
            ],
            [
             0.6,
             "#e6f5d0"
            ],
            [
             0.7,
             "#b8e186"
            ],
            [
             0.8,
             "#7fbc41"
            ],
            [
             0.9,
             "#4d9221"
            ],
            [
             1,
             "#276419"
            ]
           ],
           "sequential": [
            [
             0,
             "#0d0887"
            ],
            [
             0.1111111111111111,
             "#46039f"
            ],
            [
             0.2222222222222222,
             "#7201a8"
            ],
            [
             0.3333333333333333,
             "#9c179e"
            ],
            [
             0.4444444444444444,
             "#bd3786"
            ],
            [
             0.5555555555555556,
             "#d8576b"
            ],
            [
             0.6666666666666666,
             "#ed7953"
            ],
            [
             0.7777777777777778,
             "#fb9f3a"
            ],
            [
             0.8888888888888888,
             "#fdca26"
            ],
            [
             1,
             "#f0f921"
            ]
           ],
           "sequentialminus": [
            [
             0,
             "#0d0887"
            ],
            [
             0.1111111111111111,
             "#46039f"
            ],
            [
             0.2222222222222222,
             "#7201a8"
            ],
            [
             0.3333333333333333,
             "#9c179e"
            ],
            [
             0.4444444444444444,
             "#bd3786"
            ],
            [
             0.5555555555555556,
             "#d8576b"
            ],
            [
             0.6666666666666666,
             "#ed7953"
            ],
            [
             0.7777777777777778,
             "#fb9f3a"
            ],
            [
             0.8888888888888888,
             "#fdca26"
            ],
            [
             1,
             "#f0f921"
            ]
           ]
          },
          "colorway": [
           "#636efa",
           "#EF553B",
           "#00cc96",
           "#ab63fa",
           "#FFA15A",
           "#19d3f3",
           "#FF6692",
           "#B6E880",
           "#FF97FF",
           "#FECB52"
          ],
          "font": {
           "color": "#2a3f5f"
          },
          "geo": {
           "bgcolor": "white",
           "lakecolor": "white",
           "landcolor": "#E5ECF6",
           "showlakes": true,
           "showland": true,
           "subunitcolor": "white"
          },
          "hoverlabel": {
           "align": "left"
          },
          "hovermode": "closest",
          "mapbox": {
           "style": "light"
          },
          "paper_bgcolor": "white",
          "plot_bgcolor": "#E5ECF6",
          "polar": {
           "angularaxis": {
            "gridcolor": "white",
            "linecolor": "white",
            "ticks": ""
           },
           "bgcolor": "#E5ECF6",
           "radialaxis": {
            "gridcolor": "white",
            "linecolor": "white",
            "ticks": ""
           }
          },
          "scene": {
           "xaxis": {
            "backgroundcolor": "#E5ECF6",
            "gridcolor": "white",
            "gridwidth": 2,
            "linecolor": "white",
            "showbackground": true,
            "ticks": "",
            "zerolinecolor": "white"
           },
           "yaxis": {
            "backgroundcolor": "#E5ECF6",
            "gridcolor": "white",
            "gridwidth": 2,
            "linecolor": "white",
            "showbackground": true,
            "ticks": "",
            "zerolinecolor": "white"
           },
           "zaxis": {
            "backgroundcolor": "#E5ECF6",
            "gridcolor": "white",
            "gridwidth": 2,
            "linecolor": "white",
            "showbackground": true,
            "ticks": "",
            "zerolinecolor": "white"
           }
          },
          "shapedefaults": {
           "line": {
            "color": "#2a3f5f"
           }
          },
          "ternary": {
           "aaxis": {
            "gridcolor": "white",
            "linecolor": "white",
            "ticks": ""
           },
           "baxis": {
            "gridcolor": "white",
            "linecolor": "white",
            "ticks": ""
           },
           "bgcolor": "#E5ECF6",
           "caxis": {
            "gridcolor": "white",
            "linecolor": "white",
            "ticks": ""
           }
          },
          "title": {
           "x": 0.05
          },
          "xaxis": {
           "automargin": true,
           "gridcolor": "white",
           "linecolor": "white",
           "ticks": "",
           "title": {
            "standoff": 15
           },
           "zerolinecolor": "white",
           "zerolinewidth": 2
          },
          "yaxis": {
           "automargin": true,
           "gridcolor": "white",
           "linecolor": "white",
           "ticks": "",
           "title": {
            "standoff": 15
           },
           "zerolinecolor": "white",
           "zerolinewidth": 2
          }
         }
        },
        "title": {
         "text": "Potential Portfolio Values from 5 Year Monte Carlo Simulation with an initial investment of $20,000"
        },
        "xaxis": {
         "anchor": "y",
         "autorange": true,
         "domain": [
          0,
          1
         ],
         "range": [
          6791.112222222222,
          62740.467777777776
         ],
         "title": {
          "text": "Portfolio Value"
         },
         "type": "linear"
        },
        "yaxis": {
         "anchor": "x",
         "autorange": true,
         "categoryorder": "total ascending",
         "domain": [
          0,
          1
         ],
         "range": [
          -0.5,
          11.5
         ],
         "title": {
          "text": "Portfolio"
         },
         "type": "category"
        }
       }
      },
      "image/png": "[encoded data removed]",
      "text/html": [
       "<div>                            <div id=\"dd2726e5-9e5e-45de-90d8-7473f326cb9d\" class=\"plotly-graph-div\" style=\"height:525px; width:100%;\"></div>            <script type=\"text/javascript\">                require([\"plotly\"], function(Plotly) {                    window.PLOTLYENV=window.PLOTLYENV || {};                                    if (document.getElementById(\"dd2726e5-9e5e-45de-90d8-7473f326cb9d\")) {                    Plotly.newPlot(                        \"dd2726e5-9e5e-45de-90d8-7473f326cb9d\",                        [{\"alignmentgroup\":\"True\",\"hovertemplate\":\"Std=0.358682\\u003cbr\\u003ePortfolio Value=%{x}\\u003cbr\\u003ePortfolio=%{y}\\u003cextra\\u003e\\u003c\\u002fextra\\u003e\",\"legendgroup\":\"0.358682\",\"marker\":{\"color\":\"#636efa\"},\"name\":\"0.358682\",\"notched\":false,\"offsetgroup\":\"0.358682\",\"orientation\":\"h\",\"showlegend\":true,\"x\":[19567.54,45928.1],\"x0\":\" \",\"xaxis\":\"x\",\"y\":[\"Control Portfolio\",\"Control Portfolio\"],\"y0\":\" \",\"yaxis\":\"y\",\"type\":\"box\"},{\"alignmentgroup\":\"True\",\"hovertemplate\":\"Std=0.372502\\u003cbr\\u003ePortfolio Value=%{x}\\u003cbr\\u003ePortfolio=%{y}\\u003cextra\\u003e\\u003c\\u002fextra\\u003e\",\"legendgroup\":\"0.372502\",\"marker\":{\"color\":\"#EF553B\"},\"name\":\"0.372502\",\"notched\":false,\"offsetgroup\":\"0.372502\",\"orientation\":\"h\",\"showlegend\":true,\"x\":[20795.340000000004,49015.36],\"x0\":\" \",\"xaxis\":\"x\",\"y\":[\"Technology Portfolio\",\"Technology Portfolio\"],\"y0\":\" \",\"yaxis\":\"y\",\"type\":\"box\"},{\"alignmentgroup\":\"True\",\"hovertemplate\":\"Std=0.367757\\u003cbr\\u003ePortfolio Value=%{x}\\u003cbr\\u003ePortfolio=%{y}\\u003cextra\\u003e\\u003c\\u002fextra\\u003e\",\"legendgroup\":\"0.367757\",\"marker\":{\"color\":\"#00cc96\"},\"name\":\"0.367757\",\"notched\":false,\"offsetgroup\":\"0.367757\",\"orientation\":\"h\",\"showlegend\":true,\"x\":[20781.679999999997,49911.02],\"x0\":\" \",\"xaxis\":\"x\",\"y\":[\"Financial Portfolio\",\"Financial Portfolio\"],\"y0\":\" \",\"yaxis\":\"y\",\"type\":\"box\"},{\"alignmentgroup\":\"True\",\"hovertemplate\":\"Std=0.54387\\u003cbr\\u003ePortfolio Value=%{x}\\u003cbr\\u003ePortfolio=%{y}\\u003cextra\\u003e\\u003c\\u002fextra\\u003e\",\"legendgroup\":\"0.54387\",\"marker\":{\"color\":\"#ab63fa\"},\"name\":\"0.54387\",\"notched\":false,\"offsetgroup\":\"0.54387\",\"orientation\":\"h\",\"showlegend\":true,\"x\":[18971.48,59733.619999999995],\"x0\":\" \",\"xaxis\":\"x\",\"y\":[\"Consumer Services Portfolio\",\"Consumer Services Portfolio\"],\"y0\":\" \",\"yaxis\":\"y\",\"type\":\"box\"},{\"alignmentgroup\":\"True\",\"hovertemplate\":\"Std=0.365985\\u003cbr\\u003ePortfolio Value=%{x}\\u003cbr\\u003ePortfolio=%{y}\\u003cextra\\u003e\\u003c\\u002fextra\\u003e\",\"legendgroup\":\"0.365985\",\"marker\":{\"color\":\"#FFA15A\"},\"name\":\"0.365985\",\"notched\":false,\"offsetgroup\":\"0.365985\",\"orientation\":\"h\",\"showlegend\":true,\"x\":[19658.22,47805.920000000006],\"x0\":\" \",\"xaxis\":\"x\",\"y\":[\"Industrial Portfolio\",\"Industrial Portfolio\"],\"y0\":\" \",\"yaxis\":\"y\",\"type\":\"box\"},{\"alignmentgroup\":\"True\",\"hovertemplate\":\"Std=0.469835\\u003cbr\\u003ePortfolio Value=%{x}\\u003cbr\\u003ePortfolio=%{y}\\u003cextra\\u003e\\u003c\\u002fextra\\u003e\",\"legendgroup\":\"0.469835\",\"marker\":{\"color\":\"#19d3f3\"},\"name\":\"0.469835\",\"notched\":false,\"offsetgroup\":\"0.469835\",\"orientation\":\"h\",\"showlegend\":true,\"x\":[24297.04,59943.0],\"x0\":\" \",\"xaxis\":\"x\",\"y\":[\"Energy Portfolio\",\"Energy Portfolio\"],\"y0\":\" \",\"yaxis\":\"y\",\"type\":\"box\"},{\"alignmentgroup\":\"True\",\"hovertemplate\":\"Std=0.334997\\u003cbr\\u003ePortfolio Value=%{x}\\u003cbr\\u003ePortfolio=%{y}\\u003cextra\\u003e\\u003c\\u002fextra\\u003e\",\"legendgroup\":\"0.334997\",\"marker\":{\"color\":\"#FF6692\"},\"name\":\"0.334997\",\"notched\":false,\"offsetgroup\":\"0.334997\",\"orientation\":\"h\",\"showlegend\":true,\"x\":[17752.42,43395.12],\"x0\":\" \",\"xaxis\":\"x\",\"y\":[\"Utilities Portfolio\",\"Utilities Portfolio\"],\"y0\":\" \",\"yaxis\":\"y\",\"type\":\"box\"},{\"alignmentgroup\":\"True\",\"hovertemplate\":\"Std=0.394731\\u003cbr\\u003ePortfolio Value=%{x}\\u003cbr\\u003ePortfolio=%{y}\\u003cextra\\u003e\\u003c\\u002fextra\\u003e\",\"legendgroup\":\"0.394731\",\"marker\":{\"color\":\"#B6E880\"},\"name\":\"0.394731\",\"notched\":false,\"offsetgroup\":\"0.394731\",\"orientation\":\"h\",\"showlegend\":true,\"x\":[19831.94,51657.5],\"x0\":\" \",\"xaxis\":\"x\",\"y\":[\"Healthcare Portfolio\",\"Healthcare Portfolio\"],\"y0\":\" \",\"yaxis\":\"y\",\"type\":\"box\"},{\"alignmentgroup\":\"True\",\"hovertemplate\":\"Std=0.387952\\u003cbr\\u003ePortfolio Value=%{x}\\u003cbr\\u003ePortfolio=%{y}\\u003cextra\\u003e\\u003c\\u002fextra\\u003e\",\"legendgroup\":\"0.387952\",\"marker\":{\"color\":\"#FF97FF\"},\"name\":\"0.387952\",\"notched\":false,\"offsetgroup\":\"0.387952\",\"orientation\":\"h\",\"showlegend\":true,\"x\":[18313.98,46917.4],\"x0\":\" \",\"xaxis\":\"x\",\"y\":[\"Materials Portfolio\",\"Materials Portfolio\"],\"y0\":\" \",\"yaxis\":\"y\",\"type\":\"box\"},{\"alignmentgroup\":\"True\",\"hovertemplate\":\"Std=0.378868\\u003cbr\\u003ePortfolio Value=%{x}\\u003cbr\\u003ePortfolio=%{y}\\u003cextra\\u003e\\u003c\\u002fextra\\u003e\",\"legendgroup\":\"0.378868\",\"marker\":{\"color\":\"#FECB52\"},\"name\":\"0.378868\",\"notched\":false,\"offsetgroup\":\"0.378868\",\"orientation\":\"h\",\"showlegend\":true,\"x\":[19082.18,48061.100000000006],\"x0\":\" \",\"xaxis\":\"x\",\"y\":[\"Real Estate Portfolio\",\"Real Estate Portfolio\"],\"y0\":\" \",\"yaxis\":\"y\",\"type\":\"box\"},{\"alignmentgroup\":\"True\",\"hovertemplate\":\"Std=0.340528\\u003cbr\\u003ePortfolio Value=%{x}\\u003cbr\\u003ePortfolio=%{y}\\u003cextra\\u003e\\u003c\\u002fextra\\u003e\",\"legendgroup\":\"0.340528\",\"marker\":{\"color\":\"#636efa\"},\"name\":\"0.340528\",\"notched\":false,\"offsetgroup\":\"0.340528\",\"orientation\":\"h\",\"showlegend\":true,\"x\":[19666.18,46988.46],\"x0\":\" \",\"xaxis\":\"x\",\"y\":[\"Consumer Staples Portfolio\",\"Consumer Staples Portfolio\"],\"y0\":\" \",\"yaxis\":\"y\",\"type\":\"box\"},{\"alignmentgroup\":\"True\",\"hovertemplate\":\"Std=0.550978\\u003cbr\\u003ePortfolio Value=%{x}\\u003cbr\\u003ePortfolio=%{y}\\u003cextra\\u003e\\u003c\\u002fextra\\u003e\",\"legendgroup\":\"0.550978\",\"marker\":{\"color\":\"#EF553B\"},\"name\":\"0.550978\",\"notched\":false,\"offsetgroup\":\"0.550978\",\"orientation\":\"h\",\"showlegend\":true,\"x\":[9588.58,52041.96],\"x0\":\" \",\"xaxis\":\"x\",\"y\":[\"Consumer Discretionary Portfolio\",\"Consumer Discretionary Portfolio\"],\"y0\":\" \",\"yaxis\":\"y\",\"type\":\"box\"}],                        {\"template\":{\"data\":{\"histogram2dcontour\":[{\"type\":\"histogram2dcontour\",\"colorbar\":{\"outlinewidth\":0,\"ticks\":\"\"},\"colorscale\":[[0.0,\"#0d0887\"],[0.1111111111111111,\"#46039f\"],[0.2222222222222222,\"#7201a8\"],[0.3333333333333333,\"#9c179e\"],[0.4444444444444444,\"#bd3786\"],[0.5555555555555556,\"#d8576b\"],[0.6666666666666666,\"#ed7953\"],[0.7777777777777778,\"#fb9f3a\"],[0.8888888888888888,\"#fdca26\"],[1.0,\"#f0f921\"]]}],\"choropleth\":[{\"type\":\"choropleth\",\"colorbar\":{\"outlinewidth\":0,\"ticks\":\"\"}}],\"histogram2d\":[{\"type\":\"histogram2d\",\"colorbar\":{\"outlinewidth\":0,\"ticks\":\"\"},\"colorscale\":[[0.0,\"#0d0887\"],[0.1111111111111111,\"#46039f\"],[0.2222222222222222,\"#7201a8\"],[0.3333333333333333,\"#9c179e\"],[0.4444444444444444,\"#bd3786\"],[0.5555555555555556,\"#d8576b\"],[0.6666666666666666,\"#ed7953\"],[0.7777777777777778,\"#fb9f3a\"],[0.8888888888888888,\"#fdca26\"],[1.0,\"#f0f921\"]]}],\"heatmap\":[{\"type\":\"heatmap\",\"colorbar\":{\"outlinewidth\":0,\"ticks\":\"\"},\"colorscale\":[[0.0,\"#0d0887\"],[0.1111111111111111,\"#46039f\"],[0.2222222222222222,\"#7201a8\"],[0.3333333333333333,\"#9c179e\"],[0.4444444444444444,\"#bd3786\"],[0.5555555555555556,\"#d8576b\"],[0.6666666666666666,\"#ed7953\"],[0.7777777777777778,\"#fb9f3a\"],[0.8888888888888888,\"#fdca26\"],[1.0,\"#f0f921\"]]}],\"heatmapgl\":[{\"type\":\"heatmapgl\",\"colorbar\":{\"outlinewidth\":0,\"ticks\":\"\"},\"colorscale\":[[0.0,\"#0d0887\"],[0.1111111111111111,\"#46039f\"],[0.2222222222222222,\"#7201a8\"],[0.3333333333333333,\"#9c179e\"],[0.4444444444444444,\"#bd3786\"],[0.5555555555555556,\"#d8576b\"],[0.6666666666666666,\"#ed7953\"],[0.7777777777777778,\"#fb9f3a\"],[0.8888888888888888,\"#fdca26\"],[1.0,\"#f0f921\"]]}],\"contourcarpet\":[{\"type\":\"contourcarpet\",\"colorbar\":{\"outlinewidth\":0,\"ticks\":\"\"}}],\"contour\":[{\"type\":\"contour\",\"colorbar\":{\"outlinewidth\":0,\"ticks\":\"\"},\"colorscale\":[[0.0,\"#0d0887\"],[0.1111111111111111,\"#46039f\"],[0.2222222222222222,\"#7201a8\"],[0.3333333333333333,\"#9c179e\"],[0.4444444444444444,\"#bd3786\"],[0.5555555555555556,\"#d8576b\"],[0.6666666666666666,\"#ed7953\"],[0.7777777777777778,\"#fb9f3a\"],[0.8888888888888888,\"#fdca26\"],[1.0,\"#f0f921\"]]}],\"surface\":[{\"type\":\"surface\",\"colorbar\":{\"outlinewidth\":0,\"ticks\":\"\"},\"colorscale\":[[0.0,\"#0d0887\"],[0.1111111111111111,\"#46039f\"],[0.2222222222222222,\"#7201a8\"],[0.3333333333333333,\"#9c179e\"],[0.4444444444444444,\"#bd3786\"],[0.5555555555555556,\"#d8576b\"],[0.6666666666666666,\"#ed7953\"],[0.7777777777777778,\"#fb9f3a\"],[0.8888888888888888,\"#fdca26\"],[1.0,\"#f0f921\"]]}],\"mesh3d\":[{\"type\":\"mesh3d\",\"colorbar\":{\"outlinewidth\":0,\"ticks\":\"\"}}],\"scatter\":[{\"fillpattern\":{\"fillmode\":\"overlay\",\"size\":10,\"solidity\":0.2},\"type\":\"scatter\"}],\"parcoords\":[{\"type\":\"parcoords\",\"line\":{\"colorbar\":{\"outlinewidth\":0,\"ticks\":\"\"}}}],\"scatterpolargl\":[{\"type\":\"scatterpolargl\",\"marker\":{\"colorbar\":{\"outlinewidth\":0,\"ticks\":\"\"}}}],\"bar\":[{\"error_x\":{\"color\":\"#2a3f5f\"},\"error_y\":{\"color\":\"#2a3f5f\"},\"marker\":{\"line\":{\"color\":\"#E5ECF6\",\"width\":0.5},\"pattern\":{\"fillmode\":\"overlay\",\"size\":10,\"solidity\":0.2}},\"type\":\"bar\"}],\"scattergeo\":[{\"type\":\"scattergeo\",\"marker\":{\"colorbar\":{\"outlinewidth\":0,\"ticks\":\"\"}}}],\"scatterpolar\":[{\"type\":\"scatterpolar\",\"marker\":{\"colorbar\":{\"outlinewidth\":0,\"ticks\":\"\"}}}],\"histogram\":[{\"marker\":{\"pattern\":{\"fillmode\":\"overlay\",\"size\":10,\"solidity\":0.2}},\"type\":\"histogram\"}],\"scattergl\":[{\"type\":\"scattergl\",\"marker\":{\"colorbar\":{\"outlinewidth\":0,\"ticks\":\"\"}}}],\"scatter3d\":[{\"type\":\"scatter3d\",\"line\":{\"colorbar\":{\"outlinewidth\":0,\"ticks\":\"\"}},\"marker\":{\"colorbar\":{\"outlinewidth\":0,\"ticks\":\"\"}}}],\"scattermapbox\":[{\"type\":\"scattermapbox\",\"marker\":{\"colorbar\":{\"outlinewidth\":0,\"ticks\":\"\"}}}],\"scatterternary\":[{\"type\":\"scatterternary\",\"marker\":{\"colorbar\":{\"outlinewidth\":0,\"ticks\":\"\"}}}],\"scattercarpet\":[{\"type\":\"scattercarpet\",\"marker\":{\"colorbar\":{\"outlinewidth\":0,\"ticks\":\"\"}}}],\"carpet\":[{\"aaxis\":{\"endlinecolor\":\"#2a3f5f\",\"gridcolor\":\"white\",\"linecolor\":\"white\",\"minorgridcolor\":\"white\",\"startlinecolor\":\"#2a3f5f\"},\"baxis\":{\"endlinecolor\":\"#2a3f5f\",\"gridcolor\":\"white\",\"linecolor\":\"white\",\"minorgridcolor\":\"white\",\"startlinecolor\":\"#2a3f5f\"},\"type\":\"carpet\"}],\"table\":[{\"cells\":{\"fill\":{\"color\":\"#EBF0F8\"},\"line\":{\"color\":\"white\"}},\"header\":{\"fill\":{\"color\":\"#C8D4E3\"},\"line\":{\"color\":\"white\"}},\"type\":\"table\"}],\"barpolar\":[{\"marker\":{\"line\":{\"color\":\"#E5ECF6\",\"width\":0.5},\"pattern\":{\"fillmode\":\"overlay\",\"size\":10,\"solidity\":0.2}},\"type\":\"barpolar\"}],\"pie\":[{\"automargin\":true,\"type\":\"pie\"}]},\"layout\":{\"autotypenumbers\":\"strict\",\"colorway\":[\"#636efa\",\"#EF553B\",\"#00cc96\",\"#ab63fa\",\"#FFA15A\",\"#19d3f3\",\"#FF6692\",\"#B6E880\",\"#FF97FF\",\"#FECB52\"],\"font\":{\"color\":\"#2a3f5f\"},\"hovermode\":\"closest\",\"hoverlabel\":{\"align\":\"left\"},\"paper_bgcolor\":\"white\",\"plot_bgcolor\":\"#E5ECF6\",\"polar\":{\"bgcolor\":\"#E5ECF6\",\"angularaxis\":{\"gridcolor\":\"white\",\"linecolor\":\"white\",\"ticks\":\"\"},\"radialaxis\":{\"gridcolor\":\"white\",\"linecolor\":\"white\",\"ticks\":\"\"}},\"ternary\":{\"bgcolor\":\"#E5ECF6\",\"aaxis\":{\"gridcolor\":\"white\",\"linecolor\":\"white\",\"ticks\":\"\"},\"baxis\":{\"gridcolor\":\"white\",\"linecolor\":\"white\",\"ticks\":\"\"},\"caxis\":{\"gridcolor\":\"white\",\"linecolor\":\"white\",\"ticks\":\"\"}},\"coloraxis\":{\"colorbar\":{\"outlinewidth\":0,\"ticks\":\"\"}},\"colorscale\":{\"sequential\":[[0.0,\"#0d0887\"],[0.1111111111111111,\"#46039f\"],[0.2222222222222222,\"#7201a8\"],[0.3333333333333333,\"#9c179e\"],[0.4444444444444444,\"#bd3786\"],[0.5555555555555556,\"#d8576b\"],[0.6666666666666666,\"#ed7953\"],[0.7777777777777778,\"#fb9f3a\"],[0.8888888888888888,\"#fdca26\"],[1.0,\"#f0f921\"]],\"sequentialminus\":[[0.0,\"#0d0887\"],[0.1111111111111111,\"#46039f\"],[0.2222222222222222,\"#7201a8\"],[0.3333333333333333,\"#9c179e\"],[0.4444444444444444,\"#bd3786\"],[0.5555555555555556,\"#d8576b\"],[0.6666666666666666,\"#ed7953\"],[0.7777777777777778,\"#fb9f3a\"],[0.8888888888888888,\"#fdca26\"],[1.0,\"#f0f921\"]],\"diverging\":[[0,\"#8e0152\"],[0.1,\"#c51b7d\"],[0.2,\"#de77ae\"],[0.3,\"#f1b6da\"],[0.4,\"#fde0ef\"],[0.5,\"#f7f7f7\"],[0.6,\"#e6f5d0\"],[0.7,\"#b8e186\"],[0.8,\"#7fbc41\"],[0.9,\"#4d9221\"],[1,\"#276419\"]]},\"xaxis\":{\"gridcolor\":\"white\",\"linecolor\":\"white\",\"ticks\":\"\",\"title\":{\"standoff\":15},\"zerolinecolor\":\"white\",\"automargin\":true,\"zerolinewidth\":2},\"yaxis\":{\"gridcolor\":\"white\",\"linecolor\":\"white\",\"ticks\":\"\",\"title\":{\"standoff\":15},\"zerolinecolor\":\"white\",\"automargin\":true,\"zerolinewidth\":2},\"scene\":{\"xaxis\":{\"backgroundcolor\":\"#E5ECF6\",\"gridcolor\":\"white\",\"linecolor\":\"white\",\"showbackground\":true,\"ticks\":\"\",\"zerolinecolor\":\"white\",\"gridwidth\":2},\"yaxis\":{\"backgroundcolor\":\"#E5ECF6\",\"gridcolor\":\"white\",\"linecolor\":\"white\",\"showbackground\":true,\"ticks\":\"\",\"zerolinecolor\":\"white\",\"gridwidth\":2},\"zaxis\":{\"backgroundcolor\":\"#E5ECF6\",\"gridcolor\":\"white\",\"linecolor\":\"white\",\"showbackground\":true,\"ticks\":\"\",\"zerolinecolor\":\"white\",\"gridwidth\":2}},\"shapedefaults\":{\"line\":{\"color\":\"#2a3f5f\"}},\"annotationdefaults\":{\"arrowcolor\":\"#2a3f5f\",\"arrowhead\":0,\"arrowwidth\":1},\"geo\":{\"bgcolor\":\"white\",\"landcolor\":\"#E5ECF6\",\"subunitcolor\":\"white\",\"showland\":true,\"showlakes\":true,\"lakecolor\":\"white\"},\"title\":{\"x\":0.05},\"mapbox\":{\"style\":\"light\"}}},\"xaxis\":{\"anchor\":\"y\",\"domain\":[0.0,1.0],\"title\":{\"text\":\"Portfolio Value\"}},\"yaxis\":{\"anchor\":\"x\",\"domain\":[0.0,1.0],\"title\":{\"text\":\"Portfolio\"},\"categoryorder\":\"total ascending\"},\"legend\":{\"title\":{\"text\":\"Standard Deviation\"},\"tracegroupgap\":0,\"traceorder\":\"normal\"},\"title\":{\"text\":\"Potential Portfolio Values from 5 Year Monte Carlo Simulation with an initial investment of $20,000\"},\"boxmode\":\"group\"},                        {\"responsive\": true}                    ).then(function(){\n",
       "                            \n",
       "var gd = document.getElementById('dd2726e5-9e5e-45de-90d8-7473f326cb9d');\n",
       "var x = new MutationObserver(function (mutations, observer) {{\n",
       "        var display = window.getComputedStyle(gd).display;\n",
       "        if (!display || display === 'none') {{\n",
       "            console.log([gd, 'removed!']);\n",
       "            Plotly.purge(gd);\n",
       "            observer.disconnect();\n",
       "        }}\n",
       "}});\n",
       "\n",
       "// Listen for the removal of the full notebook cells\n",
       "var notebookContainer = gd.closest('#notebook-container');\n",
       "if (notebookContainer) {{\n",
       "    x.observe(notebookContainer, {childList: true});\n",
       "}}\n",
       "\n",
       "// Listen for the clearing of the current output cell\n",
       "var outputEl = gd.closest('.output');\n",
       "if (outputEl) {{\n",
       "    x.observe(outputEl, {childList: true});\n",
       "}}\n",
       "\n",
       "                        })                };                });            </script>        </div>"
      ]
     },
     "metadata": {},
     "output_type": "display_data"
    }
   ],
   "source": [
    "initial_investment = 20000\n",
    "\n",
    "# Multiply the x-values by the initial investment\n",
    "all_mc_summary_stats['95% CI Lower'] *= initial_investment\n",
    "all_mc_summary_stats['95% CI Upper'] *= initial_investment\n",
    "\n",
    "# Create a box plot\n",
    "mc_risk_fig = px.box(\n",
    "    all_mc_summary_stats,\n",
    "    x=['95% CI Lower', '95% CI Upper'],\n",
    "    y='Portfolio',\n",
    "    color='Std',\n",
    "    title='Potential Portfolio Values from 5 Year Monte Carlo Simulation with an initial investment of $20,000',\n",
    "    labels={'value': 'Portfolio Value', 'variable': 'CI Bound', 'standard_deviation': 'Standard Deviation', 'portfolio': 'Portfolios'},\n",
    ")\n",
    "\n",
    "# Sort the box plot by standard deviation\n",
    "mc_risk_fig.update_layout(\n",
    "    yaxis=dict(categoryorder='total ascending'),  # Sort by standard deviation in ascending order\n",
    "    legend=dict(title='Standard Deviation', traceorder='normal')  # Sort the legend by standard deviation\n",
    ")\n",
    "\n",
    "\n",
    "# Show the plot\n",
    "mc_risk_fig.show()"
   ]
  },
  {
   "cell_type": "code",
   "execution_count": null,
   "id": "881433d6-2484-49ff-8e4e-a571e9f3aa37",
   "metadata": {},
   "outputs": [],
   "source": []
  },
  {
   "cell_type": "code",
   "execution_count": null,
   "id": "15b9076e-c22b-42d5-8f35-19cdefb43235",
   "metadata": {},
   "outputs": [],
   "source": []
  }
 ],
 "metadata": {
  "kernelspec": {
   "display_name": "Python 3 (ipykernel)",
   "language": "python",
   "name": "python3"
  },
  "language_info": {
   "codemirror_mode": {
    "name": "ipython",
    "version": 3
   },
   "file_extension": ".py",
   "mimetype": "text/x-python",
   "name": "python",
   "nbconvert_exporter": "python",
   "pygments_lexer": "ipython3",
   "version": "3.11.7"
  }
 },
 "nbformat": 4,
 "nbformat_minor": 5
}
