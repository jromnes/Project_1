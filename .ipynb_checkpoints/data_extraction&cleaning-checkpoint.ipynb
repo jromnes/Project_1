{
 "cells": [
  {
   "cell_type": "code",
   "execution_count": 90,
   "id": "b302eb89-3038-4eeb-83fa-82376a4bf762",
   "metadata": {
    "tags": []
   },
   "outputs": [],
   "source": [
    "# Initial imports\n",
    "import os\n",
    "import requests\n",
    "import pandas as pd\n",
    "import numpy as np\n",
    "from dotenv import load_dotenv\n",
    "import alpaca_trade_api as tradeapi"
   ]
  },
  {
   "cell_type": "code",
   "execution_count": 91,
   "id": "081fc663-a760-4cbd-a747-942cf81b2351",
   "metadata": {
    "tags": []
   },
   "outputs": [
    {
     "data": {
      "text/plain": [
       "'/Users/jordanromnes/Downloads/Project_1'"
      ]
     },
     "execution_count": 91,
     "metadata": {},
     "output_type": "execute_result"
    }
   ],
   "source": [
    "pwd"
   ]
  },
  {
   "cell_type": "code",
   "execution_count": 92,
   "id": "39305dc5-c494-4c08-a6d9-968851886f49",
   "metadata": {
    "tags": []
   },
   "outputs": [],
   "source": [
    "path = ('/Users/jordanromnes/Downloads/Project_1/keys.env')"
   ]
  },
  {
   "cell_type": "code",
   "execution_count": 93,
   "id": "ed9beda9-85a1-4a79-8a46-074dca9dc09c",
   "metadata": {
    "tags": []
   },
   "outputs": [
    {
     "data": {
      "text/plain": [
       "True"
      ]
     },
     "execution_count": 93,
     "metadata": {},
     "output_type": "execute_result"
    }
   ],
   "source": [
    "# Load .env environment variables\n",
    "load_dotenv(path)"
   ]
  },
  {
   "cell_type": "code",
   "execution_count": 94,
   "id": "e79468ce-7fcc-4799-9bab-11f6e7d9b7f1",
   "metadata": {
    "tags": []
   },
   "outputs": [],
   "source": [
    "# Set Alpaca API key and secret\n",
    "alpaca_api_key = os.getenv(\"ALPACA_API_KEY\")\n",
    "alpaca_secret_key = os.getenv(\"ALPACA_SECRET_KEY\")"
   ]
  },
  {
   "cell_type": "code",
   "execution_count": 95,
   "id": "ae252346-e1a5-47f2-983a-e455a23a5a33",
   "metadata": {
    "tags": []
   },
   "outputs": [
    {
     "name": "stdout",
     "output_type": "stream",
     "text": [
      "Alpaca Key type: <class 'str'>\n",
      "Alpaca Secret Key type: <class 'str'>\n"
     ]
    }
   ],
   "source": [
    "# Verify that Alpaca key and secret were correctly loaded\n",
    "print(f\"Alpaca Key type: {type(alpaca_api_key)}\")\n",
    "print(f\"Alpaca Secret Key type: {type(alpaca_secret_key)}\")"
   ]
  },
  {
   "cell_type": "code",
   "execution_count": 96,
   "id": "e632c109-d730-4336-93ad-ebedbd0afa8e",
   "metadata": {
    "tags": []
   },
   "outputs": [],
   "source": [
    "# Create the Alpaca API object\n",
    "alpaca = tradeapi.REST(\n",
    "    alpaca_api_key,\n",
    "    alpaca_secret_key,\n",
    "    api_version=\"v2\")"
   ]
  },
  {
   "cell_type": "markdown",
   "id": "1cceb081-8cf9-4016-9792-f502a15d80d5",
   "metadata": {
    "tags": []
   },
   "source": [
    "### Switch timestamp/corresponding comments"
   ]
  },
  {
   "cell_type": "code",
   "execution_count": 97,
   "id": "54d94ef5-738c-4dd6-a0af-b57aeb5b8abe",
   "metadata": {
    "tags": []
   },
   "outputs": [],
   "source": [
    "# Set start and end dates of five years back from today.\n",
    "# Sample results may vary from the solution based on the time frame chosen\n",
    "start_date = pd.Timestamp('2021-01-01', tz='America/New_York').isoformat()\n",
    "end_date = pd.Timestamp('2024-01-01', tz='America/New_York').isoformat()"
   ]
  },
  {
   "cell_type": "code",
   "execution_count": 98,
   "id": "e4938dd6-c66a-455f-ad82-e12a4ed9dba6",
   "metadata": {
    "tags": []
   },
   "outputs": [
    {
     "data": {
      "text/html": [
       "<div>\n",
       "<style scoped>\n",
       "    .dataframe tbody tr th:only-of-type {\n",
       "        vertical-align: middle;\n",
       "    }\n",
       "\n",
       "    .dataframe tbody tr th {\n",
       "        vertical-align: top;\n",
       "    }\n",
       "\n",
       "    .dataframe thead tr th {\n",
       "        text-align: left;\n",
       "    }\n",
       "\n",
       "    .dataframe thead tr:last-of-type th {\n",
       "        text-align: right;\n",
       "    }\n",
       "</style>\n",
       "<table border=\"1\" class=\"dataframe\">\n",
       "  <thead>\n",
       "    <tr>\n",
       "      <th></th>\n",
       "      <th>AAPL</th>\n",
       "      <th>JPM</th>\n",
       "      <th>META</th>\n",
       "      <th>UNP</th>\n",
       "      <th>XOM</th>\n",
       "      <th>NEE</th>\n",
       "      <th>UNH</th>\n",
       "      <th>RIO</th>\n",
       "      <th>EQIX</th>\n",
       "      <th>WMT</th>\n",
       "      <th>AMZN</th>\n",
       "    </tr>\n",
       "    <tr>\n",
       "      <th></th>\n",
       "      <th>close</th>\n",
       "      <th>close</th>\n",
       "      <th>close</th>\n",
       "      <th>close</th>\n",
       "      <th>close</th>\n",
       "      <th>close</th>\n",
       "      <th>close</th>\n",
       "      <th>close</th>\n",
       "      <th>close</th>\n",
       "      <th>close</th>\n",
       "      <th>close</th>\n",
       "    </tr>\n",
       "    <tr>\n",
       "      <th>timestamp</th>\n",
       "      <th></th>\n",
       "      <th></th>\n",
       "      <th></th>\n",
       "      <th></th>\n",
       "      <th></th>\n",
       "      <th></th>\n",
       "      <th></th>\n",
       "      <th></th>\n",
       "      <th></th>\n",
       "      <th></th>\n",
       "      <th></th>\n",
       "    </tr>\n",
       "  </thead>\n",
       "  <tbody>\n",
       "    <tr>\n",
       "      <th>2021-01-04 05:00:00+00:00</th>\n",
       "      <td>129.41</td>\n",
       "      <td>125.87</td>\n",
       "      <td>268.94</td>\n",
       "      <td>203.01</td>\n",
       "      <td>41.50</td>\n",
       "      <td>74.22</td>\n",
       "      <td>349.50</td>\n",
       "      <td>77.39</td>\n",
       "      <td>692.56</td>\n",
       "      <td>146.53</td>\n",
       "      <td>3186.63</td>\n",
       "    </tr>\n",
       "    <tr>\n",
       "      <th>2021-01-05 05:00:00+00:00</th>\n",
       "      <td>131.01</td>\n",
       "      <td>125.65</td>\n",
       "      <td>270.97</td>\n",
       "      <td>205.50</td>\n",
       "      <td>43.50</td>\n",
       "      <td>74.77</td>\n",
       "      <td>344.80</td>\n",
       "      <td>79.26</td>\n",
       "      <td>691.54</td>\n",
       "      <td>145.75</td>\n",
       "      <td>3218.51</td>\n",
       "    </tr>\n",
       "    <tr>\n",
       "      <th>2021-01-06 05:00:00+00:00</th>\n",
       "      <td>126.66</td>\n",
       "      <td>131.55</td>\n",
       "      <td>263.34</td>\n",
       "      <td>209.80</td>\n",
       "      <td>44.61</td>\n",
       "      <td>78.43</td>\n",
       "      <td>359.27</td>\n",
       "      <td>82.80</td>\n",
       "      <td>668.96</td>\n",
       "      <td>146.66</td>\n",
       "      <td>3138.38</td>\n",
       "    </tr>\n",
       "    <tr>\n",
       "      <th>2021-01-07 05:00:00+00:00</th>\n",
       "      <td>130.92</td>\n",
       "      <td>135.87</td>\n",
       "      <td>268.74</td>\n",
       "      <td>212.72</td>\n",
       "      <td>44.96</td>\n",
       "      <td>79.29</td>\n",
       "      <td>365.03</td>\n",
       "      <td>85.98</td>\n",
       "      <td>678.97</td>\n",
       "      <td>146.65</td>\n",
       "      <td>3162.16</td>\n",
       "    </tr>\n",
       "    <tr>\n",
       "      <th>2021-01-08 05:00:00+00:00</th>\n",
       "      <td>132.05</td>\n",
       "      <td>136.02</td>\n",
       "      <td>267.57</td>\n",
       "      <td>218.82</td>\n",
       "      <td>45.46</td>\n",
       "      <td>81.13</td>\n",
       "      <td>363.39</td>\n",
       "      <td>86.69</td>\n",
       "      <td>692.46</td>\n",
       "      <td>146.63</td>\n",
       "      <td>3182.70</td>\n",
       "    </tr>\n",
       "  </tbody>\n",
       "</table>\n",
       "</div>"
      ],
      "text/plain": [
       "                             AAPL     JPM    META     UNP    XOM    NEE  \\\n",
       "                            close   close   close   close  close  close   \n",
       "timestamp                                                                 \n",
       "2021-01-04 05:00:00+00:00  129.41  125.87  268.94  203.01  41.50  74.22   \n",
       "2021-01-05 05:00:00+00:00  131.01  125.65  270.97  205.50  43.50  74.77   \n",
       "2021-01-06 05:00:00+00:00  126.66  131.55  263.34  209.80  44.61  78.43   \n",
       "2021-01-07 05:00:00+00:00  130.92  135.87  268.74  212.72  44.96  79.29   \n",
       "2021-01-08 05:00:00+00:00  132.05  136.02  267.57  218.82  45.46  81.13   \n",
       "\n",
       "                              UNH    RIO    EQIX     WMT     AMZN  \n",
       "                            close  close   close   close    close  \n",
       "timestamp                                                          \n",
       "2021-01-04 05:00:00+00:00  349.50  77.39  692.56  146.53  3186.63  \n",
       "2021-01-05 05:00:00+00:00  344.80  79.26  691.54  145.75  3218.51  \n",
       "2021-01-06 05:00:00+00:00  359.27  82.80  668.96  146.66  3138.38  \n",
       "2021-01-07 05:00:00+00:00  365.03  85.98  678.97  146.65  3162.16  \n",
       "2021-01-08 05:00:00+00:00  363.39  86.69  692.46  146.63  3182.70  "
      ]
     },
     "execution_count": 98,
     "metadata": {},
     "output_type": "execute_result"
    }
   ],
   "source": [
    "# Get 5 years' worth of historical data for Snowflake Inc SNOW\n",
    "timeframe = \"1Day\"\n",
    "ticker = ['AAPL', 'JPM', 'META', 'UNP', 'XOM', 'NEE', 'UNH', 'RIO', 'EQIX', 'WMT', 'AMZN']\n",
    "portfolio_df = alpaca.get_bars(\n",
    "    ticker,\n",
    "    timeframe,\n",
    "    start=start_date,\n",
    "    end=end_date,\n",
    "    limit=10000\n",
    ").df\n",
    "\n",
    "# Reorganize the DataFrame\n",
    "# Separate ticker data\n",
    "AAPL = portfolio_df[portfolio_df['symbol']=='AAPL'].drop(['symbol', 'high', 'low', 'trade_count', 'open', 'volume', 'vwap'], axis=1)\n",
    "JPM = portfolio_df[portfolio_df['symbol']=='JPM'].drop(['symbol', 'high', 'low', 'trade_count', 'open', 'volume', 'vwap'], axis=1)\n",
    "META = portfolio_df[portfolio_df['symbol']=='META'].drop(['symbol', 'high', 'low', 'trade_count', 'open', 'volume', 'vwap'], axis=1)\n",
    "UNP = portfolio_df[portfolio_df['symbol']=='UNP'].drop(['symbol', 'high', 'low', 'trade_count', 'open', 'volume', 'vwap'], axis=1)\n",
    "XOM = portfolio_df[portfolio_df['symbol']=='XOM'].drop(['symbol', 'high', 'low', 'trade_count', 'open', 'volume', 'vwap'], axis=1)\n",
    "NEE = portfolio_df[portfolio_df['symbol']=='NEE'].drop(['symbol', 'high', 'low', 'trade_count', 'open', 'volume', 'vwap'], axis=1)\n",
    "UNH = portfolio_df[portfolio_df['symbol']=='UNH'].drop(['symbol', 'high', 'low', 'trade_count', 'open', 'volume', 'vwap'], axis=1)\n",
    "RIO = portfolio_df[portfolio_df['symbol']=='RIO'].drop(['symbol', 'high', 'low', 'trade_count', 'open', 'volume', 'vwap'], axis=1)\n",
    "EQIX = portfolio_df[portfolio_df['symbol']=='EQIX'].drop(['symbol', 'high', 'low', 'trade_count', 'open', 'volume', 'vwap'], axis=1)\n",
    "WMT = portfolio_df[portfolio_df['symbol']=='WMT'].drop(['symbol', 'high', 'low', 'trade_count', 'open', 'volume', 'vwap'], axis=1)\n",
    "AMZN = portfolio_df[portfolio_df['symbol']=='AMZN'].drop(['symbol', 'high', 'low', 'trade_count', 'open', 'volume', 'vwap'], axis=1)\n",
    "\n",
    "# Concatenate the ticker DataFrames\n",
    "portfolio_df = pd.concat([AAPL, JPM, META, UNP, XOM, NEE, UNH, RIO, EQIX, WMT, AMZN],axis=1, keys=['AAPL', 'JPM', 'META', 'UNP', 'XOM', 'NEE', 'UNH', 'RIO', 'EQIX', 'WMT', 'AMZN'])\n",
    "\n",
    "\n",
    "# Display sample data\n",
    "portfolio_df.head()"
   ]
  },
  {
   "cell_type": "code",
   "execution_count": 99,
   "id": "4b6c235b-d6c5-4529-a1ab-8b5879ce902f",
   "metadata": {
    "tags": []
   },
   "outputs": [
    {
     "data": {
      "text/html": [
       "<div>\n",
       "<style scoped>\n",
       "    .dataframe tbody tr th:only-of-type {\n",
       "        vertical-align: middle;\n",
       "    }\n",
       "\n",
       "    .dataframe tbody tr th {\n",
       "        vertical-align: top;\n",
       "    }\n",
       "\n",
       "    .dataframe thead tr th {\n",
       "        text-align: left;\n",
       "    }\n",
       "\n",
       "    .dataframe thead tr:last-of-type th {\n",
       "        text-align: right;\n",
       "    }\n",
       "</style>\n",
       "<table border=\"1\" class=\"dataframe\">\n",
       "  <thead>\n",
       "    <tr>\n",
       "      <th></th>\n",
       "      <th>AAPL</th>\n",
       "      <th>JPM</th>\n",
       "      <th>META</th>\n",
       "      <th>UNP</th>\n",
       "      <th>XOM</th>\n",
       "      <th>NEE</th>\n",
       "      <th>UNH</th>\n",
       "      <th>RIO</th>\n",
       "      <th>EQIX</th>\n",
       "      <th>WMT</th>\n",
       "      <th>AMZN</th>\n",
       "    </tr>\n",
       "    <tr>\n",
       "      <th></th>\n",
       "      <th>close</th>\n",
       "      <th>close</th>\n",
       "      <th>close</th>\n",
       "      <th>close</th>\n",
       "      <th>close</th>\n",
       "      <th>close</th>\n",
       "      <th>close</th>\n",
       "      <th>close</th>\n",
       "      <th>close</th>\n",
       "      <th>close</th>\n",
       "      <th>close</th>\n",
       "    </tr>\n",
       "    <tr>\n",
       "      <th>timestamp</th>\n",
       "      <th></th>\n",
       "      <th></th>\n",
       "      <th></th>\n",
       "      <th></th>\n",
       "      <th></th>\n",
       "      <th></th>\n",
       "      <th></th>\n",
       "      <th></th>\n",
       "      <th></th>\n",
       "      <th></th>\n",
       "      <th></th>\n",
       "    </tr>\n",
       "  </thead>\n",
       "  <tbody>\n",
       "    <tr>\n",
       "      <th>2021-01-05 05:00:00+00:00</th>\n",
       "      <td>0.012364</td>\n",
       "      <td>-0.001748</td>\n",
       "      <td>0.007548</td>\n",
       "      <td>0.012265</td>\n",
       "      <td>0.048193</td>\n",
       "      <td>0.007410</td>\n",
       "      <td>-0.013448</td>\n",
       "      <td>0.024163</td>\n",
       "      <td>-0.001473</td>\n",
       "      <td>-0.005323</td>\n",
       "      <td>0.010004</td>\n",
       "    </tr>\n",
       "    <tr>\n",
       "      <th>2021-01-06 05:00:00+00:00</th>\n",
       "      <td>-0.033204</td>\n",
       "      <td>0.046956</td>\n",
       "      <td>-0.028158</td>\n",
       "      <td>0.020925</td>\n",
       "      <td>0.025517</td>\n",
       "      <td>0.048950</td>\n",
       "      <td>0.041966</td>\n",
       "      <td>0.044663</td>\n",
       "      <td>-0.032652</td>\n",
       "      <td>0.006244</td>\n",
       "      <td>-0.024897</td>\n",
       "    </tr>\n",
       "    <tr>\n",
       "      <th>2021-01-07 05:00:00+00:00</th>\n",
       "      <td>0.033633</td>\n",
       "      <td>0.032839</td>\n",
       "      <td>0.020506</td>\n",
       "      <td>0.013918</td>\n",
       "      <td>0.007846</td>\n",
       "      <td>0.010965</td>\n",
       "      <td>0.016033</td>\n",
       "      <td>0.038406</td>\n",
       "      <td>0.014964</td>\n",
       "      <td>-0.000068</td>\n",
       "      <td>0.007577</td>\n",
       "    </tr>\n",
       "    <tr>\n",
       "      <th>2021-01-08 05:00:00+00:00</th>\n",
       "      <td>0.008631</td>\n",
       "      <td>0.001104</td>\n",
       "      <td>-0.004354</td>\n",
       "      <td>0.028676</td>\n",
       "      <td>0.011121</td>\n",
       "      <td>0.023206</td>\n",
       "      <td>-0.004493</td>\n",
       "      <td>0.008258</td>\n",
       "      <td>0.019868</td>\n",
       "      <td>-0.000136</td>\n",
       "      <td>0.006496</td>\n",
       "    </tr>\n",
       "    <tr>\n",
       "      <th>2021-01-11 05:00:00+00:00</th>\n",
       "      <td>-0.023249</td>\n",
       "      <td>0.014924</td>\n",
       "      <td>-0.040102</td>\n",
       "      <td>-0.006718</td>\n",
       "      <td>0.030356</td>\n",
       "      <td>-0.017749</td>\n",
       "      <td>-0.007265</td>\n",
       "      <td>-0.033568</td>\n",
       "      <td>-0.014542</td>\n",
       "      <td>0.004501</td>\n",
       "      <td>-0.021519</td>\n",
       "    </tr>\n",
       "  </tbody>\n",
       "</table>\n",
       "</div>"
      ],
      "text/plain": [
       "                               AAPL       JPM      META       UNP       XOM  \\\n",
       "                              close     close     close     close     close   \n",
       "timestamp                                                                     \n",
       "2021-01-05 05:00:00+00:00  0.012364 -0.001748  0.007548  0.012265  0.048193   \n",
       "2021-01-06 05:00:00+00:00 -0.033204  0.046956 -0.028158  0.020925  0.025517   \n",
       "2021-01-07 05:00:00+00:00  0.033633  0.032839  0.020506  0.013918  0.007846   \n",
       "2021-01-08 05:00:00+00:00  0.008631  0.001104 -0.004354  0.028676  0.011121   \n",
       "2021-01-11 05:00:00+00:00 -0.023249  0.014924 -0.040102 -0.006718  0.030356   \n",
       "\n",
       "                                NEE       UNH       RIO      EQIX       WMT  \\\n",
       "                              close     close     close     close     close   \n",
       "timestamp                                                                     \n",
       "2021-01-05 05:00:00+00:00  0.007410 -0.013448  0.024163 -0.001473 -0.005323   \n",
       "2021-01-06 05:00:00+00:00  0.048950  0.041966  0.044663 -0.032652  0.006244   \n",
       "2021-01-07 05:00:00+00:00  0.010965  0.016033  0.038406  0.014964 -0.000068   \n",
       "2021-01-08 05:00:00+00:00  0.023206 -0.004493  0.008258  0.019868 -0.000136   \n",
       "2021-01-11 05:00:00+00:00 -0.017749 -0.007265 -0.033568 -0.014542  0.004501   \n",
       "\n",
       "                               AMZN  \n",
       "                              close  \n",
       "timestamp                            \n",
       "2021-01-05 05:00:00+00:00  0.010004  \n",
       "2021-01-06 05:00:00+00:00 -0.024897  \n",
       "2021-01-07 05:00:00+00:00  0.007577  \n",
       "2021-01-08 05:00:00+00:00  0.006496  \n",
       "2021-01-11 05:00:00+00:00 -0.021519  "
      ]
     },
     "execution_count": 99,
     "metadata": {},
     "output_type": "execute_result"
    }
   ],
   "source": [
    "# Calculate daily returns\n",
    "stock_returns = portfolio_df.pct_change()\n",
    "# Drop NAs\n",
    "stock_returns = portfolio_df.pct_change().dropna()\n",
    "# Display sample data\n",
    "stock_returns.head()"
   ]
  },
  {
   "cell_type": "markdown",
   "id": "5f11eee3-a57a-4ed5-b05d-e1384567cd59",
   "metadata": {},
   "source": [
    "## 5 year Historical Performance Analysis"
   ]
  },
  {
   "cell_type": "markdown",
   "id": "b966938c-caf4-438e-80bf-f21e10984a81",
   "metadata": {},
   "source": [
    "### Daily returns, Cumulative returns, historical value of evenly weighted portfolio (\"Control\")"
   ]
  },
  {
   "cell_type": "code",
   "execution_count": 100,
   "id": "bdc0f7ec-225c-48f0-bf70-ee11119dab8e",
   "metadata": {
    "tags": []
   },
   "outputs": [
    {
     "data": {
      "text/plain": [
       "timestamp\n",
       "2021-01-05 05:00:00+00:00    0.008996\n",
       "2021-01-06 05:00:00+00:00    0.010468\n",
       "2021-01-07 05:00:00+00:00    0.017696\n",
       "2021-01-08 05:00:00+00:00    0.008854\n",
       "2021-01-11 05:00:00+00:00   -0.010344\n",
       "dtype: float64"
      ]
     },
     "execution_count": 100,
     "metadata": {},
     "output_type": "execute_result"
    }
   ],
   "source": [
    "# Set weights\n",
    "weights = [0.09, 0.09, 0.09, 0.09, 0.09, 0.09, 0.09, 0.09, 0.09, 0.09, 0.09]\n",
    "\n",
    "# Calculate portfolio return\n",
    "control_historical = stock_returns.dot(weights)\n",
    "# Display sample data\n",
    "control_historical.head()"
   ]
  },
  {
   "cell_type": "code",
   "execution_count": 101,
   "id": "ec3f9e7f-10b1-4ce2-a7cf-9bdadf810da2",
   "metadata": {
    "tags": []
   },
   "outputs": [
    {
     "data": {
      "text/plain": [
       "timestamp\n",
       "2023-12-22 05:00:00+00:00    24720.635167\n",
       "2023-12-26 05:00:00+00:00    24792.511978\n",
       "2023-12-27 05:00:00+00:00    24890.990275\n",
       "2023-12-28 05:00:00+00:00    24915.120241\n",
       "2023-12-29 05:00:00+00:00    24814.826872\n",
       "dtype: float64"
      ]
     },
     "execution_count": 101,
     "metadata": {},
     "output_type": "execute_result"
    }
   ],
   "source": [
    "# Initial investment\n",
    "initial_investment = 20000\n",
    "\n",
    "# Calculating cumulative returns\n",
    "control_cumulative_returns = (1 + pd.Series(control_historical)).cumprod()\n",
    "\n",
    "# Calculating historical value\n",
    "control_historical_value = initial_investment * control_cumulative_returns\n",
    "\n",
    "\n",
    "control_historical_value.tail()"
   ]
  },
  {
   "cell_type": "markdown",
   "id": "cf1e7272-1d6e-4396-87b4-0512c2380d67",
   "metadata": {},
   "source": [
    "### Daily returns, Cumulative returns, historical value of tech heavy portfolio (\"Technology\")"
   ]
  },
  {
   "cell_type": "code",
   "execution_count": 102,
   "id": "d0663a70-f8c9-4fc5-9c10-b70389ecb7e8",
   "metadata": {
    "tags": []
   },
   "outputs": [
    {
     "data": {
      "text/plain": [
       "timestamp\n",
       "2021-01-05 05:00:00+00:00    0.009660\n",
       "2021-01-06 05:00:00+00:00    0.002913\n",
       "2021-01-07 05:00:00+00:00    0.020632\n",
       "2021-01-08 05:00:00+00:00    0.008889\n",
       "2021-01-11 05:00:00+00:00   -0.012688\n",
       "dtype: float64"
      ]
     },
     "execution_count": 102,
     "metadata": {},
     "output_type": "execute_result"
    }
   ],
   "source": [
    "# Set weights\n",
    "weights = [0.25, 0.075, 0.075, 0.075, 0.075, 0.075, 0.075, 0.075, 0.075, 0.075, 0.075]\n",
    "# Calculate portfolio return\n",
    "tech_historical = stock_returns.dot(weights)\n",
    "# Display sample data\n",
    "tech_historical.head()"
   ]
  },
  {
   "cell_type": "code",
   "execution_count": 103,
   "id": "018d8fb7-6060-46f9-9b84-a6e014c237c5",
   "metadata": {
    "tags": []
   },
   "outputs": [
    {
     "data": {
      "text/plain": [
       "timestamp\n",
       "2023-12-22 05:00:00+00:00    25803.575097\n",
       "2023-12-26 05:00:00+00:00    25853.267888\n",
       "2023-12-27 05:00:00+00:00    25941.187925\n",
       "2023-12-28 05:00:00+00:00    25972.251158\n",
       "2023-12-29 05:00:00+00:00    25860.473824\n",
       "dtype: float64"
      ]
     },
     "execution_count": 103,
     "metadata": {},
     "output_type": "execute_result"
    }
   ],
   "source": [
    "# Initial investment\n",
    "initial_investment = 20000\n",
    "\n",
    "# Calculating cumulative returns\n",
    "tech_cumulative_returns = (1 + pd.Series(tech_historical)).cumprod()\n",
    "\n",
    "# Calculating historical value\n",
    "tech_historical_value = initial_investment * tech_cumulative_returns\n",
    "\n",
    "\n",
    "tech_historical_value.tail()"
   ]
  },
  {
   "cell_type": "markdown",
   "id": "34027d67-ccc1-4722-aae1-b1b09eb01df5",
   "metadata": {
    "jp-MarkdownHeadingCollapsed": true,
    "tags": []
   },
   "source": [
    "### Daily returns, Cumulative returns, historical value of financial heavy portfolio (\"Financial\")"
   ]
  },
  {
   "cell_type": "code",
   "execution_count": 104,
   "id": "a51927ec-de7c-4b65-8338-64ddc0dd68d8",
   "metadata": {
    "tags": []
   },
   "outputs": [
    {
     "data": {
      "text/plain": [
       "timestamp\n",
       "2021-01-05 05:00:00+00:00    0.007191\n",
       "2021-01-06 05:00:00+00:00    0.016941\n",
       "2021-01-07 05:00:00+00:00    0.020493\n",
       "2021-01-08 05:00:00+00:00    0.007571\n",
       "2021-01-11 05:00:00+00:00   -0.006008\n",
       "dtype: float64"
      ]
     },
     "execution_count": 104,
     "metadata": {},
     "output_type": "execute_result"
    }
   ],
   "source": [
    "# Set weights\n",
    "weights = [0.075, 0.25, 0.075, 0.075, 0.075, 0.075, 0.075, 0.075, 0.075, 0.075, 0.075]\n",
    "# Calculate portfolio return\n",
    "fin_historical = stock_returns.dot(weights)\n",
    "# Display sample data\n",
    "fin_historical.head()"
   ]
  },
  {
   "cell_type": "code",
   "execution_count": 105,
   "id": "c0b8eda1-c477-4f12-851b-fa37384a5aa7",
   "metadata": {
    "tags": []
   },
   "outputs": [
    {
     "data": {
      "text/plain": [
       "timestamp\n",
       "2023-12-22 05:00:00+00:00    25283.809939\n",
       "2023-12-26 05:00:00+00:00    25371.239220\n",
       "2023-12-27 05:00:00+00:00    25481.850939\n",
       "2023-12-28 05:00:00+00:00    25526.128377\n",
       "2023-12-29 05:00:00+00:00    25435.254820\n",
       "dtype: float64"
      ]
     },
     "execution_count": 105,
     "metadata": {},
     "output_type": "execute_result"
    }
   ],
   "source": [
    "# Initial investment\n",
    "initial_investment = 20000\n",
    "\n",
    "# Calculating cumulative returns\n",
    "fin_cumulative_returns = (1 + pd.Series(fin_historical)).cumprod()\n",
    "\n",
    "# Calculating historical value\n",
    "fin_historical_value = initial_investment * fin_cumulative_returns\n",
    "\n",
    "\n",
    "fin_historical_value.tail()"
   ]
  },
  {
   "cell_type": "markdown",
   "id": "ff314739-6a6d-4c51-a6a9-900c6affef7d",
   "metadata": {
    "tags": []
   },
   "source": [
    "### Daily returns, Cumulative returns, historical value of consumer services heavy portfolio (\"Consumer Services\")"
   ]
  },
  {
   "cell_type": "code",
   "execution_count": 106,
   "id": "22d04094-691a-49ef-8779-be2c72f63911",
   "metadata": {
    "tags": []
   },
   "outputs": [
    {
     "data": {
      "text/plain": [
       "timestamp\n",
       "2021-01-05 05:00:00+00:00    0.008818\n",
       "2021-01-06 05:00:00+00:00    0.003796\n",
       "2021-01-07 05:00:00+00:00    0.018335\n",
       "2021-01-08 05:00:00+00:00    0.006616\n",
       "2021-01-11 05:00:00+00:00   -0.015638\n",
       "dtype: float64"
      ]
     },
     "execution_count": 106,
     "metadata": {},
     "output_type": "execute_result"
    }
   ],
   "source": [
    "# Set weights\n",
    "weights = [0.075, 0.075, 0.25, 0.075, 0.075, 0.075, 0.075, 0.075, 0.075, 0.075, 0.075]\n",
    "# Calculate portfolio return\n",
    "con_ser_historical = stock_returns.dot(weights)\n",
    "# Display sample data\n",
    "con_ser_historical.head()"
   ]
  },
  {
   "cell_type": "code",
   "execution_count": 107,
   "id": "890d71bd-4407-4609-9b8c-93fba58f354e",
   "metadata": {
    "tags": []
   },
   "outputs": [
    {
     "data": {
      "text/plain": [
       "timestamp\n",
       "2023-12-22 05:00:00+00:00    25858.853376\n",
       "2023-12-26 05:00:00+00:00    25939.948358\n",
       "2023-12-27 05:00:00+00:00    26064.191989\n",
       "2023-12-28 05:00:00+00:00    26091.494066\n",
       "2023-12-29 05:00:00+00:00    25948.411364\n",
       "dtype: float64"
      ]
     },
     "execution_count": 107,
     "metadata": {},
     "output_type": "execute_result"
    }
   ],
   "source": [
    "# Initial investment\n",
    "initial_investment = 20000\n",
    "\n",
    "# Calculating cumulative returns\n",
    "con_ser_cumulative_returns = (1 + pd.Series(con_ser_historical)).cumprod()\n",
    "\n",
    "# Calculating historical value\n",
    "con_ser_historical_value = initial_investment * con_ser_cumulative_returns\n",
    "\n",
    "\n",
    "con_ser_historical_value.tail()"
   ]
  },
  {
   "cell_type": "markdown",
   "id": "a1e082fb-34f9-4647-a3b1-561bf25a3017",
   "metadata": {},
   "source": [
    "### Daily returns, Cumulative returns, historical value of industrial heavy portfolio (\"Industrial\")"
   ]
  },
  {
   "cell_type": "code",
   "execution_count": 108,
   "id": "a0bde50d-550a-4e0e-9a73-86c7599d337a",
   "metadata": {
    "tags": []
   },
   "outputs": [
    {
     "data": {
      "text/plain": [
       "timestamp\n",
       "2021-01-05 05:00:00+00:00    0.009643\n",
       "2021-01-06 05:00:00+00:00    0.012385\n",
       "2021-01-07 05:00:00+00:00    0.017182\n",
       "2021-01-08 05:00:00+00:00    0.012397\n",
       "2021-01-11 05:00:00+00:00   -0.009795\n",
       "dtype: float64"
      ]
     },
     "execution_count": 108,
     "metadata": {},
     "output_type": "execute_result"
    }
   ],
   "source": [
    "# Set weights\n",
    "weights = [0.075, 0.075, 0.075, 0.25, 0.075, 0.075, 0.075, 0.075, 0.075, 0.075, 0.075]\n",
    "# Calculate portfolio return\n",
    "ind_historical = stock_returns.dot(weights)\n",
    "# Display sample data\n",
    "ind_historical.head()"
   ]
  },
  {
   "cell_type": "code",
   "execution_count": 109,
   "id": "0fafd883-c03d-499e-9309-b2a55e4b23bf",
   "metadata": {
    "tags": []
   },
   "outputs": [
    {
     "data": {
      "text/plain": [
       "timestamp\n",
       "2023-12-22 05:00:00+00:00    24828.950085\n",
       "2023-12-26 05:00:00+00:00    24919.613457\n",
       "2023-12-27 05:00:00+00:00    25011.344334\n",
       "2023-12-28 05:00:00+00:00    25035.289207\n",
       "2023-12-29 05:00:00+00:00    24944.185008\n",
       "dtype: float64"
      ]
     },
     "execution_count": 109,
     "metadata": {},
     "output_type": "execute_result"
    }
   ],
   "source": [
    "# Initial investment\n",
    "initial_investment = 20000\n",
    "\n",
    "# Calculating cumulative returns\n",
    "ind_cumulative_returns = (1 + pd.Series(ind_historical)).cumprod()\n",
    "\n",
    "# Calculating historical value\n",
    "ind_historical_value = initial_investment * ind_cumulative_returns\n",
    "\n",
    "\n",
    "ind_historical_value.tail()"
   ]
  },
  {
   "cell_type": "markdown",
   "id": "f3101d61-8218-4e7e-b14a-d821e167c2ab",
   "metadata": {},
   "source": [
    "### Daily returns, Cumulative returns, historical value of energy heavy portfolio (\"Energy\")"
   ]
  },
  {
   "cell_type": "code",
   "execution_count": 110,
   "id": "ba82db47-960b-4d8c-a016-7fce0d769893",
   "metadata": {
    "tags": []
   },
   "outputs": [
    {
     "data": {
      "text/plain": [
       "timestamp\n",
       "2021-01-05 05:00:00+00:00    0.015930\n",
       "2021-01-06 05:00:00+00:00    0.013189\n",
       "2021-01-07 05:00:00+00:00    0.016119\n",
       "2021-01-08 05:00:00+00:00    0.009324\n",
       "2021-01-11 05:00:00+00:00   -0.003307\n",
       "dtype: float64"
      ]
     },
     "execution_count": 110,
     "metadata": {},
     "output_type": "execute_result"
    }
   ],
   "source": [
    "# Set weights\n",
    "weights = [0.075, 0.075, 0.075, 0.075, 0.25, 0.075, 0.075, 0.075, 0.075, 0.075, 0.075]\n",
    "# Calculate portfolio return\n",
    "nrg_historical = stock_returns.dot(weights)\n",
    "# Display sample data\n",
    "nrg_historical.head()"
   ]
  },
  {
   "cell_type": "code",
   "execution_count": 111,
   "id": "e89ff8aa-2941-4772-aeaa-53ce2b102fe9",
   "metadata": {
    "tags": []
   },
   "outputs": [
    {
     "data": {
      "text/plain": [
       "timestamp\n",
       "2023-12-22 05:00:00+00:00    28387.863187\n",
       "2023-12-26 05:00:00+00:00    28467.858077\n",
       "2023-12-27 05:00:00+00:00    28538.677037\n",
       "2023-12-28 05:00:00+00:00    28489.515198\n",
       "2023-12-29 05:00:00+00:00    28383.497035\n",
       "dtype: float64"
      ]
     },
     "execution_count": 111,
     "metadata": {},
     "output_type": "execute_result"
    }
   ],
   "source": [
    "# Initial investment\n",
    "initial_investment = 20000\n",
    "\n",
    "# Calculating cumulative returns\n",
    "nrg_cumulative_returns = (1 + pd.Series(nrg_historical)).cumprod()\n",
    "\n",
    "# Calculating historical value\n",
    "nrg_historical_value = initial_investment * nrg_cumulative_returns\n",
    "\n",
    "\n",
    "nrg_historical_value.tail()"
   ]
  },
  {
   "cell_type": "markdown",
   "id": "db5176e5-782a-4963-a749-13d967a4e5ef",
   "metadata": {
    "jp-MarkdownHeadingCollapsed": true,
    "tags": []
   },
   "source": [
    "### Daily returns, Cumulative returns, historical value of utilities heavy portfolio (\"Utilities\")"
   ]
  },
  {
   "cell_type": "code",
   "execution_count": 112,
   "id": "ba3036c4-cc56-454c-bf33-df6c0c67d620",
   "metadata": {
    "tags": []
   },
   "outputs": [
    {
     "data": {
      "text/plain": [
       "timestamp\n",
       "2021-01-05 05:00:00+00:00    0.008794\n",
       "2021-01-06 05:00:00+00:00    0.017290\n",
       "2021-01-07 05:00:00+00:00    0.016665\n",
       "2021-01-08 05:00:00+00:00    0.011439\n",
       "2021-01-11 05:00:00+00:00   -0.011726\n",
       "dtype: float64"
      ]
     },
     "execution_count": 112,
     "metadata": {},
     "output_type": "execute_result"
    }
   ],
   "source": [
    "# Set weights\n",
    "weights = [0.075, 0.075, 0.075, 0.075, 0.075, 0.25, 0.075, 0.075, 0.075, 0.075, 0.075]\n",
    "# Calculate portfolio return\n",
    "util_historical = stock_returns.dot(weights)\n",
    "# Display sample data\n",
    "util_historical.head()"
   ]
  },
  {
   "cell_type": "code",
   "execution_count": 113,
   "id": "e3e5c57b-cc90-4da5-ac16-dd7e0eba490c",
   "metadata": {
    "tags": []
   },
   "outputs": [
    {
     "data": {
      "text/plain": [
       "timestamp\n",
       "2023-12-22 05:00:00+00:00    23242.753779\n",
       "2023-12-26 05:00:00+00:00    23330.384765\n",
       "2023-12-27 05:00:00+00:00    23432.699812\n",
       "2023-12-28 05:00:00+00:00    23481.414083\n",
       "2023-12-29 05:00:00+00:00    23383.789707\n",
       "dtype: float64"
      ]
     },
     "execution_count": 113,
     "metadata": {},
     "output_type": "execute_result"
    }
   ],
   "source": [
    "# Initial investment\n",
    "initial_investment = 20000\n",
    "\n",
    "# Calculating cumulative returns\n",
    "util_cumulative_returns = (1 + pd.Series(util_historical)).cumprod()\n",
    "\n",
    "# Calculating historical value\n",
    "util_historical_value = initial_investment * util_cumulative_returns\n",
    "\n",
    "\n",
    "util_historical_value.tail()"
   ]
  },
  {
   "cell_type": "markdown",
   "id": "c857b50a-2286-47a8-9822-e510fc574a2a",
   "metadata": {
    "jp-MarkdownHeadingCollapsed": true,
    "tags": []
   },
   "source": [
    "### Daily returns, Cumulative returns, historical value of healthcare heavy portfolio (\"Healthcare\")"
   ]
  },
  {
   "cell_type": "code",
   "execution_count": 114,
   "id": "073c5e61-086e-4109-816d-3750e8f24d2a",
   "metadata": {
    "tags": []
   },
   "outputs": [
    {
     "data": {
      "text/plain": [
       "timestamp\n",
       "2021-01-05 05:00:00+00:00    0.005143\n",
       "2021-01-06 05:00:00+00:00    0.016067\n",
       "2021-01-07 05:00:00+00:00    0.017552\n",
       "2021-01-08 05:00:00+00:00    0.006592\n",
       "2021-01-11 05:00:00+00:00   -0.009891\n",
       "dtype: float64"
      ]
     },
     "execution_count": 114,
     "metadata": {},
     "output_type": "execute_result"
    }
   ],
   "source": [
    "# Set weights\n",
    "weights = [0.075, 0.075, 0.075, 0.075, 0.075, 0.075, 0.25, 0.075, 0.075, 0.075, 0.075]\n",
    "# Calculate portfolio return\n",
    "hc_historical = stock_returns.dot(weights)\n",
    "# Display sample data\n",
    "hc_historical.head()"
   ]
  },
  {
   "cell_type": "code",
   "execution_count": 115,
   "id": "1c4096b4-1f9a-4ad5-a009-64dee63a2149",
   "metadata": {
    "tags": []
   },
   "outputs": [
    {
     "data": {
      "text/plain": [
       "timestamp\n",
       "2023-12-22 05:00:00+00:00    25827.296313\n",
       "2023-12-26 05:00:00+00:00    25887.442786\n",
       "2023-12-27 05:00:00+00:00    25997.176409\n",
       "2023-12-28 05:00:00+00:00    26036.540328\n",
       "2023-12-29 05:00:00+00:00    25962.829100\n",
       "dtype: float64"
      ]
     },
     "execution_count": 115,
     "metadata": {},
     "output_type": "execute_result"
    }
   ],
   "source": [
    "# Initial investment\n",
    "initial_investment = 20000\n",
    "\n",
    "# Calculating cumulative returns\n",
    "hc_cumulative_returns = (1 + pd.Series(hc_historical)).cumprod()\n",
    "\n",
    "# Calculating historical value\n",
    "hc_historical_value = initial_investment * hc_cumulative_returns\n",
    "\n",
    "\n",
    "hc_historical_value.tail()"
   ]
  },
  {
   "cell_type": "markdown",
   "id": "d8e60d63-91fc-4815-9eb9-150151315ca6",
   "metadata": {
    "jp-MarkdownHeadingCollapsed": true,
    "tags": []
   },
   "source": [
    "### Daily returns, Cumulative returns, historical value of materials heavy portfolio (\"Materials\")"
   ]
  },
  {
   "cell_type": "code",
   "execution_count": 116,
   "id": "c5f06909-1f81-4a60-9e37-f85b32d3ee35",
   "metadata": {
    "tags": []
   },
   "outputs": [
    {
     "data": {
      "text/plain": [
       "timestamp\n",
       "2021-01-05 05:00:00+00:00    0.011725\n",
       "2021-01-06 05:00:00+00:00    0.016539\n",
       "2021-01-07 05:00:00+00:00    0.021467\n",
       "2021-01-08 05:00:00+00:00    0.008823\n",
       "2021-01-11 05:00:00+00:00   -0.014494\n",
       "dtype: float64"
      ]
     },
     "execution_count": 116,
     "metadata": {},
     "output_type": "execute_result"
    }
   ],
   "source": [
    "# Set weights\n",
    "weights = [0.075, 0.075, 0.075, 0.075, 0.075, 0.075, 0.075, 0.25, 0.075, 0.075, 0.075]\n",
    "# Calculate portfolio return\n",
    "mat_historical = stock_returns.dot(weights)\n",
    "# Display sample data\n",
    "mat_historical.head()"
   ]
  },
  {
   "cell_type": "code",
   "execution_count": 117,
   "id": "e32f6d95-47ec-40a7-8d3e-2e48a96aa2f5",
   "metadata": {
    "tags": []
   },
   "outputs": [
    {
     "data": {
      "text/plain": [
       "timestamp\n",
       "2023-12-22 05:00:00+00:00    24070.449697\n",
       "2023-12-26 05:00:00+00:00    24148.740711\n",
       "2023-12-27 05:00:00+00:00    24262.287284\n",
       "2023-12-28 05:00:00+00:00    24268.826874\n",
       "2023-12-29 05:00:00+00:00    24182.858921\n",
       "dtype: float64"
      ]
     },
     "execution_count": 117,
     "metadata": {},
     "output_type": "execute_result"
    }
   ],
   "source": [
    "# Initial investment\n",
    "initial_investment = 20000\n",
    "\n",
    "# Calculating cumulative returns\n",
    "mat_cumulative_returns = (1 + pd.Series(mat_historical)).cumprod()\n",
    "\n",
    "# Calculating historical value\n",
    "mat_historical_value = initial_investment * mat_cumulative_returns\n",
    "\n",
    "\n",
    "mat_historical_value.tail()"
   ]
  },
  {
   "cell_type": "markdown",
   "id": "764a331e-1195-4a8c-a62d-4d242cc48048",
   "metadata": {},
   "source": [
    "### Daily returns, Cumulative returns, historical value of real estate heavy portfolio (\"Real Estate\")"
   ]
  },
  {
   "cell_type": "code",
   "execution_count": 118,
   "id": "1cdb6be9-6e23-41dc-8716-e5ece3e27165",
   "metadata": {
    "tags": []
   },
   "outputs": [
    {
     "data": {
      "text/plain": [
       "timestamp\n",
       "2021-01-05 05:00:00+00:00    0.007239\n",
       "2021-01-06 05:00:00+00:00    0.003009\n",
       "2021-01-07 05:00:00+00:00    0.017365\n",
       "2021-01-08 05:00:00+00:00    0.010855\n",
       "2021-01-11 05:00:00+00:00   -0.011165\n",
       "dtype: float64"
      ]
     },
     "execution_count": 118,
     "metadata": {},
     "output_type": "execute_result"
    }
   ],
   "source": [
    "# Set weights\n",
    "weights = [0.075, 0.075, 0.075, 0.075, 0.075, 0.075, 0.075, 0.075, 0.25, 0.075, 0.075]\n",
    "# Calculate portfolio return\n",
    "re_historical = stock_returns.dot(weights)\n",
    "# Display sample data\n",
    "re_historical.head()"
   ]
  },
  {
   "cell_type": "code",
   "execution_count": 119,
   "id": "d14af881-9ee8-43a0-bdc1-af341d738451",
   "metadata": {
    "tags": []
   },
   "outputs": [
    {
     "data": {
      "text/plain": [
       "timestamp\n",
       "2023-12-22 05:00:00+00:00    24758.580557\n",
       "2023-12-26 05:00:00+00:00    24842.734596\n",
       "2023-12-27 05:00:00+00:00    24939.725475\n",
       "2023-12-28 05:00:00+00:00    24998.926956\n",
       "2023-12-29 05:00:00+00:00    24868.315367\n",
       "dtype: float64"
      ]
     },
     "execution_count": 119,
     "metadata": {},
     "output_type": "execute_result"
    }
   ],
   "source": [
    "# Initial investment\n",
    "initial_investment = 20000\n",
    "\n",
    "# Calculating cumulative returns\n",
    "re_cumulative_returns = (1 + pd.Series(re_historical)).cumprod()\n",
    "\n",
    "# Calculating historical value\n",
    "re_historical_value = initial_investment * re_cumulative_returns\n",
    "\n",
    "\n",
    "re_historical_value.tail()"
   ]
  },
  {
   "cell_type": "markdown",
   "id": "283cb30f-6790-40c5-ab52-51cdde9e54af",
   "metadata": {},
   "source": [
    "### Daily returns, Cumulative returns, historical value of consumer staples heavy portfolio (\"Consumer Staples\")"
   ]
  },
  {
   "cell_type": "code",
   "execution_count": 120,
   "id": "2f6f31ee-0ac0-4e2b-8eb7-9165b481f0ca",
   "metadata": {
    "tags": []
   },
   "outputs": [
    {
     "data": {
      "text/plain": [
       "timestamp\n",
       "2021-01-05 05:00:00+00:00    0.006565\n",
       "2021-01-06 05:00:00+00:00    0.009816\n",
       "2021-01-07 05:00:00+00:00    0.014734\n",
       "2021-01-08 05:00:00+00:00    0.007354\n",
       "2021-01-11 05:00:00+00:00   -0.007832\n",
       "dtype: float64"
      ]
     },
     "execution_count": 120,
     "metadata": {},
     "output_type": "execute_result"
    }
   ],
   "source": [
    "# Set weights\n",
    "weights = [0.075, 0.075, 0.075, 0.075, 0.075, 0.075, 0.075, 0.075, 0.075, 0.25, 0.075]\n",
    "# Calculate portfolio return\n",
    "con_staple_historical = stock_returns.dot(weights)\n",
    "# Display sample data\n",
    "con_staple_historical.head()"
   ]
  },
  {
   "cell_type": "code",
   "execution_count": 121,
   "id": "d7086603-e9e2-4e2e-b227-d17d7f573155",
   "metadata": {
    "tags": []
   },
   "outputs": [
    {
     "data": {
      "text/plain": [
       "timestamp\n",
       "2023-12-22 05:00:00+00:00    24354.611269\n",
       "2023-12-26 05:00:00+00:00    24407.091943\n",
       "2023-12-27 05:00:00+00:00    24528.024149\n",
       "2023-12-28 05:00:00+00:00    24539.411023\n",
       "2023-12-29 05:00:00+00:00    24459.273844\n",
       "dtype: float64"
      ]
     },
     "execution_count": 121,
     "metadata": {},
     "output_type": "execute_result"
    }
   ],
   "source": [
    "# Initial investment\n",
    "initial_investment = 20000\n",
    "\n",
    "# Calculating cumulative returns\n",
    "con_staple_cumulative_returns = (1 + pd.Series(con_staple_historical)).cumprod()\n",
    "\n",
    "# Calculating historical value\n",
    "con_staple_historical_value = initial_investment * con_staple_cumulative_returns\n",
    "\n",
    "\n",
    "con_staple_historical_value.tail()"
   ]
  },
  {
   "cell_type": "markdown",
   "id": "51822f82-bb32-461a-8be7-c886068c9f9c",
   "metadata": {},
   "source": [
    "### Daily returns, Cumulative returns, historical value of consumer discretionary heavy portfolio (\"Consumber Discretionary\")"
   ]
  },
  {
   "cell_type": "code",
   "execution_count": 122,
   "id": "de8e734c-d55d-46b8-abbf-704fef17595b",
   "metadata": {
    "tags": []
   },
   "outputs": [
    {
     "data": {
      "text/plain": [
       "timestamp\n",
       "2021-01-05 05:00:00+00:00    0.009247\n",
       "2021-01-06 05:00:00+00:00    0.004366\n",
       "2021-01-07 05:00:00+00:00    0.016072\n",
       "2021-01-08 05:00:00+00:00    0.008515\n",
       "2021-01-11 05:00:00+00:00   -0.012386\n",
       "dtype: float64"
      ]
     },
     "execution_count": 122,
     "metadata": {},
     "output_type": "execute_result"
    }
   ],
   "source": [
    "# Set weights\n",
    "weights = [0.075, 0.075, 0.075, 0.075, 0.075, 0.075, 0.075, 0.075, 0.075, 0.075, 0.25]\n",
    "# Calculate portfolio return\n",
    "con_disc_historical = stock_returns.dot(weights)\n",
    "# Display sample data\n",
    "con_disc_historical.head()"
   ]
  },
  {
   "cell_type": "code",
   "execution_count": 123,
   "id": "d995514b-f86a-407f-80c6-6af729f5ce9e",
   "metadata": {
    "tags": []
   },
   "outputs": [
    {
     "data": {
      "text/plain": [
       "timestamp\n",
       "2023-12-22 05:00:00+00:00    19753.190907\n",
       "2023-12-26 05:00:00+00:00    19800.826967\n",
       "2023-12-27 05:00:00+00:00    19864.788204\n",
       "2023-12-28 05:00:00+00:00    19881.742900\n",
       "2023-12-29 05:00:00+00:00    19782.384293\n",
       "dtype: float64"
      ]
     },
     "execution_count": 123,
     "metadata": {},
     "output_type": "execute_result"
    }
   ],
   "source": [
    "# Initial investment\n",
    "initial_investment = 20000\n",
    "\n",
    "# Calculating cumulative returns\n",
    "con_disc_cumulative_returns = (1 + pd.Series(con_disc_historical)).cumprod()\n",
    "\n",
    "# Calculating historical value\n",
    "con_disc_historical_value = initial_investment * con_disc_cumulative_returns\n",
    "\n",
    "\n",
    "con_disc_historical_value.tail()"
   ]
  },
  {
   "cell_type": "markdown",
   "id": "c78590a0-f5f1-49a8-945c-ac22b7028796",
   "metadata": {},
   "source": [
    "### Combining/concatenating all historical values(cumulative returns * initial investment) of all portfolios with an initial investment of $20,000 from 1/05/2021 through 12/29/2023"
   ]
  },
  {
   "cell_type": "code",
   "execution_count": 124,
   "id": "23a5226a-0f69-43ed-a28c-1fa3ae19c1d6",
   "metadata": {
    "tags": []
   },
   "outputs": [
    {
     "data": {
      "text/html": [
       "<div>\n",
       "<style scoped>\n",
       "    .dataframe tbody tr th:only-of-type {\n",
       "        vertical-align: middle;\n",
       "    }\n",
       "\n",
       "    .dataframe tbody tr th {\n",
       "        vertical-align: top;\n",
       "    }\n",
       "\n",
       "    .dataframe thead th {\n",
       "        text-align: right;\n",
       "    }\n",
       "</style>\n",
       "<table border=\"1\" class=\"dataframe\">\n",
       "  <thead>\n",
       "    <tr style=\"text-align: right;\">\n",
       "      <th></th>\n",
       "      <th>Control</th>\n",
       "      <th>Technology</th>\n",
       "      <th>Finance</th>\n",
       "      <th>Consumer Services</th>\n",
       "      <th>Industrial</th>\n",
       "      <th>Energy</th>\n",
       "      <th>Utilities</th>\n",
       "      <th>Healthcare</th>\n",
       "      <th>Materials</th>\n",
       "      <th>Real Estate</th>\n",
       "      <th>Consumer Staples</th>\n",
       "      <th>Consumer Discretionary</th>\n",
       "    </tr>\n",
       "    <tr>\n",
       "      <th>timestamp</th>\n",
       "      <th></th>\n",
       "      <th></th>\n",
       "      <th></th>\n",
       "      <th></th>\n",
       "      <th></th>\n",
       "      <th></th>\n",
       "      <th></th>\n",
       "      <th></th>\n",
       "      <th></th>\n",
       "      <th></th>\n",
       "      <th></th>\n",
       "      <th></th>\n",
       "    </tr>\n",
       "  </thead>\n",
       "  <tbody>\n",
       "    <tr>\n",
       "      <th>2021-01-05 05:00:00+00:00</th>\n",
       "      <td>20179.921892</td>\n",
       "      <td>20193.208228</td>\n",
       "      <td>20143.817487</td>\n",
       "      <td>20176.353442</td>\n",
       "      <td>20192.863830</td>\n",
       "      <td>20318.609609</td>\n",
       "      <td>20175.871315</td>\n",
       "      <td>20102.867671</td>\n",
       "      <td>20234.506560</td>\n",
       "      <td>20144.780122</td>\n",
       "      <td>20131.303913</td>\n",
       "      <td>20184.949957</td>\n",
       "    </tr>\n",
       "    <tr>\n",
       "      <th>2021-01-06 05:00:00+00:00</th>\n",
       "      <td>20391.164696</td>\n",
       "      <td>20252.024635</td>\n",
       "      <td>20485.065399</td>\n",
       "      <td>20252.935627</td>\n",
       "      <td>20442.954635</td>\n",
       "      <td>20586.588196</td>\n",
       "      <td>20524.703610</td>\n",
       "      <td>20425.868896</td>\n",
       "      <td>20569.172273</td>\n",
       "      <td>20205.400788</td>\n",
       "      <td>20328.911427</td>\n",
       "      <td>20273.085531</td>\n",
       "    </tr>\n",
       "    <tr>\n",
       "      <th>2021-01-07 05:00:00+00:00</th>\n",
       "      <td>20751.999316</td>\n",
       "      <td>20669.868439</td>\n",
       "      <td>20904.870500</td>\n",
       "      <td>20624.270766</td>\n",
       "      <td>20794.205808</td>\n",
       "      <td>20918.431101</td>\n",
       "      <td>20866.753369</td>\n",
       "      <td>20784.384815</td>\n",
       "      <td>21010.738458</td>\n",
       "      <td>20556.267167</td>\n",
       "      <td>20628.446361</td>\n",
       "      <td>20598.921973</td>\n",
       "    </tr>\n",
       "    <tr>\n",
       "      <th>2021-01-08 05:00:00+00:00</th>\n",
       "      <td>20935.736398</td>\n",
       "      <td>20853.597789</td>\n",
       "      <td>21063.151471</td>\n",
       "      <td>20760.729182</td>\n",
       "      <td>21051.983724</td>\n",
       "      <td>21113.484232</td>\n",
       "      <td>21105.455050</td>\n",
       "      <td>20921.396553</td>\n",
       "      <td>21196.124437</td>\n",
       "      <td>20779.410507</td>\n",
       "      <td>20780.156662</td>\n",
       "      <td>20774.322028</td>\n",
       "    </tr>\n",
       "    <tr>\n",
       "      <th>2021-01-11 05:00:00+00:00</th>\n",
       "      <td>20719.182599</td>\n",
       "      <td>20589.000722</td>\n",
       "      <td>20936.603331</td>\n",
       "      <td>20436.081774</td>\n",
       "      <td>20845.770985</td>\n",
       "      <td>21043.653067</td>\n",
       "      <td>20857.974410</td>\n",
       "      <td>20714.460005</td>\n",
       "      <td>20888.904361</td>\n",
       "      <td>20547.414724</td>\n",
       "      <td>20617.404691</td>\n",
       "      <td>20517.017735</td>\n",
       "    </tr>\n",
       "    <tr>\n",
       "      <th>...</th>\n",
       "      <td>...</td>\n",
       "      <td>...</td>\n",
       "      <td>...</td>\n",
       "      <td>...</td>\n",
       "      <td>...</td>\n",
       "      <td>...</td>\n",
       "      <td>...</td>\n",
       "      <td>...</td>\n",
       "      <td>...</td>\n",
       "      <td>...</td>\n",
       "      <td>...</td>\n",
       "      <td>...</td>\n",
       "    </tr>\n",
       "    <tr>\n",
       "      <th>2023-12-22 05:00:00+00:00</th>\n",
       "      <td>24720.635167</td>\n",
       "      <td>25803.575097</td>\n",
       "      <td>25283.809939</td>\n",
       "      <td>25858.853376</td>\n",
       "      <td>24828.950085</td>\n",
       "      <td>28387.863187</td>\n",
       "      <td>23242.753779</td>\n",
       "      <td>25827.296313</td>\n",
       "      <td>24070.449697</td>\n",
       "      <td>24758.580557</td>\n",
       "      <td>24354.611269</td>\n",
       "      <td>19753.190907</td>\n",
       "    </tr>\n",
       "    <tr>\n",
       "      <th>2023-12-26 05:00:00+00:00</th>\n",
       "      <td>24792.511978</td>\n",
       "      <td>25853.267888</td>\n",
       "      <td>25371.239220</td>\n",
       "      <td>25939.948358</td>\n",
       "      <td>24919.613457</td>\n",
       "      <td>28467.858077</td>\n",
       "      <td>23330.384765</td>\n",
       "      <td>25887.442786</td>\n",
       "      <td>24148.740711</td>\n",
       "      <td>24842.734596</td>\n",
       "      <td>24407.091943</td>\n",
       "      <td>19800.826967</td>\n",
       "    </tr>\n",
       "    <tr>\n",
       "      <th>2023-12-27 05:00:00+00:00</th>\n",
       "      <td>24890.990275</td>\n",
       "      <td>25941.187925</td>\n",
       "      <td>25481.850939</td>\n",
       "      <td>26064.191989</td>\n",
       "      <td>25011.344334</td>\n",
       "      <td>28538.677037</td>\n",
       "      <td>23432.699812</td>\n",
       "      <td>25997.176409</td>\n",
       "      <td>24262.287284</td>\n",
       "      <td>24939.725475</td>\n",
       "      <td>24528.024149</td>\n",
       "      <td>19864.788204</td>\n",
       "    </tr>\n",
       "    <tr>\n",
       "      <th>2023-12-28 05:00:00+00:00</th>\n",
       "      <td>24915.120241</td>\n",
       "      <td>25972.251158</td>\n",
       "      <td>25526.128377</td>\n",
       "      <td>26091.494066</td>\n",
       "      <td>25035.289207</td>\n",
       "      <td>28489.515198</td>\n",
       "      <td>23481.414083</td>\n",
       "      <td>26036.540328</td>\n",
       "      <td>24268.826874</td>\n",
       "      <td>24998.926956</td>\n",
       "      <td>24539.411023</td>\n",
       "      <td>19881.742900</td>\n",
       "    </tr>\n",
       "    <tr>\n",
       "      <th>2023-12-29 05:00:00+00:00</th>\n",
       "      <td>24814.826872</td>\n",
       "      <td>25860.473824</td>\n",
       "      <td>25435.254820</td>\n",
       "      <td>25948.411364</td>\n",
       "      <td>24944.185008</td>\n",
       "      <td>28383.497035</td>\n",
       "      <td>23383.789707</td>\n",
       "      <td>25962.829100</td>\n",
       "      <td>24182.858921</td>\n",
       "      <td>24868.315367</td>\n",
       "      <td>24459.273844</td>\n",
       "      <td>19782.384293</td>\n",
       "    </tr>\n",
       "  </tbody>\n",
       "</table>\n",
       "<p>752 rows × 12 columns</p>\n",
       "</div>"
      ],
      "text/plain": [
       "                                Control    Technology       Finance  \\\n",
       "timestamp                                                             \n",
       "2021-01-05 05:00:00+00:00  20179.921892  20193.208228  20143.817487   \n",
       "2021-01-06 05:00:00+00:00  20391.164696  20252.024635  20485.065399   \n",
       "2021-01-07 05:00:00+00:00  20751.999316  20669.868439  20904.870500   \n",
       "2021-01-08 05:00:00+00:00  20935.736398  20853.597789  21063.151471   \n",
       "2021-01-11 05:00:00+00:00  20719.182599  20589.000722  20936.603331   \n",
       "...                                 ...           ...           ...   \n",
       "2023-12-22 05:00:00+00:00  24720.635167  25803.575097  25283.809939   \n",
       "2023-12-26 05:00:00+00:00  24792.511978  25853.267888  25371.239220   \n",
       "2023-12-27 05:00:00+00:00  24890.990275  25941.187925  25481.850939   \n",
       "2023-12-28 05:00:00+00:00  24915.120241  25972.251158  25526.128377   \n",
       "2023-12-29 05:00:00+00:00  24814.826872  25860.473824  25435.254820   \n",
       "\n",
       "                           Consumer Services    Industrial        Energy  \\\n",
       "timestamp                                                                  \n",
       "2021-01-05 05:00:00+00:00       20176.353442  20192.863830  20318.609609   \n",
       "2021-01-06 05:00:00+00:00       20252.935627  20442.954635  20586.588196   \n",
       "2021-01-07 05:00:00+00:00       20624.270766  20794.205808  20918.431101   \n",
       "2021-01-08 05:00:00+00:00       20760.729182  21051.983724  21113.484232   \n",
       "2021-01-11 05:00:00+00:00       20436.081774  20845.770985  21043.653067   \n",
       "...                                      ...           ...           ...   \n",
       "2023-12-22 05:00:00+00:00       25858.853376  24828.950085  28387.863187   \n",
       "2023-12-26 05:00:00+00:00       25939.948358  24919.613457  28467.858077   \n",
       "2023-12-27 05:00:00+00:00       26064.191989  25011.344334  28538.677037   \n",
       "2023-12-28 05:00:00+00:00       26091.494066  25035.289207  28489.515198   \n",
       "2023-12-29 05:00:00+00:00       25948.411364  24944.185008  28383.497035   \n",
       "\n",
       "                              Utilities    Healthcare     Materials  \\\n",
       "timestamp                                                             \n",
       "2021-01-05 05:00:00+00:00  20175.871315  20102.867671  20234.506560   \n",
       "2021-01-06 05:00:00+00:00  20524.703610  20425.868896  20569.172273   \n",
       "2021-01-07 05:00:00+00:00  20866.753369  20784.384815  21010.738458   \n",
       "2021-01-08 05:00:00+00:00  21105.455050  20921.396553  21196.124437   \n",
       "2021-01-11 05:00:00+00:00  20857.974410  20714.460005  20888.904361   \n",
       "...                                 ...           ...           ...   \n",
       "2023-12-22 05:00:00+00:00  23242.753779  25827.296313  24070.449697   \n",
       "2023-12-26 05:00:00+00:00  23330.384765  25887.442786  24148.740711   \n",
       "2023-12-27 05:00:00+00:00  23432.699812  25997.176409  24262.287284   \n",
       "2023-12-28 05:00:00+00:00  23481.414083  26036.540328  24268.826874   \n",
       "2023-12-29 05:00:00+00:00  23383.789707  25962.829100  24182.858921   \n",
       "\n",
       "                            Real Estate  Consumer Staples  \\\n",
       "timestamp                                                   \n",
       "2021-01-05 05:00:00+00:00  20144.780122      20131.303913   \n",
       "2021-01-06 05:00:00+00:00  20205.400788      20328.911427   \n",
       "2021-01-07 05:00:00+00:00  20556.267167      20628.446361   \n",
       "2021-01-08 05:00:00+00:00  20779.410507      20780.156662   \n",
       "2021-01-11 05:00:00+00:00  20547.414724      20617.404691   \n",
       "...                                 ...               ...   \n",
       "2023-12-22 05:00:00+00:00  24758.580557      24354.611269   \n",
       "2023-12-26 05:00:00+00:00  24842.734596      24407.091943   \n",
       "2023-12-27 05:00:00+00:00  24939.725475      24528.024149   \n",
       "2023-12-28 05:00:00+00:00  24998.926956      24539.411023   \n",
       "2023-12-29 05:00:00+00:00  24868.315367      24459.273844   \n",
       "\n",
       "                           Consumer Discretionary  \n",
       "timestamp                                          \n",
       "2021-01-05 05:00:00+00:00            20184.949957  \n",
       "2021-01-06 05:00:00+00:00            20273.085531  \n",
       "2021-01-07 05:00:00+00:00            20598.921973  \n",
       "2021-01-08 05:00:00+00:00            20774.322028  \n",
       "2021-01-11 05:00:00+00:00            20517.017735  \n",
       "...                                           ...  \n",
       "2023-12-22 05:00:00+00:00            19753.190907  \n",
       "2023-12-26 05:00:00+00:00            19800.826967  \n",
       "2023-12-27 05:00:00+00:00            19864.788204  \n",
       "2023-12-28 05:00:00+00:00            19881.742900  \n",
       "2023-12-29 05:00:00+00:00            19782.384293  \n",
       "\n",
       "[752 rows x 12 columns]"
      ]
     },
     "execution_count": 124,
     "metadata": {},
     "output_type": "execute_result"
    }
   ],
   "source": [
    "all_historical_values_df = pd.concat([\n",
    "    control_historical_value, \n",
    "    tech_historical_value,\n",
    "    fin_historical_value,\n",
    "    con_ser_historical_value,\n",
    "    ind_historical_value,\n",
    "    nrg_historical_value,\n",
    "    util_historical_value,\n",
    "    hc_historical_value,\n",
    "    mat_historical_value,\n",
    "    re_historical_value,\n",
    "    con_staple_historical_value,\n",
    "    con_disc_historical_value], keys=['Control', 'Technology', 'Finance', 'Consumer Services', 'Industrial', 'Energy', 'Utilities', 'Healthcare', 'Materials', 'Real Estate', 'Consumer Staples', 'Consumer Discretionary'], axis=1)\n",
    "\n",
    "all_historical_values_df"
   ]
  },
  {
   "cell_type": "markdown",
   "id": "978fdf41-b865-4acd-9bb6-aea7c9232963",
   "metadata": {
    "tags": []
   },
   "source": [
    "### Combining/concatenating all cumulative returns of all portfolios from 1/05/2021 through 12/29/2023"
   ]
  },
  {
   "cell_type": "code",
   "execution_count": 125,
   "id": "9cf88d7d-a82d-4fca-b7cf-5e9bd4625029",
   "metadata": {
    "tags": []
   },
   "outputs": [
    {
     "data": {
      "text/html": [
       "<div>\n",
       "<style scoped>\n",
       "    .dataframe tbody tr th:only-of-type {\n",
       "        vertical-align: middle;\n",
       "    }\n",
       "\n",
       "    .dataframe tbody tr th {\n",
       "        vertical-align: top;\n",
       "    }\n",
       "\n",
       "    .dataframe thead th {\n",
       "        text-align: right;\n",
       "    }\n",
       "</style>\n",
       "<table border=\"1\" class=\"dataframe\">\n",
       "  <thead>\n",
       "    <tr style=\"text-align: right;\">\n",
       "      <th></th>\n",
       "      <th>Control</th>\n",
       "      <th>Technology</th>\n",
       "      <th>Finance</th>\n",
       "      <th>Consumer Services</th>\n",
       "      <th>Industrial</th>\n",
       "      <th>Energy</th>\n",
       "      <th>Utilities</th>\n",
       "      <th>Healthcare</th>\n",
       "      <th>Materials</th>\n",
       "      <th>Real Estate</th>\n",
       "      <th>Consumer Staples</th>\n",
       "      <th>Consumer Discretionary</th>\n",
       "    </tr>\n",
       "    <tr>\n",
       "      <th>timestamp</th>\n",
       "      <th></th>\n",
       "      <th></th>\n",
       "      <th></th>\n",
       "      <th></th>\n",
       "      <th></th>\n",
       "      <th></th>\n",
       "      <th></th>\n",
       "      <th></th>\n",
       "      <th></th>\n",
       "      <th></th>\n",
       "      <th></th>\n",
       "      <th></th>\n",
       "    </tr>\n",
       "  </thead>\n",
       "  <tbody>\n",
       "    <tr>\n",
       "      <th>2021-01-05 05:00:00+00:00</th>\n",
       "      <td>1.008996</td>\n",
       "      <td>1.009660</td>\n",
       "      <td>1.007191</td>\n",
       "      <td>1.008818</td>\n",
       "      <td>1.009643</td>\n",
       "      <td>1.015930</td>\n",
       "      <td>1.008794</td>\n",
       "      <td>1.005143</td>\n",
       "      <td>1.011725</td>\n",
       "      <td>1.007239</td>\n",
       "      <td>1.006565</td>\n",
       "      <td>1.009247</td>\n",
       "    </tr>\n",
       "    <tr>\n",
       "      <th>2021-01-06 05:00:00+00:00</th>\n",
       "      <td>1.019558</td>\n",
       "      <td>1.012601</td>\n",
       "      <td>1.024253</td>\n",
       "      <td>1.012647</td>\n",
       "      <td>1.022148</td>\n",
       "      <td>1.029329</td>\n",
       "      <td>1.026235</td>\n",
       "      <td>1.021293</td>\n",
       "      <td>1.028459</td>\n",
       "      <td>1.010270</td>\n",
       "      <td>1.016446</td>\n",
       "      <td>1.013654</td>\n",
       "    </tr>\n",
       "    <tr>\n",
       "      <th>2021-01-07 05:00:00+00:00</th>\n",
       "      <td>1.037600</td>\n",
       "      <td>1.033493</td>\n",
       "      <td>1.045244</td>\n",
       "      <td>1.031214</td>\n",
       "      <td>1.039710</td>\n",
       "      <td>1.045922</td>\n",
       "      <td>1.043338</td>\n",
       "      <td>1.039219</td>\n",
       "      <td>1.050537</td>\n",
       "      <td>1.027813</td>\n",
       "      <td>1.031422</td>\n",
       "      <td>1.029946</td>\n",
       "    </tr>\n",
       "    <tr>\n",
       "      <th>2021-01-08 05:00:00+00:00</th>\n",
       "      <td>1.046787</td>\n",
       "      <td>1.042680</td>\n",
       "      <td>1.053158</td>\n",
       "      <td>1.038036</td>\n",
       "      <td>1.052599</td>\n",
       "      <td>1.055674</td>\n",
       "      <td>1.055273</td>\n",
       "      <td>1.046070</td>\n",
       "      <td>1.059806</td>\n",
       "      <td>1.038971</td>\n",
       "      <td>1.039008</td>\n",
       "      <td>1.038716</td>\n",
       "    </tr>\n",
       "    <tr>\n",
       "      <th>2021-01-11 05:00:00+00:00</th>\n",
       "      <td>1.035959</td>\n",
       "      <td>1.029450</td>\n",
       "      <td>1.046830</td>\n",
       "      <td>1.021804</td>\n",
       "      <td>1.042289</td>\n",
       "      <td>1.052183</td>\n",
       "      <td>1.042899</td>\n",
       "      <td>1.035723</td>\n",
       "      <td>1.044445</td>\n",
       "      <td>1.027371</td>\n",
       "      <td>1.030870</td>\n",
       "      <td>1.025851</td>\n",
       "    </tr>\n",
       "    <tr>\n",
       "      <th>...</th>\n",
       "      <td>...</td>\n",
       "      <td>...</td>\n",
       "      <td>...</td>\n",
       "      <td>...</td>\n",
       "      <td>...</td>\n",
       "      <td>...</td>\n",
       "      <td>...</td>\n",
       "      <td>...</td>\n",
       "      <td>...</td>\n",
       "      <td>...</td>\n",
       "      <td>...</td>\n",
       "      <td>...</td>\n",
       "    </tr>\n",
       "    <tr>\n",
       "      <th>2023-12-22 05:00:00+00:00</th>\n",
       "      <td>1.236032</td>\n",
       "      <td>1.290179</td>\n",
       "      <td>1.264190</td>\n",
       "      <td>1.292943</td>\n",
       "      <td>1.241448</td>\n",
       "      <td>1.419393</td>\n",
       "      <td>1.162138</td>\n",
       "      <td>1.291365</td>\n",
       "      <td>1.203522</td>\n",
       "      <td>1.237929</td>\n",
       "      <td>1.217731</td>\n",
       "      <td>0.987660</td>\n",
       "    </tr>\n",
       "    <tr>\n",
       "      <th>2023-12-26 05:00:00+00:00</th>\n",
       "      <td>1.239626</td>\n",
       "      <td>1.292663</td>\n",
       "      <td>1.268562</td>\n",
       "      <td>1.296997</td>\n",
       "      <td>1.245981</td>\n",
       "      <td>1.423393</td>\n",
       "      <td>1.166519</td>\n",
       "      <td>1.294372</td>\n",
       "      <td>1.207437</td>\n",
       "      <td>1.242137</td>\n",
       "      <td>1.220355</td>\n",
       "      <td>0.990041</td>\n",
       "    </tr>\n",
       "    <tr>\n",
       "      <th>2023-12-27 05:00:00+00:00</th>\n",
       "      <td>1.244550</td>\n",
       "      <td>1.297059</td>\n",
       "      <td>1.274093</td>\n",
       "      <td>1.303210</td>\n",
       "      <td>1.250567</td>\n",
       "      <td>1.426934</td>\n",
       "      <td>1.171635</td>\n",
       "      <td>1.299859</td>\n",
       "      <td>1.213114</td>\n",
       "      <td>1.246986</td>\n",
       "      <td>1.226401</td>\n",
       "      <td>0.993239</td>\n",
       "    </tr>\n",
       "    <tr>\n",
       "      <th>2023-12-28 05:00:00+00:00</th>\n",
       "      <td>1.245756</td>\n",
       "      <td>1.298613</td>\n",
       "      <td>1.276306</td>\n",
       "      <td>1.304575</td>\n",
       "      <td>1.251764</td>\n",
       "      <td>1.424476</td>\n",
       "      <td>1.174071</td>\n",
       "      <td>1.301827</td>\n",
       "      <td>1.213441</td>\n",
       "      <td>1.249946</td>\n",
       "      <td>1.226971</td>\n",
       "      <td>0.994087</td>\n",
       "    </tr>\n",
       "    <tr>\n",
       "      <th>2023-12-29 05:00:00+00:00</th>\n",
       "      <td>1.240741</td>\n",
       "      <td>1.293024</td>\n",
       "      <td>1.271763</td>\n",
       "      <td>1.297421</td>\n",
       "      <td>1.247209</td>\n",
       "      <td>1.419175</td>\n",
       "      <td>1.169189</td>\n",
       "      <td>1.298141</td>\n",
       "      <td>1.209143</td>\n",
       "      <td>1.243416</td>\n",
       "      <td>1.222964</td>\n",
       "      <td>0.989119</td>\n",
       "    </tr>\n",
       "  </tbody>\n",
       "</table>\n",
       "<p>752 rows × 12 columns</p>\n",
       "</div>"
      ],
      "text/plain": [
       "                            Control  Technology   Finance  Consumer Services  \\\n",
       "timestamp                                                                      \n",
       "2021-01-05 05:00:00+00:00  1.008996    1.009660  1.007191           1.008818   \n",
       "2021-01-06 05:00:00+00:00  1.019558    1.012601  1.024253           1.012647   \n",
       "2021-01-07 05:00:00+00:00  1.037600    1.033493  1.045244           1.031214   \n",
       "2021-01-08 05:00:00+00:00  1.046787    1.042680  1.053158           1.038036   \n",
       "2021-01-11 05:00:00+00:00  1.035959    1.029450  1.046830           1.021804   \n",
       "...                             ...         ...       ...                ...   \n",
       "2023-12-22 05:00:00+00:00  1.236032    1.290179  1.264190           1.292943   \n",
       "2023-12-26 05:00:00+00:00  1.239626    1.292663  1.268562           1.296997   \n",
       "2023-12-27 05:00:00+00:00  1.244550    1.297059  1.274093           1.303210   \n",
       "2023-12-28 05:00:00+00:00  1.245756    1.298613  1.276306           1.304575   \n",
       "2023-12-29 05:00:00+00:00  1.240741    1.293024  1.271763           1.297421   \n",
       "\n",
       "                           Industrial    Energy  Utilities  Healthcare  \\\n",
       "timestamp                                                                \n",
       "2021-01-05 05:00:00+00:00    1.009643  1.015930   1.008794    1.005143   \n",
       "2021-01-06 05:00:00+00:00    1.022148  1.029329   1.026235    1.021293   \n",
       "2021-01-07 05:00:00+00:00    1.039710  1.045922   1.043338    1.039219   \n",
       "2021-01-08 05:00:00+00:00    1.052599  1.055674   1.055273    1.046070   \n",
       "2021-01-11 05:00:00+00:00    1.042289  1.052183   1.042899    1.035723   \n",
       "...                               ...       ...        ...         ...   \n",
       "2023-12-22 05:00:00+00:00    1.241448  1.419393   1.162138    1.291365   \n",
       "2023-12-26 05:00:00+00:00    1.245981  1.423393   1.166519    1.294372   \n",
       "2023-12-27 05:00:00+00:00    1.250567  1.426934   1.171635    1.299859   \n",
       "2023-12-28 05:00:00+00:00    1.251764  1.424476   1.174071    1.301827   \n",
       "2023-12-29 05:00:00+00:00    1.247209  1.419175   1.169189    1.298141   \n",
       "\n",
       "                           Materials  Real Estate  Consumer Staples  \\\n",
       "timestamp                                                             \n",
       "2021-01-05 05:00:00+00:00   1.011725     1.007239          1.006565   \n",
       "2021-01-06 05:00:00+00:00   1.028459     1.010270          1.016446   \n",
       "2021-01-07 05:00:00+00:00   1.050537     1.027813          1.031422   \n",
       "2021-01-08 05:00:00+00:00   1.059806     1.038971          1.039008   \n",
       "2021-01-11 05:00:00+00:00   1.044445     1.027371          1.030870   \n",
       "...                              ...          ...               ...   \n",
       "2023-12-22 05:00:00+00:00   1.203522     1.237929          1.217731   \n",
       "2023-12-26 05:00:00+00:00   1.207437     1.242137          1.220355   \n",
       "2023-12-27 05:00:00+00:00   1.213114     1.246986          1.226401   \n",
       "2023-12-28 05:00:00+00:00   1.213441     1.249946          1.226971   \n",
       "2023-12-29 05:00:00+00:00   1.209143     1.243416          1.222964   \n",
       "\n",
       "                           Consumer Discretionary  \n",
       "timestamp                                          \n",
       "2021-01-05 05:00:00+00:00                1.009247  \n",
       "2021-01-06 05:00:00+00:00                1.013654  \n",
       "2021-01-07 05:00:00+00:00                1.029946  \n",
       "2021-01-08 05:00:00+00:00                1.038716  \n",
       "2021-01-11 05:00:00+00:00                1.025851  \n",
       "...                                           ...  \n",
       "2023-12-22 05:00:00+00:00                0.987660  \n",
       "2023-12-26 05:00:00+00:00                0.990041  \n",
       "2023-12-27 05:00:00+00:00                0.993239  \n",
       "2023-12-28 05:00:00+00:00                0.994087  \n",
       "2023-12-29 05:00:00+00:00                0.989119  \n",
       "\n",
       "[752 rows x 12 columns]"
      ]
     },
     "execution_count": 125,
     "metadata": {},
     "output_type": "execute_result"
    }
   ],
   "source": [
    "all_cumulative_returns_df = pd.concat([\n",
    "    control_cumulative_returns, \n",
    "    tech_cumulative_returns,\n",
    "    fin_cumulative_returns,\n",
    "    con_ser_cumulative_returns,\n",
    "    ind_cumulative_returns,\n",
    "    nrg_cumulative_returns,\n",
    "    util_cumulative_returns,\n",
    "    hc_cumulative_returns,\n",
    "    mat_cumulative_returns,\n",
    "    re_cumulative_returns,\n",
    "    con_staple_cumulative_returns,\n",
    "    con_disc_cumulative_returns], keys=['Control', 'Technology', 'Finance', 'Consumer Services', 'Industrial', 'Energy', 'Utilities', 'Healthcare', 'Materials', 'Real Estate', 'Consumer Staples', 'Consumer Discretionary'], axis=1)\n",
    "\n",
    "all_cumulative_returns_df"
   ]
  },
  {
   "cell_type": "markdown",
   "id": "5ffe5dab-42ab-418b-9ba1-7d56c4d630d3",
   "metadata": {
    "tags": []
   },
   "source": [
    "### Combining/concatenating all daily returns of all portfolios from 1/05/2021 through 12/29/2023"
   ]
  },
  {
   "cell_type": "code",
   "execution_count": 126,
   "id": "6716cb2f-fd9a-4719-b055-be9b1d769f9c",
   "metadata": {
    "tags": []
   },
   "outputs": [
    {
     "data": {
      "text/html": [
       "<div>\n",
       "<style scoped>\n",
       "    .dataframe tbody tr th:only-of-type {\n",
       "        vertical-align: middle;\n",
       "    }\n",
       "\n",
       "    .dataframe tbody tr th {\n",
       "        vertical-align: top;\n",
       "    }\n",
       "\n",
       "    .dataframe thead th {\n",
       "        text-align: right;\n",
       "    }\n",
       "</style>\n",
       "<table border=\"1\" class=\"dataframe\">\n",
       "  <thead>\n",
       "    <tr style=\"text-align: right;\">\n",
       "      <th></th>\n",
       "      <th>Control</th>\n",
       "      <th>Technology</th>\n",
       "      <th>Finance</th>\n",
       "      <th>Consumer Services</th>\n",
       "      <th>Industrial</th>\n",
       "      <th>Energy</th>\n",
       "      <th>Utilities</th>\n",
       "      <th>Healthcare</th>\n",
       "      <th>Materials</th>\n",
       "      <th>Real Estate</th>\n",
       "      <th>Consumer Staples</th>\n",
       "      <th>Consumer Discretionary</th>\n",
       "    </tr>\n",
       "    <tr>\n",
       "      <th>timestamp</th>\n",
       "      <th></th>\n",
       "      <th></th>\n",
       "      <th></th>\n",
       "      <th></th>\n",
       "      <th></th>\n",
       "      <th></th>\n",
       "      <th></th>\n",
       "      <th></th>\n",
       "      <th></th>\n",
       "      <th></th>\n",
       "      <th></th>\n",
       "      <th></th>\n",
       "    </tr>\n",
       "  </thead>\n",
       "  <tbody>\n",
       "    <tr>\n",
       "      <th>2021-01-05 05:00:00+00:00</th>\n",
       "      <td>0.008996</td>\n",
       "      <td>0.009660</td>\n",
       "      <td>0.007191</td>\n",
       "      <td>0.008818</td>\n",
       "      <td>0.009643</td>\n",
       "      <td>0.015930</td>\n",
       "      <td>0.008794</td>\n",
       "      <td>0.005143</td>\n",
       "      <td>0.011725</td>\n",
       "      <td>0.007239</td>\n",
       "      <td>0.006565</td>\n",
       "      <td>0.009247</td>\n",
       "    </tr>\n",
       "    <tr>\n",
       "      <th>2021-01-06 05:00:00+00:00</th>\n",
       "      <td>0.010468</td>\n",
       "      <td>0.002913</td>\n",
       "      <td>0.016941</td>\n",
       "      <td>0.003796</td>\n",
       "      <td>0.012385</td>\n",
       "      <td>0.013189</td>\n",
       "      <td>0.017290</td>\n",
       "      <td>0.016067</td>\n",
       "      <td>0.016539</td>\n",
       "      <td>0.003009</td>\n",
       "      <td>0.009816</td>\n",
       "      <td>0.004366</td>\n",
       "    </tr>\n",
       "    <tr>\n",
       "      <th>2021-01-07 05:00:00+00:00</th>\n",
       "      <td>0.017696</td>\n",
       "      <td>0.020632</td>\n",
       "      <td>0.020493</td>\n",
       "      <td>0.018335</td>\n",
       "      <td>0.017182</td>\n",
       "      <td>0.016119</td>\n",
       "      <td>0.016665</td>\n",
       "      <td>0.017552</td>\n",
       "      <td>0.021467</td>\n",
       "      <td>0.017365</td>\n",
       "      <td>0.014734</td>\n",
       "      <td>0.016072</td>\n",
       "    </tr>\n",
       "    <tr>\n",
       "      <th>2021-01-08 05:00:00+00:00</th>\n",
       "      <td>0.008854</td>\n",
       "      <td>0.008889</td>\n",
       "      <td>0.007571</td>\n",
       "      <td>0.006616</td>\n",
       "      <td>0.012397</td>\n",
       "      <td>0.009324</td>\n",
       "      <td>0.011439</td>\n",
       "      <td>0.006592</td>\n",
       "      <td>0.008823</td>\n",
       "      <td>0.010855</td>\n",
       "      <td>0.007354</td>\n",
       "      <td>0.008515</td>\n",
       "    </tr>\n",
       "    <tr>\n",
       "      <th>2021-01-11 05:00:00+00:00</th>\n",
       "      <td>-0.010344</td>\n",
       "      <td>-0.012688</td>\n",
       "      <td>-0.006008</td>\n",
       "      <td>-0.015638</td>\n",
       "      <td>-0.009795</td>\n",
       "      <td>-0.003307</td>\n",
       "      <td>-0.011726</td>\n",
       "      <td>-0.009891</td>\n",
       "      <td>-0.014494</td>\n",
       "      <td>-0.011165</td>\n",
       "      <td>-0.007832</td>\n",
       "      <td>-0.012386</td>\n",
       "    </tr>\n",
       "    <tr>\n",
       "      <th>...</th>\n",
       "      <td>...</td>\n",
       "      <td>...</td>\n",
       "      <td>...</td>\n",
       "      <td>...</td>\n",
       "      <td>...</td>\n",
       "      <td>...</td>\n",
       "      <td>...</td>\n",
       "      <td>...</td>\n",
       "      <td>...</td>\n",
       "      <td>...</td>\n",
       "      <td>...</td>\n",
       "      <td>...</td>\n",
       "    </tr>\n",
       "    <tr>\n",
       "      <th>2023-12-22 05:00:00+00:00</th>\n",
       "      <td>0.000683</td>\n",
       "      <td>-0.000401</td>\n",
       "      <td>0.000465</td>\n",
       "      <td>0.000223</td>\n",
       "      <td>0.001632</td>\n",
       "      <td>0.000879</td>\n",
       "      <td>0.001010</td>\n",
       "      <td>0.000714</td>\n",
       "      <td>0.000167</td>\n",
       "      <td>0.000150</td>\n",
       "      <td>0.002661</td>\n",
       "      <td>0.000092</td>\n",
       "    </tr>\n",
       "    <tr>\n",
       "      <th>2023-12-26 05:00:00+00:00</th>\n",
       "      <td>0.002908</td>\n",
       "      <td>0.001926</td>\n",
       "      <td>0.003458</td>\n",
       "      <td>0.003136</td>\n",
       "      <td>0.003652</td>\n",
       "      <td>0.002818</td>\n",
       "      <td>0.003770</td>\n",
       "      <td>0.002329</td>\n",
       "      <td>0.003253</td>\n",
       "      <td>0.003399</td>\n",
       "      <td>0.002155</td>\n",
       "      <td>0.002412</td>\n",
       "    </tr>\n",
       "    <tr>\n",
       "      <th>2023-12-27 05:00:00+00:00</th>\n",
       "      <td>0.003972</td>\n",
       "      <td>0.003401</td>\n",
       "      <td>0.004360</td>\n",
       "      <td>0.004790</td>\n",
       "      <td>0.003681</td>\n",
       "      <td>0.002488</td>\n",
       "      <td>0.004385</td>\n",
       "      <td>0.004239</td>\n",
       "      <td>0.004702</td>\n",
       "      <td>0.003904</td>\n",
       "      <td>0.004955</td>\n",
       "      <td>0.003230</td>\n",
       "    </tr>\n",
       "    <tr>\n",
       "      <th>2023-12-28 05:00:00+00:00</th>\n",
       "      <td>0.000969</td>\n",
       "      <td>0.001197</td>\n",
       "      <td>0.001738</td>\n",
       "      <td>0.001047</td>\n",
       "      <td>0.000957</td>\n",
       "      <td>-0.001723</td>\n",
       "      <td>0.002079</td>\n",
       "      <td>0.001514</td>\n",
       "      <td>0.000270</td>\n",
       "      <td>0.002374</td>\n",
       "      <td>0.000464</td>\n",
       "      <td>0.000854</td>\n",
       "    </tr>\n",
       "    <tr>\n",
       "      <th>2023-12-29 05:00:00+00:00</th>\n",
       "      <td>-0.004025</td>\n",
       "      <td>-0.004304</td>\n",
       "      <td>-0.003560</td>\n",
       "      <td>-0.005484</td>\n",
       "      <td>-0.003639</td>\n",
       "      <td>-0.003721</td>\n",
       "      <td>-0.004158</td>\n",
       "      <td>-0.002831</td>\n",
       "      <td>-0.003542</td>\n",
       "      <td>-0.005225</td>\n",
       "      <td>-0.003266</td>\n",
       "      <td>-0.004997</td>\n",
       "    </tr>\n",
       "  </tbody>\n",
       "</table>\n",
       "<p>752 rows × 12 columns</p>\n",
       "</div>"
      ],
      "text/plain": [
       "                            Control  Technology   Finance  Consumer Services  \\\n",
       "timestamp                                                                      \n",
       "2021-01-05 05:00:00+00:00  0.008996    0.009660  0.007191           0.008818   \n",
       "2021-01-06 05:00:00+00:00  0.010468    0.002913  0.016941           0.003796   \n",
       "2021-01-07 05:00:00+00:00  0.017696    0.020632  0.020493           0.018335   \n",
       "2021-01-08 05:00:00+00:00  0.008854    0.008889  0.007571           0.006616   \n",
       "2021-01-11 05:00:00+00:00 -0.010344   -0.012688 -0.006008          -0.015638   \n",
       "...                             ...         ...       ...                ...   \n",
       "2023-12-22 05:00:00+00:00  0.000683   -0.000401  0.000465           0.000223   \n",
       "2023-12-26 05:00:00+00:00  0.002908    0.001926  0.003458           0.003136   \n",
       "2023-12-27 05:00:00+00:00  0.003972    0.003401  0.004360           0.004790   \n",
       "2023-12-28 05:00:00+00:00  0.000969    0.001197  0.001738           0.001047   \n",
       "2023-12-29 05:00:00+00:00 -0.004025   -0.004304 -0.003560          -0.005484   \n",
       "\n",
       "                           Industrial    Energy  Utilities  Healthcare  \\\n",
       "timestamp                                                                \n",
       "2021-01-05 05:00:00+00:00    0.009643  0.015930   0.008794    0.005143   \n",
       "2021-01-06 05:00:00+00:00    0.012385  0.013189   0.017290    0.016067   \n",
       "2021-01-07 05:00:00+00:00    0.017182  0.016119   0.016665    0.017552   \n",
       "2021-01-08 05:00:00+00:00    0.012397  0.009324   0.011439    0.006592   \n",
       "2021-01-11 05:00:00+00:00   -0.009795 -0.003307  -0.011726   -0.009891   \n",
       "...                               ...       ...        ...         ...   \n",
       "2023-12-22 05:00:00+00:00    0.001632  0.000879   0.001010    0.000714   \n",
       "2023-12-26 05:00:00+00:00    0.003652  0.002818   0.003770    0.002329   \n",
       "2023-12-27 05:00:00+00:00    0.003681  0.002488   0.004385    0.004239   \n",
       "2023-12-28 05:00:00+00:00    0.000957 -0.001723   0.002079    0.001514   \n",
       "2023-12-29 05:00:00+00:00   -0.003639 -0.003721  -0.004158   -0.002831   \n",
       "\n",
       "                           Materials  Real Estate  Consumer Staples  \\\n",
       "timestamp                                                             \n",
       "2021-01-05 05:00:00+00:00   0.011725     0.007239          0.006565   \n",
       "2021-01-06 05:00:00+00:00   0.016539     0.003009          0.009816   \n",
       "2021-01-07 05:00:00+00:00   0.021467     0.017365          0.014734   \n",
       "2021-01-08 05:00:00+00:00   0.008823     0.010855          0.007354   \n",
       "2021-01-11 05:00:00+00:00  -0.014494    -0.011165         -0.007832   \n",
       "...                              ...          ...               ...   \n",
       "2023-12-22 05:00:00+00:00   0.000167     0.000150          0.002661   \n",
       "2023-12-26 05:00:00+00:00   0.003253     0.003399          0.002155   \n",
       "2023-12-27 05:00:00+00:00   0.004702     0.003904          0.004955   \n",
       "2023-12-28 05:00:00+00:00   0.000270     0.002374          0.000464   \n",
       "2023-12-29 05:00:00+00:00  -0.003542    -0.005225         -0.003266   \n",
       "\n",
       "                           Consumer Discretionary  \n",
       "timestamp                                          \n",
       "2021-01-05 05:00:00+00:00                0.009247  \n",
       "2021-01-06 05:00:00+00:00                0.004366  \n",
       "2021-01-07 05:00:00+00:00                0.016072  \n",
       "2021-01-08 05:00:00+00:00                0.008515  \n",
       "2021-01-11 05:00:00+00:00               -0.012386  \n",
       "...                                           ...  \n",
       "2023-12-22 05:00:00+00:00                0.000092  \n",
       "2023-12-26 05:00:00+00:00                0.002412  \n",
       "2023-12-27 05:00:00+00:00                0.003230  \n",
       "2023-12-28 05:00:00+00:00                0.000854  \n",
       "2023-12-29 05:00:00+00:00               -0.004997  \n",
       "\n",
       "[752 rows x 12 columns]"
      ]
     },
     "execution_count": 126,
     "metadata": {},
     "output_type": "execute_result"
    }
   ],
   "source": [
    "all_returns_df = pd.concat([\n",
    "    control_historical, \n",
    "    tech_historical,\n",
    "    fin_historical,\n",
    "    con_ser_historical,\n",
    "    ind_historical,\n",
    "    nrg_historical,\n",
    "    util_historical,\n",
    "    hc_historical,\n",
    "    mat_historical,\n",
    "    re_historical,\n",
    "    con_staple_historical,\n",
    "    con_disc_historical], keys=['Control', 'Technology', 'Finance', 'Consumer Services', 'Industrial', 'Energy', 'Utilities', 'Healthcare', 'Materials', 'Real Estate', 'Consumer Staples', 'Consumer Discretionary'], axis=1)\n",
    "\n",
    "all_returns_df"
   ]
  },
  {
   "cell_type": "markdown",
   "id": "35ce0495-f763-424c-90f3-91a980fd9d8e",
   "metadata": {},
   "source": [
    "## Plot cumulative & daily returns alongside historical values (Thursday/Monday)"
   ]
  },
  {
   "cell_type": "markdown",
   "id": "d76d3d2d-3943-489c-b859-71b449c019dc",
   "metadata": {},
   "source": [
    "# Risk Analysis\n"
   ]
  },
  {
   "cell_type": "code",
   "execution_count": 127,
   "id": "267357b7-6b47-49ba-a6b8-2e0244386e1c",
   "metadata": {
    "tags": []
   },
   "outputs": [
    {
     "data": {
      "text/plain": [
       "Consumer Staples          0.010495\n",
       "Healthcare                0.010574\n",
       "Industrial                0.011045\n",
       "Energy                    0.011160\n",
       "Finance                   0.011163\n",
       "Control                   0.011185\n",
       "Utilities                 0.011202\n",
       "Real Estate               0.011430\n",
       "Materials                 0.011609\n",
       "Technology                0.011724\n",
       "Consumer Services         0.013237\n",
       "Consumer Discretionary    0.014920\n",
       "dtype: float64"
      ]
     },
     "execution_count": 127,
     "metadata": {},
     "output_type": "execute_result"
    }
   ],
   "source": [
    "## Use all_returns_df for Risk Analysis\n",
    "all_portfolio_std = all_returns_df.std()\n",
    "all_portfolio_std.sort_values()"
   ]
  },
  {
   "cell_type": "code",
   "execution_count": 128,
   "id": "0b0213be-bbe5-4a0b-96aa-c8e140d67e48",
   "metadata": {
    "tags": []
   },
   "outputs": [
    {
     "data": {
      "text/plain": [
       "Consumer Staples          0.166595\n",
       "Healthcare                0.167854\n",
       "Industrial                0.175337\n",
       "Energy                    0.177164\n",
       "Finance                   0.177203\n",
       "Control                   0.177557\n",
       "Utilities                 0.177830\n",
       "Real Estate               0.181447\n",
       "Materials                 0.184282\n",
       "Technology                0.186116\n",
       "Consumer Services         0.210138\n",
       "Consumer Discretionary    0.236854\n",
       "dtype: float64"
      ]
     },
     "execution_count": 128,
     "metadata": {},
     "output_type": "execute_result"
    }
   ],
   "source": [
    "## Determine which portfolios are riskier\n",
    "volatility = all_returns_df.std() * np.sqrt(252)\n",
    "volatility.sort_values()"
   ]
  },
  {
   "cell_type": "code",
   "execution_count": 130,
   "id": "7bef2126-0b33-4b8e-9a65-67d9a2ea4f06",
   "metadata": {
    "tags": []
   },
   "outputs": [
    {
     "data": {
      "text/plain": [
       "<Axes: >"
      ]
     },
     "execution_count": 130,
     "metadata": {},
     "output_type": "execute_result"
    },
    {
     "data": {
      "image/png": "[encoded data removed]",
      "text/plain": [
       "<Figure size 2000x2000 with 1 Axes>"
      ]
     },
     "metadata": {},
     "output_type": "display_data"
    }
   ],
   "source": [
    "## Create a box plot for each of the returns.\n",
    "\n",
    "# Box plot to visually show risk\n",
    "\n",
    "all_returns_df.boxplot(column=['Control', 'Technology', 'Finance', 'Consumer Services', 'Industrial', 'Energy', 'Utilities', 'Healthcare', 'Materials', 'Real Estate', 'Consumer Staples', 'Consumer Discretionary'], figsize=(20,20), fontsize='large', rot=45)"
   ]
  },
  {
   "cell_type": "code",
   "execution_count": 132,
   "id": "274f2936-5318-4176-b2cf-81bf1ad6819d",
   "metadata": {
    "tags": []
   },
   "outputs": [
    {
     "data": {
      "text/plain": [
       "Consumer Staples          0.166595\n",
       "Healthcare                0.167854\n",
       "Industrial                0.175337\n",
       "Energy                    0.177164\n",
       "Finance                   0.177203\n",
       "Control                   0.177557\n",
       "Utilities                 0.177830\n",
       "Real Estate               0.181447\n",
       "Materials                 0.184282\n",
       "Technology                0.186116\n",
       "Consumer Services         0.210138\n",
       "Consumer Discretionary    0.236854\n",
       "dtype: float64"
      ]
     },
     "execution_count": 132,
     "metadata": {},
     "output_type": "execute_result"
    }
   ],
   "source": [
    "## Calculate the Annualized Standard Deviation.\n",
    "annualized_std = all_returns_df.std() * np.sqrt(252)\n",
    "annualized_std.sort_values()"
   ]
  },
  {
   "cell_type": "markdown",
   "id": "d75f4996-ce38-4c5d-b5c3-ade7df0312c5",
   "metadata": {},
   "source": [
    "# Monte Carlo 5 year simulation with an initial investment of $20,000 for each portfolio"
   ]
  },
  {
   "cell_type": "code",
   "execution_count": null,
   "id": "9da9f7e1-9978-49c3-9619-cb0df10bca5d",
   "metadata": {},
   "outputs": [],
   "source": []
  }
 ],
 "metadata": {
  "kernelspec": {
   "display_name": "Python 3 (ipykernel)",
   "language": "python",
   "name": "python3"
  },
  "language_info": {
   "codemirror_mode": {
    "name": "ipython",
    "version": 3
   },
   "file_extension": ".py",
   "mimetype": "text/x-python",
   "name": "python",
   "nbconvert_exporter": "python",
   "pygments_lexer": "ipython3",
   "version": "3.11.7"
  }
 },
 "nbformat": 4,
 "nbformat_minor": 5
}
