{
 "cells": [
  {
   "cell_type": "markdown",
   "id": "2ce117b7-a4ea-4e27-8f85-342f7142ef28",
   "metadata": {},
   "source": [
    "# Need to do:\n",
    "\n",
    "2. Plots/Visualizations\n",
    "3. Proof read/change comments throughout document\n",
    "4. run notebook through to only show visualizations\n",
    "5. Readme (use section titles as guides)\n",
    "6. Presentation Slides\n",
    "7. png images? (ask tutor)\n",
    "8. edit MCForecastTools to change plots as well as print statement. Add plot to show $$ distribution?\n",
    "9. proofread variables and make sure they are unique to each portfolio\n",
    "for pie chart: create dataframe with all separate portfolio weights(change labels for all weights to specify which portfolio); also add drop down so you can flip through portfolio weights"
   ]
  },
  {
   "cell_type": "markdown",
   "id": "ac6a57ec-a114-48a1-bd32-bf268b1d31ef",
   "metadata": {
    "tags": []
   },
   "source": [
    "# Part I: Imports"
   ]
  },
  {
   "cell_type": "code",
   "execution_count": 1,
   "id": "b302eb89-3038-4eeb-83fa-82376a4bf762",
   "metadata": {
    "tags": []
   },
   "outputs": [],
   "source": [
    "# Imports\n",
    "import os\n",
    "import requests\n",
    "import pandas as pd\n",
    "import numpy as np\n",
    "from dotenv import load_dotenv\n",
    "import alpaca_trade_api as tradeapi\n",
    "from MCForecastTools import MCSimulation\n",
    "import plotly.express as px\n",
    "import plotly.graph_objects as go\n",
    "from datetime import datetime\n",
    "import seaborn as sns\n",
    "\n",
    "%matplotlib inline"
   ]
  },
  {
   "cell_type": "markdown",
   "id": "fa37508f-b5a9-41e5-a730-0dce652d0a15",
   "metadata": {
    "tags": []
   },
   "source": [
    "# Part II: API Data Extraction & Cleansing"
   ]
  },
  {
   "cell_type": "code",
   "execution_count": 2,
   "id": "39305dc5-c494-4c08-a6d9-968851886f49",
   "metadata": {
    "tags": []
   },
   "outputs": [],
   "source": [
    "# Setting path variable\n",
    "path = ('/Users/jordanromnes/Downloads/Project_1/keys.env')"
   ]
  },
  {
   "cell_type": "code",
   "execution_count": 3,
   "id": "ed9beda9-85a1-4a79-8a46-074dca9dc09c",
   "metadata": {
    "tags": []
   },
   "outputs": [
    {
     "data": {
      "text/plain": [
       "True"
      ]
     },
     "execution_count": 3,
     "metadata": {},
     "output_type": "execute_result"
    }
   ],
   "source": [
    "# Load .env environment variables\n",
    "load_dotenv(path)"
   ]
  },
  {
   "cell_type": "code",
   "execution_count": 4,
   "id": "e79468ce-7fcc-4799-9bab-11f6e7d9b7f1",
   "metadata": {
    "tags": []
   },
   "outputs": [],
   "source": [
    "# Setting Alpaca API key and secret\n",
    "alpaca_api_key = os.getenv(\"ALPACA_API_KEY\")\n",
    "alpaca_secret_key = os.getenv(\"ALPACA_SECRET_KEY\")"
   ]
  },
  {
   "cell_type": "code",
   "execution_count": 5,
   "id": "ae252346-e1a5-47f2-983a-e455a23a5a33",
   "metadata": {
    "tags": []
   },
   "outputs": [
    {
     "name": "stdout",
     "output_type": "stream",
     "text": [
      "Alpaca Key type: <class 'str'>\n",
      "Alpaca Secret Key type: <class 'str'>\n"
     ]
    }
   ],
   "source": [
    "# Verifying that Alpaca key and secret were correctly loaded\n",
    "print(f\"Alpaca Key type: {type(alpaca_api_key)}\")\n",
    "print(f\"Alpaca Secret Key type: {type(alpaca_secret_key)}\")"
   ]
  },
  {
   "cell_type": "code",
   "execution_count": 6,
   "id": "e632c109-d730-4336-93ad-ebedbd0afa8e",
   "metadata": {
    "tags": []
   },
   "outputs": [],
   "source": [
    "# Creating the Alpaca API object\n",
    "alpaca = tradeapi.REST(\n",
    "    alpaca_api_key,\n",
    "    alpaca_secret_key,\n",
    "    api_version=\"v2\")"
   ]
  },
  {
   "cell_type": "markdown",
   "id": "1cceb081-8cf9-4016-9792-f502a15d80d5",
   "metadata": {
    "tags": []
   },
   "source": [
    "### **** Switch timestamp/corresponding comments ****"
   ]
  },
  {
   "cell_type": "code",
   "execution_count": 7,
   "id": "54d94ef5-738c-4dd6-a0af-b57aeb5b8abe",
   "metadata": {
    "tags": []
   },
   "outputs": [],
   "source": [
    "# Setting date range for API data extraction\n",
    "start_date = pd.Timestamp('2021-01-01', tz='America/New_York').isoformat()\n",
    "end_date = pd.Timestamp('2024-01-01', tz='America/New_York').isoformat()"
   ]
  },
  {
   "cell_type": "code",
   "execution_count": 8,
   "id": "e4938dd6-c66a-455f-ad82-e12a4ed9dba6",
   "metadata": {
    "tags": []
   },
   "outputs": [
    {
     "data": {
      "text/html": [
       "<div>\n",
       "<style scoped>\n",
       "    .dataframe tbody tr th:only-of-type {\n",
       "        vertical-align: middle;\n",
       "    }\n",
       "\n",
       "    .dataframe tbody tr th {\n",
       "        vertical-align: top;\n",
       "    }\n",
       "\n",
       "    .dataframe thead th {\n",
       "        text-align: right;\n",
       "    }\n",
       "</style>\n",
       "<table border=\"1\" class=\"dataframe\">\n",
       "  <thead>\n",
       "    <tr style=\"text-align: right;\">\n",
       "      <th></th>\n",
       "      <th>AAPL</th>\n",
       "      <th>JPM</th>\n",
       "      <th>META</th>\n",
       "      <th>UNP</th>\n",
       "      <th>XOM</th>\n",
       "      <th>NEE</th>\n",
       "      <th>UNH</th>\n",
       "      <th>RIO</th>\n",
       "      <th>EQIX</th>\n",
       "      <th>WMT</th>\n",
       "      <th>AMZN</th>\n",
       "    </tr>\n",
       "    <tr>\n",
       "      <th>Date</th>\n",
       "      <th></th>\n",
       "      <th></th>\n",
       "      <th></th>\n",
       "      <th></th>\n",
       "      <th></th>\n",
       "      <th></th>\n",
       "      <th></th>\n",
       "      <th></th>\n",
       "      <th></th>\n",
       "      <th></th>\n",
       "      <th></th>\n",
       "    </tr>\n",
       "  </thead>\n",
       "  <tbody>\n",
       "    <tr>\n",
       "      <th>2021-01-04 05:00:00+00:00</th>\n",
       "      <td>129.41</td>\n",
       "      <td>125.87</td>\n",
       "      <td>268.94</td>\n",
       "      <td>203.01</td>\n",
       "      <td>41.50</td>\n",
       "      <td>74.22</td>\n",
       "      <td>349.50</td>\n",
       "      <td>77.39</td>\n",
       "      <td>692.56</td>\n",
       "      <td>146.53</td>\n",
       "      <td>3186.63</td>\n",
       "    </tr>\n",
       "    <tr>\n",
       "      <th>2021-01-05 05:00:00+00:00</th>\n",
       "      <td>131.01</td>\n",
       "      <td>125.65</td>\n",
       "      <td>270.97</td>\n",
       "      <td>205.50</td>\n",
       "      <td>43.50</td>\n",
       "      <td>74.77</td>\n",
       "      <td>344.80</td>\n",
       "      <td>79.26</td>\n",
       "      <td>691.54</td>\n",
       "      <td>145.75</td>\n",
       "      <td>3218.51</td>\n",
       "    </tr>\n",
       "    <tr>\n",
       "      <th>2021-01-06 05:00:00+00:00</th>\n",
       "      <td>126.66</td>\n",
       "      <td>131.55</td>\n",
       "      <td>263.34</td>\n",
       "      <td>209.80</td>\n",
       "      <td>44.61</td>\n",
       "      <td>78.43</td>\n",
       "      <td>359.27</td>\n",
       "      <td>82.80</td>\n",
       "      <td>668.96</td>\n",
       "      <td>146.66</td>\n",
       "      <td>3138.38</td>\n",
       "    </tr>\n",
       "    <tr>\n",
       "      <th>2021-01-07 05:00:00+00:00</th>\n",
       "      <td>130.92</td>\n",
       "      <td>135.87</td>\n",
       "      <td>268.74</td>\n",
       "      <td>212.72</td>\n",
       "      <td>44.96</td>\n",
       "      <td>79.29</td>\n",
       "      <td>365.03</td>\n",
       "      <td>85.98</td>\n",
       "      <td>678.97</td>\n",
       "      <td>146.65</td>\n",
       "      <td>3162.16</td>\n",
       "    </tr>\n",
       "    <tr>\n",
       "      <th>2021-01-08 05:00:00+00:00</th>\n",
       "      <td>132.05</td>\n",
       "      <td>136.02</td>\n",
       "      <td>267.57</td>\n",
       "      <td>218.82</td>\n",
       "      <td>45.46</td>\n",
       "      <td>81.13</td>\n",
       "      <td>363.39</td>\n",
       "      <td>86.69</td>\n",
       "      <td>692.46</td>\n",
       "      <td>146.63</td>\n",
       "      <td>3182.70</td>\n",
       "    </tr>\n",
       "  </tbody>\n",
       "</table>\n",
       "</div>"
      ],
      "text/plain": [
       "                             AAPL     JPM    META     UNP    XOM    NEE  \\\n",
       "Date                                                                      \n",
       "2021-01-04 05:00:00+00:00  129.41  125.87  268.94  203.01  41.50  74.22   \n",
       "2021-01-05 05:00:00+00:00  131.01  125.65  270.97  205.50  43.50  74.77   \n",
       "2021-01-06 05:00:00+00:00  126.66  131.55  263.34  209.80  44.61  78.43   \n",
       "2021-01-07 05:00:00+00:00  130.92  135.87  268.74  212.72  44.96  79.29   \n",
       "2021-01-08 05:00:00+00:00  132.05  136.02  267.57  218.82  45.46  81.13   \n",
       "\n",
       "                              UNH    RIO    EQIX     WMT     AMZN  \n",
       "Date                                                               \n",
       "2021-01-04 05:00:00+00:00  349.50  77.39  692.56  146.53  3186.63  \n",
       "2021-01-05 05:00:00+00:00  344.80  79.26  691.54  145.75  3218.51  \n",
       "2021-01-06 05:00:00+00:00  359.27  82.80  668.96  146.66  3138.38  \n",
       "2021-01-07 05:00:00+00:00  365.03  85.98  678.97  146.65  3162.16  \n",
       "2021-01-08 05:00:00+00:00  363.39  86.69  692.46  146.63  3182.70  "
      ]
     },
     "execution_count": 8,
     "metadata": {},
     "output_type": "execute_result"
    }
   ],
   "source": [
    "# Extracting 3 years worth of historical data for each stock\n",
    "timeframe = \"1Day\"\n",
    "ticker = ['AAPL', 'JPM', 'META', 'UNP', 'XOM', 'NEE', 'UNH', 'RIO', 'EQIX', 'WMT', 'AMZN']\n",
    "stocks_df = alpaca.get_bars(\n",
    "    ticker,\n",
    "    timeframe,\n",
    "    start=start_date,\n",
    "    end=end_date,\n",
    "    limit=10000\n",
    ").df\n",
    "\n",
    "# Cleaning data so only closing stock prices are retrieved\n",
    "AAPL = stocks_df[stocks_df['symbol']=='AAPL'].drop(['symbol', 'high', 'low', 'trade_count', 'open', 'volume', 'vwap'], axis=1)\n",
    "JPM = stocks_df[stocks_df['symbol']=='JPM'].drop(['symbol', 'high', 'low', 'trade_count', 'open', 'volume', 'vwap'], axis=1)\n",
    "META = stocks_df[stocks_df['symbol']=='META'].drop(['symbol', 'high', 'low', 'trade_count', 'open', 'volume', 'vwap'], axis=1)\n",
    "UNP = stocks_df[stocks_df['symbol']=='UNP'].drop(['symbol', 'high', 'low', 'trade_count', 'open', 'volume', 'vwap'], axis=1)\n",
    "XOM = stocks_df[stocks_df['symbol']=='XOM'].drop(['symbol', 'high', 'low', 'trade_count', 'open', 'volume', 'vwap'], axis=1)\n",
    "NEE = stocks_df[stocks_df['symbol']=='NEE'].drop(['symbol', 'high', 'low', 'trade_count', 'open', 'volume', 'vwap'], axis=1)\n",
    "UNH = stocks_df[stocks_df['symbol']=='UNH'].drop(['symbol', 'high', 'low', 'trade_count', 'open', 'volume', 'vwap'], axis=1)\n",
    "RIO = stocks_df[stocks_df['symbol']=='RIO'].drop(['symbol', 'high', 'low', 'trade_count', 'open', 'volume', 'vwap'], axis=1)\n",
    "EQIX = stocks_df[stocks_df['symbol']=='EQIX'].drop(['symbol', 'high', 'low', 'trade_count', 'open', 'volume', 'vwap'], axis=1)\n",
    "WMT = stocks_df[stocks_df['symbol']=='WMT'].drop(['symbol', 'high', 'low', 'trade_count', 'open', 'volume', 'vwap'], axis=1)\n",
    "AMZN = stocks_df[stocks_df['symbol']=='AMZN'].drop(['symbol', 'high', 'low', 'trade_count', 'open', 'volume', 'vwap'], axis=1)\n",
    "\n",
    "# Concatenating the stock DataFrames\n",
    "stocks_df = pd.concat([AAPL, JPM, META, UNP, XOM, NEE, UNH, RIO, EQIX, WMT, AMZN],axis=1)\n",
    "\n",
    "# Setting column names as stock ticker\n",
    "stocks_df.columns = ['AAPL', 'JPM', 'META', 'UNP', 'XOM', 'NEE', 'UNH', 'RIO', 'EQIX', 'WMT', 'AMZN']\n",
    "stocks_df.rename_axis('Date', inplace=True)\n",
    "# Display sample data\n",
    "stocks_df.head()"
   ]
  },
  {
   "cell_type": "markdown",
   "id": "5f11eee3-a57a-4ed5-b05d-e1384567cd59",
   "metadata": {
    "tags": []
   },
   "source": [
    "# Part III: Historical Analysis\n",
    "Contains:\n",
    "\n",
    "• Daily returns of all stocks composing portfolio. Each stock is representing a sector for the purpose of our experiment/analysis.\n",
    "\n",
    "• Daily and cumulative returns of each weighted portfolio. Our control portfolio has all 11 stocks weighted evenly(0.09 each). We have 11 other portfolios with 10 stocks weighted evenly (0.075), while one stock is weighted (0.25). Each of the 11 non control portfolios has a different stock weighted more heavily to show the performance of each sector. \n",
    "\n",
    "• Historical values of each weighted portfolio. With a given investment of $20,000 at the start date of our historical data. We calculated the historical value of that initial investment today to compare how each \"sector/portfolio\" performed."
   ]
  },
  {
   "cell_type": "markdown",
   "id": "8d36bf40-d4e1-49f9-ad6f-798a4a4c86ae",
   "metadata": {
    "tags": []
   },
   "source": [
    "## All Stocks Daily Returns"
   ]
  },
  {
   "cell_type": "code",
   "execution_count": 9,
   "id": "4b6c235b-d6c5-4529-a1ab-8b5879ce902f",
   "metadata": {
    "tags": []
   },
   "outputs": [
    {
     "data": {
      "text/html": [
       "<div>\n",
       "<style scoped>\n",
       "    .dataframe tbody tr th:only-of-type {\n",
       "        vertical-align: middle;\n",
       "    }\n",
       "\n",
       "    .dataframe tbody tr th {\n",
       "        vertical-align: top;\n",
       "    }\n",
       "\n",
       "    .dataframe thead th {\n",
       "        text-align: right;\n",
       "    }\n",
       "</style>\n",
       "<table border=\"1\" class=\"dataframe\">\n",
       "  <thead>\n",
       "    <tr style=\"text-align: right;\">\n",
       "      <th></th>\n",
       "      <th>AAPL</th>\n",
       "      <th>JPM</th>\n",
       "      <th>META</th>\n",
       "      <th>UNP</th>\n",
       "      <th>XOM</th>\n",
       "      <th>NEE</th>\n",
       "      <th>UNH</th>\n",
       "      <th>RIO</th>\n",
       "      <th>EQIX</th>\n",
       "      <th>WMT</th>\n",
       "      <th>AMZN</th>\n",
       "    </tr>\n",
       "    <tr>\n",
       "      <th>Date</th>\n",
       "      <th></th>\n",
       "      <th></th>\n",
       "      <th></th>\n",
       "      <th></th>\n",
       "      <th></th>\n",
       "      <th></th>\n",
       "      <th></th>\n",
       "      <th></th>\n",
       "      <th></th>\n",
       "      <th></th>\n",
       "      <th></th>\n",
       "    </tr>\n",
       "  </thead>\n",
       "  <tbody>\n",
       "    <tr>\n",
       "      <th>2021-01-05 05:00:00+00:00</th>\n",
       "      <td>0.012364</td>\n",
       "      <td>-0.001748</td>\n",
       "      <td>0.007548</td>\n",
       "      <td>0.012265</td>\n",
       "      <td>0.048193</td>\n",
       "      <td>0.007410</td>\n",
       "      <td>-0.013448</td>\n",
       "      <td>0.024163</td>\n",
       "      <td>-0.001473</td>\n",
       "      <td>-0.005323</td>\n",
       "      <td>0.010004</td>\n",
       "    </tr>\n",
       "    <tr>\n",
       "      <th>2021-01-06 05:00:00+00:00</th>\n",
       "      <td>-0.033204</td>\n",
       "      <td>0.046956</td>\n",
       "      <td>-0.028158</td>\n",
       "      <td>0.020925</td>\n",
       "      <td>0.025517</td>\n",
       "      <td>0.048950</td>\n",
       "      <td>0.041966</td>\n",
       "      <td>0.044663</td>\n",
       "      <td>-0.032652</td>\n",
       "      <td>0.006244</td>\n",
       "      <td>-0.024897</td>\n",
       "    </tr>\n",
       "    <tr>\n",
       "      <th>2021-01-07 05:00:00+00:00</th>\n",
       "      <td>0.033633</td>\n",
       "      <td>0.032839</td>\n",
       "      <td>0.020506</td>\n",
       "      <td>0.013918</td>\n",
       "      <td>0.007846</td>\n",
       "      <td>0.010965</td>\n",
       "      <td>0.016033</td>\n",
       "      <td>0.038406</td>\n",
       "      <td>0.014964</td>\n",
       "      <td>-0.000068</td>\n",
       "      <td>0.007577</td>\n",
       "    </tr>\n",
       "    <tr>\n",
       "      <th>2021-01-08 05:00:00+00:00</th>\n",
       "      <td>0.008631</td>\n",
       "      <td>0.001104</td>\n",
       "      <td>-0.004354</td>\n",
       "      <td>0.028676</td>\n",
       "      <td>0.011121</td>\n",
       "      <td>0.023206</td>\n",
       "      <td>-0.004493</td>\n",
       "      <td>0.008258</td>\n",
       "      <td>0.019868</td>\n",
       "      <td>-0.000136</td>\n",
       "      <td>0.006496</td>\n",
       "    </tr>\n",
       "    <tr>\n",
       "      <th>2021-01-11 05:00:00+00:00</th>\n",
       "      <td>-0.023249</td>\n",
       "      <td>0.014924</td>\n",
       "      <td>-0.040102</td>\n",
       "      <td>-0.006718</td>\n",
       "      <td>0.030356</td>\n",
       "      <td>-0.017749</td>\n",
       "      <td>-0.007265</td>\n",
       "      <td>-0.033568</td>\n",
       "      <td>-0.014542</td>\n",
       "      <td>0.004501</td>\n",
       "      <td>-0.021519</td>\n",
       "    </tr>\n",
       "  </tbody>\n",
       "</table>\n",
       "</div>"
      ],
      "text/plain": [
       "                               AAPL       JPM      META       UNP       XOM  \\\n",
       "Date                                                                          \n",
       "2021-01-05 05:00:00+00:00  0.012364 -0.001748  0.007548  0.012265  0.048193   \n",
       "2021-01-06 05:00:00+00:00 -0.033204  0.046956 -0.028158  0.020925  0.025517   \n",
       "2021-01-07 05:00:00+00:00  0.033633  0.032839  0.020506  0.013918  0.007846   \n",
       "2021-01-08 05:00:00+00:00  0.008631  0.001104 -0.004354  0.028676  0.011121   \n",
       "2021-01-11 05:00:00+00:00 -0.023249  0.014924 -0.040102 -0.006718  0.030356   \n",
       "\n",
       "                                NEE       UNH       RIO      EQIX       WMT  \\\n",
       "Date                                                                          \n",
       "2021-01-05 05:00:00+00:00  0.007410 -0.013448  0.024163 -0.001473 -0.005323   \n",
       "2021-01-06 05:00:00+00:00  0.048950  0.041966  0.044663 -0.032652  0.006244   \n",
       "2021-01-07 05:00:00+00:00  0.010965  0.016033  0.038406  0.014964 -0.000068   \n",
       "2021-01-08 05:00:00+00:00  0.023206 -0.004493  0.008258  0.019868 -0.000136   \n",
       "2021-01-11 05:00:00+00:00 -0.017749 -0.007265 -0.033568 -0.014542  0.004501   \n",
       "\n",
       "                               AMZN  \n",
       "Date                                 \n",
       "2021-01-05 05:00:00+00:00  0.010004  \n",
       "2021-01-06 05:00:00+00:00 -0.024897  \n",
       "2021-01-07 05:00:00+00:00  0.007577  \n",
       "2021-01-08 05:00:00+00:00  0.006496  \n",
       "2021-01-11 05:00:00+00:00 -0.021519  "
      ]
     },
     "execution_count": 9,
     "metadata": {},
     "output_type": "execute_result"
    }
   ],
   "source": [
    "# Calculating all stocks daily returns\n",
    "stock_daily_returns = stocks_df.pct_change()\n",
    "# Dropping NAs\n",
    "stock_daily_returns = stocks_df.pct_change().dropna()\n",
    "# Showing sample data\n",
    "stock_daily_returns.head()"
   ]
  },
  {
   "cell_type": "code",
   "execution_count": 10,
   "id": "bdc0f7ec-225c-48f0-bf70-ee11119dab8e",
   "metadata": {
    "tags": []
   },
   "outputs": [
    {
     "data": {
      "text/plain": [
       "Date\n",
       "2021-01-05 05:00:00+00:00    0.008996\n",
       "2021-01-06 05:00:00+00:00    0.010468\n",
       "2021-01-07 05:00:00+00:00    0.017696\n",
       "2021-01-08 05:00:00+00:00    0.008854\n",
       "2021-01-11 05:00:00+00:00   -0.010344\n",
       "dtype: float64"
      ]
     },
     "execution_count": 10,
     "metadata": {},
     "output_type": "execute_result"
    }
   ],
   "source": [
    "# Setting Control Portfolio weights\n",
    "control_weights = [0.09, 0.09, 0.09, 0.09, 0.09, 0.09, 0.09, 0.09, 0.09, 0.09, 0.09]\n",
    "\n",
    "# Calculating Control Portfolio daily returns\n",
    "control_daily_returns = stock_daily_returns.dot(control_weights)\n",
    "# Showing sample data\n",
    "control_daily_returns.head()"
   ]
  },
  {
   "cell_type": "markdown",
   "id": "b966938c-caf4-438e-80bf-f21e10984a81",
   "metadata": {
    "tags": []
   },
   "source": [
    "## Daily returns, Cumulative returns, historical value of evenly weighted portfolio (\"Control\")"
   ]
  },
  {
   "cell_type": "code",
   "execution_count": 11,
   "id": "ec3f9e7f-10b1-4ce2-a7cf-9bdadf810da2",
   "metadata": {
    "tags": []
   },
   "outputs": [
    {
     "data": {
      "text/plain": [
       "Date\n",
       "2023-12-22 05:00:00+00:00    24720.635167\n",
       "2023-12-26 05:00:00+00:00    24792.511978\n",
       "2023-12-27 05:00:00+00:00    24890.990275\n",
       "2023-12-28 05:00:00+00:00    24915.120241\n",
       "2023-12-29 05:00:00+00:00    24814.826872\n",
       "dtype: float64"
      ]
     },
     "execution_count": 11,
     "metadata": {},
     "output_type": "execute_result"
    }
   ],
   "source": [
    "# Initial investment\n",
    "initial_investment = 20000\n",
    "\n",
    "# Calculating control portfolio cumulative returns\n",
    "control_cumulative_returns = (1 + pd.Series(control_daily_returns)).cumprod()\n",
    "\n",
    "# Calculating historical value of control portfolio with $20,000 invested at the start of dataframe to the value at the end of dataframe\n",
    "control_historical_value = initial_investment * control_cumulative_returns\n",
    "\n",
    "\n",
    "control_historical_value.tail()"
   ]
  },
  {
   "cell_type": "markdown",
   "id": "cf1e7272-1d6e-4396-87b4-0512c2380d67",
   "metadata": {
    "tags": []
   },
   "source": [
    "## Daily returns, Cumulative returns, historical value of tech heavy portfolio (\"Technology\")"
   ]
  },
  {
   "cell_type": "code",
   "execution_count": 12,
   "id": "d0663a70-f8c9-4fc5-9c10-b70389ecb7e8",
   "metadata": {
    "tags": []
   },
   "outputs": [
    {
     "data": {
      "text/plain": [
       "Date\n",
       "2021-01-05 05:00:00+00:00    0.009660\n",
       "2021-01-06 05:00:00+00:00    0.002913\n",
       "2021-01-07 05:00:00+00:00    0.020632\n",
       "2021-01-08 05:00:00+00:00    0.008889\n",
       "2021-01-11 05:00:00+00:00   -0.012688\n",
       "dtype: float64"
      ]
     },
     "execution_count": 12,
     "metadata": {},
     "output_type": "execute_result"
    }
   ],
   "source": [
    "# Setting weights for Technology Portfolio\n",
    "tech_weights = [0.25, 0.075, 0.075, 0.075, 0.075, 0.075, 0.075, 0.075, 0.075, 0.075, 0.075]\n",
    "# Calculate Technology portfolio return\n",
    "tech_daily_returns = stock_daily_returns.dot(tech_weights)\n",
    "# showing sample data\n",
    "tech_daily_returns.head()"
   ]
  },
  {
   "cell_type": "code",
   "execution_count": 13,
   "id": "018d8fb7-6060-46f9-9b84-a6e014c237c5",
   "metadata": {
    "tags": []
   },
   "outputs": [
    {
     "data": {
      "text/plain": [
       "Date\n",
       "2023-12-22 05:00:00+00:00    25803.575097\n",
       "2023-12-26 05:00:00+00:00    25853.267888\n",
       "2023-12-27 05:00:00+00:00    25941.187925\n",
       "2023-12-28 05:00:00+00:00    25972.251158\n",
       "2023-12-29 05:00:00+00:00    25860.473824\n",
       "dtype: float64"
      ]
     },
     "execution_count": 13,
     "metadata": {},
     "output_type": "execute_result"
    }
   ],
   "source": [
    "# Initial investment\n",
    "initial_investment = 20000\n",
    "\n",
    "# Calculating technology portfolio cumulative returns\n",
    "tech_cumulative_returns = (1 + pd.Series(tech_daily_returns)).cumprod()\n",
    "\n",
    "# Calculating historical value of technology portfolio with $20,000 invested at the start of dataframe to the value at the end of dataframe\n",
    "tech_historical_value = initial_investment * tech_cumulative_returns\n",
    "\n",
    "\n",
    "tech_historical_value.tail()"
   ]
  },
  {
   "cell_type": "markdown",
   "id": "34027d67-ccc1-4722-aae1-b1b09eb01df5",
   "metadata": {
    "tags": []
   },
   "source": [
    "## Daily returns, Cumulative returns, historical value of financial heavy portfolio (\"Financial\")"
   ]
  },
  {
   "cell_type": "code",
   "execution_count": 14,
   "id": "a51927ec-de7c-4b65-8338-64ddc0dd68d8",
   "metadata": {
    "tags": []
   },
   "outputs": [
    {
     "data": {
      "text/plain": [
       "Date\n",
       "2021-01-05 05:00:00+00:00    0.007191\n",
       "2021-01-06 05:00:00+00:00    0.016941\n",
       "2021-01-07 05:00:00+00:00    0.020493\n",
       "2021-01-08 05:00:00+00:00    0.007571\n",
       "2021-01-11 05:00:00+00:00   -0.006008\n",
       "dtype: float64"
      ]
     },
     "execution_count": 14,
     "metadata": {},
     "output_type": "execute_result"
    }
   ],
   "source": [
    "# Set weights for financial portfolio\n",
    "fin_weights = [0.075, 0.25, 0.075, 0.075, 0.075, 0.075, 0.075, 0.075, 0.075, 0.075, 0.075]\n",
    "# Calculate financial portfolio return\n",
    "fin_daily_returns = stock_daily_returns.dot(fin_weights)\n",
    "# showing sample data\n",
    "fin_daily_returns.head()"
   ]
  },
  {
   "cell_type": "code",
   "execution_count": 15,
   "id": "c0b8eda1-c477-4f12-851b-fa37384a5aa7",
   "metadata": {
    "tags": []
   },
   "outputs": [
    {
     "data": {
      "text/plain": [
       "Date\n",
       "2023-12-22 05:00:00+00:00    25283.809939\n",
       "2023-12-26 05:00:00+00:00    25371.239220\n",
       "2023-12-27 05:00:00+00:00    25481.850939\n",
       "2023-12-28 05:00:00+00:00    25526.128377\n",
       "2023-12-29 05:00:00+00:00    25435.254820\n",
       "dtype: float64"
      ]
     },
     "execution_count": 15,
     "metadata": {},
     "output_type": "execute_result"
    }
   ],
   "source": [
    "# Initial investment\n",
    "initial_investment = 20000\n",
    "\n",
    "# Calculating financial cumulative returns\n",
    "fin_cumulative_returns = (1 + pd.Series(fin_daily_returns)).cumprod()\n",
    "\n",
    "# Calculating historical value of financial portfolio with $20,000 invested at the start of dataframe to the value at the end of dataframe\n",
    "fin_historical_value = initial_investment * fin_cumulative_returns\n",
    "\n",
    "\n",
    "fin_historical_value.tail()"
   ]
  },
  {
   "cell_type": "markdown",
   "id": "ff314739-6a6d-4c51-a6a9-900c6affef7d",
   "metadata": {
    "tags": []
   },
   "source": [
    "## Daily returns, Cumulative returns, historical value of consumer services heavy portfolio (\"Consumer Services\")"
   ]
  },
  {
   "cell_type": "code",
   "execution_count": 16,
   "id": "22d04094-691a-49ef-8779-be2c72f63911",
   "metadata": {
    "tags": []
   },
   "outputs": [
    {
     "data": {
      "text/plain": [
       "Date\n",
       "2021-01-05 05:00:00+00:00    0.008818\n",
       "2021-01-06 05:00:00+00:00    0.003796\n",
       "2021-01-07 05:00:00+00:00    0.018335\n",
       "2021-01-08 05:00:00+00:00    0.006616\n",
       "2021-01-11 05:00:00+00:00   -0.015638\n",
       "dtype: float64"
      ]
     },
     "execution_count": 16,
     "metadata": {},
     "output_type": "execute_result"
    }
   ],
   "source": [
    "# Set weights for consumer services portfolio\n",
    "con_ser_weights = [0.075, 0.075, 0.25, 0.075, 0.075, 0.075, 0.075, 0.075, 0.075, 0.075, 0.075]\n",
    "# Calculate portfolio return\n",
    "con_ser_daily_returns = stock_daily_returns.dot(con_ser_weights)\n",
    "# Display sample data\n",
    "con_ser_daily_returns.head()"
   ]
  },
  {
   "cell_type": "code",
   "execution_count": 17,
   "id": "890d71bd-4407-4609-9b8c-93fba58f354e",
   "metadata": {
    "tags": []
   },
   "outputs": [
    {
     "ename": "NameError",
     "evalue": "name 'con_ser_historical_value' is not defined",
     "output_type": "error",
     "traceback": [
      "\u001b[0;31m---------------------------------------------------------------------------\u001b[0m",
      "\u001b[0;31mNameError\u001b[0m                                 Traceback (most recent call last)",
      "Cell \u001b[0;32mIn[17], line 10\u001b[0m\n\u001b[1;32m      5\u001b[0m con_ser_cumulative_returns \u001b[38;5;241m=\u001b[39m (\u001b[38;5;241m1\u001b[39m \u001b[38;5;241m+\u001b[39m pd\u001b[38;5;241m.\u001b[39mSeries(con_ser_daily_returns))\u001b[38;5;241m.\u001b[39mcumprod()\n\u001b[1;32m      7\u001b[0m \u001b[38;5;66;03m# Calculating historical value of consumer services portfolio with $20,000 invested at the start of dataframe to the value at the end of dataframecon_ser_historical_value = initial_investment * con_ser_cumulative_returns\u001b[39;00m\n\u001b[0;32m---> 10\u001b[0m con_ser_historical_value\u001b[38;5;241m.\u001b[39mtail()\n",
      "\u001b[0;31mNameError\u001b[0m: name 'con_ser_historical_value' is not defined"
     ]
    }
   ],
   "source": [
    "# Initial investment\n",
    "initial_investment = 20000\n",
    "\n",
    "# Calculating cumulative returns\n",
    "con_ser_cumulative_returns = (1 + pd.Series(con_ser_daily_returns)).cumprod()\n",
    "\n",
    "# Calculating historical value of consumer services portfolio with $20,000 invested at the start of dataframe to the value at the end of dataframecon_ser_historical_value = initial_investment * con_ser_cumulative_returns\n",
    "\n",
    "\n",
    "con_ser_historical_value.tail()"
   ]
  },
  {
   "cell_type": "markdown",
   "id": "a1e082fb-34f9-4647-a3b1-561bf25a3017",
   "metadata": {},
   "source": [
    "## Daily returns, Cumulative returns, historical value of industrial heavy portfolio (\"Industrial\")"
   ]
  },
  {
   "cell_type": "code",
   "execution_count": null,
   "id": "a0bde50d-550a-4e0e-9a73-86c7599d337a",
   "metadata": {
    "tags": []
   },
   "outputs": [],
   "source": [
    "# Set weights\n",
    "ind_weights = [0.075, 0.075, 0.075, 0.25, 0.075, 0.075, 0.075, 0.075, 0.075, 0.075, 0.075]\n",
    "# Calculate portfolio return\n",
    "ind_daily_returns = stock_daily_returns.dot(ind_weights)\n",
    "# Display sample data\n",
    "ind_daily_returns.head()"
   ]
  },
  {
   "cell_type": "code",
   "execution_count": null,
   "id": "0fafd883-c03d-499e-9309-b2a55e4b23bf",
   "metadata": {
    "tags": []
   },
   "outputs": [],
   "source": [
    "# Initial investment\n",
    "initial_investment = 20000\n",
    "\n",
    "# Calculating cumulative returns\n",
    "ind_cumulative_returns = (1 + pd.Series(ind_daily_returns)).cumprod()\n",
    "\n",
    "# Calculating historical value of industrial portfolio with $20,000 invested at the start of dataframe to the value at the end of dataframeind_historical_value = initial_investment * ind_cumulative_returns\n",
    "\n",
    "\n",
    "ind_historical_value.tail()"
   ]
  },
  {
   "cell_type": "markdown",
   "id": "f3101d61-8218-4e7e-b14a-d821e167c2ab",
   "metadata": {},
   "source": [
    "## Daily returns, Cumulative returns, historical value of energy heavy portfolio (\"Energy\")"
   ]
  },
  {
   "cell_type": "code",
   "execution_count": null,
   "id": "ba82db47-960b-4d8c-a016-7fce0d769893",
   "metadata": {
    "tags": []
   },
   "outputs": [],
   "source": [
    "# Set weights\n",
    "nrg_weights = [0.075, 0.075, 0.075, 0.075, 0.25, 0.075, 0.075, 0.075, 0.075, 0.075, 0.075]\n",
    "# Calculate portfolio return\n",
    "nrg_daily_returns = stock_daily_returns.dot(nrg_weights)\n",
    "# Display sample data\n",
    "nrg_daily_returns.head()"
   ]
  },
  {
   "cell_type": "code",
   "execution_count": null,
   "id": "e89ff8aa-2941-4772-aeaa-53ce2b102fe9",
   "metadata": {
    "tags": []
   },
   "outputs": [],
   "source": [
    "# Initial investment\n",
    "initial_investment = 20000\n",
    "\n",
    "# Calculating cumulative returns\n",
    "nrg_cumulative_returns = (1 + pd.Series(nrg_daily_returns)).cumprod()\n",
    "\n",
    "# Calculating historical value of energy portfolio with $20,000 invested at the start of dataframe to the value at the end of dataframenrg_historical_value = initial_investment * nrg_cumulative_returns\n",
    "\n",
    "\n",
    "nrg_historical_value.tail()"
   ]
  },
  {
   "cell_type": "markdown",
   "id": "db5176e5-782a-4963-a749-13d967a4e5ef",
   "metadata": {
    "tags": []
   },
   "source": [
    "## Daily returns, Cumulative returns, historical value of utilities heavy portfolio (\"Utilities\")"
   ]
  },
  {
   "cell_type": "code",
   "execution_count": null,
   "id": "ba3036c4-cc56-454c-bf33-df6c0c67d620",
   "metadata": {
    "tags": []
   },
   "outputs": [],
   "source": [
    "# Set weights\n",
    "util_weights = [0.075, 0.075, 0.075, 0.075, 0.075, 0.25, 0.075, 0.075, 0.075, 0.075, 0.075]\n",
    "# Calculate portfolio return\n",
    "util_daily_returns = stock_daily_returns.dot(util_weights)\n",
    "# Display sample data\n",
    "util_daily_returns.head()"
   ]
  },
  {
   "cell_type": "code",
   "execution_count": null,
   "id": "e3e5c57b-cc90-4da5-ac16-dd7e0eba490c",
   "metadata": {
    "tags": []
   },
   "outputs": [],
   "source": [
    "# Initial investment\n",
    "initial_investment = 20000\n",
    "\n",
    "# Calculating cumulative returns\n",
    "util_cumulative_returns = (1 + pd.Series(util_daily_returns)).cumprod()\n",
    "\n",
    "# Calculating historical value of utilities portfolio with $20,000 invested at the start of dataframe to the value at the end of dataframeutil_historical_value = initial_investment * util_cumulative_returns\n",
    "\n",
    "\n",
    "util_historical_value.tail()"
   ]
  },
  {
   "cell_type": "markdown",
   "id": "c857b50a-2286-47a8-9822-e510fc574a2a",
   "metadata": {
    "tags": []
   },
   "source": [
    "## Daily returns, Cumulative returns, historical value of healthcare heavy portfolio (\"Healthcare\")"
   ]
  },
  {
   "cell_type": "code",
   "execution_count": null,
   "id": "073c5e61-086e-4109-816d-3750e8f24d2a",
   "metadata": {
    "tags": []
   },
   "outputs": [],
   "source": [
    "# Set weights\n",
    "hc_weights = [0.075, 0.075, 0.075, 0.075, 0.075, 0.075, 0.25, 0.075, 0.075, 0.075, 0.075]\n",
    "# Calculate portfolio return\n",
    "hc_daily_returns = stock_daily_returns.dot(hc_weights)\n",
    "# Display sample data\n",
    "hc_daily_returns.head()"
   ]
  },
  {
   "cell_type": "code",
   "execution_count": null,
   "id": "1c4096b4-1f9a-4ad5-a009-64dee63a2149",
   "metadata": {
    "tags": []
   },
   "outputs": [],
   "source": [
    "# Initial investment\n",
    "initial_investment = 20000\n",
    "\n",
    "# Calculating cumulative returns\n",
    "hc_cumulative_returns = (1 + pd.Series(hc_daily_returns)).cumprod()\n",
    "\n",
    "# Calculating historical value of healthcare portfolio with $20,000 invested at the start of dataframe to the value at the end of dataframehc_historical_value = initial_investment * hc_cumulative_returns\n",
    "\n",
    "\n",
    "hc_historical_value.tail()"
   ]
  },
  {
   "cell_type": "markdown",
   "id": "d8e60d63-91fc-4815-9eb9-150151315ca6",
   "metadata": {
    "tags": []
   },
   "source": [
    "## Daily returns, Cumulative returns, historical value of materials heavy portfolio (\"Materials\")"
   ]
  },
  {
   "cell_type": "code",
   "execution_count": null,
   "id": "c5f06909-1f81-4a60-9e37-f85b32d3ee35",
   "metadata": {
    "tags": []
   },
   "outputs": [],
   "source": [
    "# Set weights\n",
    "mat_weights = [0.075, 0.075, 0.075, 0.075, 0.075, 0.075, 0.075, 0.25, 0.075, 0.075, 0.075]\n",
    "# Calculate portfolio return\n",
    "mat_daily_returns = stock_daily_returns.dot(mat_weights)\n",
    "# Display sample data\n",
    "mat_daily_returns.head()"
   ]
  },
  {
   "cell_type": "code",
   "execution_count": null,
   "id": "e32f6d95-47ec-40a7-8d3e-2e48a96aa2f5",
   "metadata": {
    "tags": []
   },
   "outputs": [],
   "source": [
    "# Initial investment\n",
    "initial_investment = 20000\n",
    "\n",
    "# Calculating cumulative returns\n",
    "mat_cumulative_returns = (1 + pd.Series(mat_daily_returns)).cumprod()\n",
    "\n",
    "# Calculating historical value of materials portfolio with $20,000 invested at the start of dataframe to the value at the end of dataframemat_historical_value = initial_investment * mat_cumulative_returns\n",
    "\n",
    "\n",
    "mat_historical_value.tail()"
   ]
  },
  {
   "cell_type": "markdown",
   "id": "764a331e-1195-4a8c-a62d-4d242cc48048",
   "metadata": {},
   "source": [
    "## Daily returns, Cumulative returns, historical value of real estate heavy portfolio (\"Real Estate\")"
   ]
  },
  {
   "cell_type": "code",
   "execution_count": null,
   "id": "1cdb6be9-6e23-41dc-8716-e5ece3e27165",
   "metadata": {
    "tags": []
   },
   "outputs": [],
   "source": [
    "# Set weights\n",
    "re_weights = [0.075, 0.075, 0.075, 0.075, 0.075, 0.075, 0.075, 0.075, 0.25, 0.075, 0.075]\n",
    "# Calculate portfolio return\n",
    "re_daily_returns = stock_daily_returns.dot(re_weights)\n",
    "# Display sample data\n",
    "re_daily_returns.head()"
   ]
  },
  {
   "cell_type": "code",
   "execution_count": null,
   "id": "d14af881-9ee8-43a0-bdc1-af341d738451",
   "metadata": {
    "tags": []
   },
   "outputs": [],
   "source": [
    "# Initial investment\n",
    "initial_investment = 20000\n",
    "\n",
    "# Calculating cumulative returns\n",
    "re_cumulative_returns = (1 + pd.Series(re_daily_returns)).cumprod()\n",
    "\n",
    "# Calculating historical value of real estate portfolio with $20,000 invested at the start of dataframe to the value at the end of dataframere_historical_value = initial_investment * re_cumulative_returns\n",
    "\n",
    "\n",
    "re_historical_value.tail()"
   ]
  },
  {
   "cell_type": "markdown",
   "id": "283cb30f-6790-40c5-ab52-51cdde9e54af",
   "metadata": {},
   "source": [
    "## Daily returns, Cumulative returns, historical value of consumer staples heavy portfolio (\"Consumer Staples\")"
   ]
  },
  {
   "cell_type": "code",
   "execution_count": null,
   "id": "2f6f31ee-0ac0-4e2b-8eb7-9165b481f0ca",
   "metadata": {
    "tags": []
   },
   "outputs": [],
   "source": [
    "# Set weights\n",
    "con_staple_weights = [0.075, 0.075, 0.075, 0.075, 0.075, 0.075, 0.075, 0.075, 0.075, 0.25, 0.075]\n",
    "# Calculate portfolio return\n",
    "con_staple_daily_returns = stock_daily_returns.dot(con_staple_weights)\n",
    "# Display sample data\n",
    "con_staple_daily_returns.head()"
   ]
  },
  {
   "cell_type": "code",
   "execution_count": null,
   "id": "d7086603-e9e2-4e2e-b227-d17d7f573155",
   "metadata": {
    "tags": []
   },
   "outputs": [],
   "source": [
    "# Initial investment\n",
    "initial_investment = 20000\n",
    "\n",
    "# Calculating cumulative returns\n",
    "con_staple_cumulative_returns = (1 + pd.Series(con_staple_daily_returns)).cumprod()\n",
    "\n",
    "# Calculating historical value of consumer staples portfolio with $20,000 invested at the start of dataframe to the value at the end of dataframecon_staple_historical_value = initial_investment * con_staple_cumulative_returns\n",
    "\n",
    "\n",
    "con_staple_historical_value.tail()"
   ]
  },
  {
   "cell_type": "markdown",
   "id": "51822f82-bb32-461a-8be7-c886068c9f9c",
   "metadata": {},
   "source": [
    "## Daily returns, Cumulative returns, historical value of consumer discretionary heavy portfolio (\"Consumer Discretionary\")"
   ]
  },
  {
   "cell_type": "code",
   "execution_count": null,
   "id": "de8e734c-d55d-46b8-abbf-704fef17595b",
   "metadata": {
    "tags": []
   },
   "outputs": [],
   "source": [
    "# Set weights\n",
    "con_disc_weights = [0.075, 0.075, 0.075, 0.075, 0.075, 0.075, 0.075, 0.075, 0.075, 0.075, 0.25]\n",
    "# Calculate portfolio return\n",
    "con_disc_daily_returns = stock_daily_returns.dot(con_disc_weights)\n",
    "# Display sample data\n",
    "con_disc_daily_returns.head()"
   ]
  },
  {
   "cell_type": "code",
   "execution_count": null,
   "id": "d995514b-f86a-407f-80c6-6af729f5ce9e",
   "metadata": {
    "tags": []
   },
   "outputs": [],
   "source": [
    "# Initial investment\n",
    "initial_investment = 20000\n",
    "\n",
    "# Calculating cumulative returns\n",
    "con_disc_cumulative_returns = (1 + pd.Series(con_disc_daily_returns)).cumprod()\n",
    "\n",
    "# Calculating historical value of consumer discretionary portfolio with $20,000 invested at the start of dataframe to the value at the end of dataframecon_disc_historical_value = initial_investment * con_disc_cumulative_returns\n",
    "\n",
    "\n",
    "con_disc_historical_value.tail()"
   ]
  },
  {
   "cell_type": "markdown",
   "id": "e5db8aa7-72ff-4820-99c2-c0ccf5835fd9",
   "metadata": {
    "tags": []
   },
   "source": [
    "## Concatenating portfolio returns for plotting"
   ]
  },
  {
   "cell_type": "markdown",
   "id": "c78590a0-f5f1-49a8-945c-ac22b7028796",
   "metadata": {
    "tags": []
   },
   "source": [
    "### Combining/concatenating all historical values(cumulative returns * initial investment) of all portfolios with an initial investment of $20,000 from 1/05/2021 through 12/29/2023\n",
    "*Need Line plot*"
   ]
  },
  {
   "cell_type": "code",
   "execution_count": null,
   "id": "23a5226a-0f69-43ed-a28c-1fa3ae19c1d6",
   "metadata": {
    "tags": []
   },
   "outputs": [],
   "source": [
    "all_historical_values_df = pd.concat([\n",
    "    control_historical_value, \n",
    "    tech_historical_value,\n",
    "    fin_historical_value,\n",
    "    con_ser_historical_value,\n",
    "    ind_historical_value,\n",
    "    nrg_historical_value,\n",
    "    util_historical_value,\n",
    "    hc_historical_value,\n",
    "    mat_historical_value,\n",
    "    re_historical_value,\n",
    "    con_staple_historical_value,\n",
    "    con_disc_historical_value], keys=['Control', 'Technology', 'Finance', 'Consumer Services', 'Industrial', 'Energy', 'Utilities', 'Healthcare', 'Materials', 'Real Estate', 'Consumer Staples', 'Consumer Discretionary'], axis=1)\n",
    "\n",
    "all_historical_values_df"
   ]
  },
  {
   "cell_type": "markdown",
   "id": "978fdf41-b865-4acd-9bb6-aea7c9232963",
   "metadata": {
    "tags": []
   },
   "source": [
    "### Combining/concatenating all cumulative returns of all portfolios from 1/05/2021 through 12/29/2023\n",
    "\n",
    "*Need Line plot*"
   ]
  },
  {
   "cell_type": "code",
   "execution_count": null,
   "id": "9cf88d7d-a82d-4fca-b7cf-5e9bd4625029",
   "metadata": {
    "tags": []
   },
   "outputs": [],
   "source": [
    "all_cumulative_returns_df = pd.concat([\n",
    "    control_cumulative_returns, \n",
    "    tech_cumulative_returns,\n",
    "    fin_cumulative_returns,\n",
    "    con_ser_cumulative_returns,\n",
    "    ind_cumulative_returns,\n",
    "    nrg_cumulative_returns,\n",
    "    util_cumulative_returns,\n",
    "    hc_cumulative_returns,\n",
    "    mat_cumulative_returns,\n",
    "    re_cumulative_returns,\n",
    "    con_staple_cumulative_returns,\n",
    "    con_disc_cumulative_returns], keys=['Control', 'Technology', 'Finance', 'Consumer Services', 'Industrial', 'Energy', 'Utilities', 'Healthcare', 'Materials', 'Real Estate', 'Consumer Staples', 'Consumer Discretionary'], axis=1)\n",
    "\n",
    "all_cumulative_returns_df"
   ]
  },
  {
   "cell_type": "markdown",
   "id": "5ffe5dab-42ab-418b-9ba1-7d56c4d630d3",
   "metadata": {
    "tags": []
   },
   "source": [
    "### Combining/concatenating all daily returns of all portfolios from 1/05/2021 through 12/29/2023\n",
    "\n",
    "*Need Line plot*"
   ]
  },
  {
   "cell_type": "code",
   "execution_count": null,
   "id": "6716cb2f-fd9a-4719-b055-be9b1d769f9c",
   "metadata": {
    "tags": []
   },
   "outputs": [],
   "source": [
    "all_daily_returns_df = pd.concat([\n",
    "    control_daily_returns, \n",
    "    tech_daily_returns,\n",
    "    fin_daily_returns,\n",
    "    con_ser_daily_returns,\n",
    "    ind_daily_returns,\n",
    "    nrg_daily_returns,\n",
    "    util_daily_returns,\n",
    "    hc_daily_returns,\n",
    "    mat_daily_returns,\n",
    "    re_daily_returns,\n",
    "    con_staple_daily_returns,\n",
    "    con_disc_daily_returns], keys=['Control', 'Technology', 'Finance', 'Consumer Services', 'Industrial', 'Energy', 'Utilities', 'Healthcare', 'Materials', 'Real Estate', 'Consumer Staples', 'Consumer Discretionary'], axis=1)\n",
    "\n",
    "all_daily_returns_df"
   ]
  },
  {
   "cell_type": "markdown",
   "id": "35ce0495-f763-424c-90f3-91a980fd9d8e",
   "metadata": {
    "tags": []
   },
   "source": [
    "## Plot cumulative & daily returns alongside historical values (Thursday/Monday)"
   ]
  },
  {
   "cell_type": "markdown",
   "id": "d76d3d2d-3943-489c-b859-71b449c019dc",
   "metadata": {
    "tags": []
   },
   "source": [
    "# Part IV: Risk Analysis"
   ]
  },
  {
   "cell_type": "code",
   "execution_count": null,
   "id": "267357b7-6b47-49ba-a6b8-2e0244386e1c",
   "metadata": {
    "tags": []
   },
   "outputs": [],
   "source": [
    "## Use all_returns_df for Risk Analysis\n",
    "all_portfolio_std = all_daily_returns_df.std()\n",
    "all_portfolio_std.sort_values()"
   ]
  },
  {
   "cell_type": "code",
   "execution_count": null,
   "id": "0b0213be-bbe5-4a0b-96aa-c8e140d67e48",
   "metadata": {
    "tags": []
   },
   "outputs": [],
   "source": [
    "## Determine which portfolios are riskier\n",
    "volatility = all_daily_returns_df.std() * np.sqrt(252)\n",
    "volatility.sort_values()"
   ]
  },
  {
   "cell_type": "markdown",
   "id": "6fa68ca2-f18c-404e-be28-e255cf254dca",
   "metadata": {},
   "source": [
    "*Add more detail to box plot*"
   ]
  },
  {
   "cell_type": "code",
   "execution_count": null,
   "id": "7bef2126-0b33-4b8e-9a65-67d9a2ea4f06",
   "metadata": {
    "tags": []
   },
   "outputs": [],
   "source": [
    "## Create a box plot for each of the returns.\n",
    "\n",
    "# Box plot to visually show risk\n",
    "\n",
    "all_daily_returns_df.boxplot(column=['Control', 'Technology', 'Finance', 'Consumer Services', 'Industrial', 'Energy', 'Utilities', 'Healthcare', 'Materials', 'Real Estate', 'Consumer Staples', 'Consumer Discretionary'], figsize=(20,20), fontsize='large', rot=45)"
   ]
  },
  {
   "cell_type": "code",
   "execution_count": null,
   "id": "274f2936-5318-4176-b2cf-81bf1ad6819d",
   "metadata": {
    "tags": []
   },
   "outputs": [],
   "source": [
    "## Calculate the Annualized Standard Deviation.\n",
    "annualized_std = all_daily_returns_df.std() * np.sqrt(252)\n",
    "annualized_std.sort_values()"
   ]
  },
  {
   "cell_type": "markdown",
   "id": "d75f4996-ce38-4c5d-b5c3-ade7df0312c5",
   "metadata": {
    "tags": []
   },
   "source": [
    "# Part V: Monte Carlo 5 year simulation with an initial investment of $20,000 for each portfolio"
   ]
  },
  {
   "cell_type": "markdown",
   "id": "c559e152-b8e7-4e5e-837a-5f520ab7b501",
   "metadata": {},
   "source": [
    "## Control 5 Year MC"
   ]
  },
  {
   "cell_type": "code",
   "execution_count": null,
   "id": "7961615d-5459-4775-81fd-9bc8f87e61e2",
   "metadata": {
    "tags": []
   },
   "outputs": [],
   "source": [
    "# Configuring a Monte Carlo simulation to forecast 5 years cumulative returns\n",
    "MC_5_year_control = MCSimulation(\n",
    "    portfolio_data = stocks_df,\n",
    "    weights = [0.09, 0.09, 0.09, 0.09, 0.09, 0.09, 0.09, 0.09, 0.09, 0.09, 0.09],\n",
    "    num_simulation = 500,\n",
    "    num_trading_days = 252*5\n",
    ")"
   ]
  },
  {
   "cell_type": "code",
   "execution_count": null,
   "id": "a9f91430-8cc0-43c9-b043-da2922ca03f6",
   "metadata": {
    "tags": []
   },
   "outputs": [],
   "source": [
    "# Running a Monte Carlo simulation to forecast 5 years cumulative returns\n",
    "MC_5_year_control.calc_cumulative_return()"
   ]
  },
  {
   "cell_type": "code",
   "execution_count": null,
   "id": "1569ecde-4ab2-4579-b362-0bbc4fff0dcb",
   "metadata": {},
   "outputs": [],
   "source": [
    "# Plot simulation outcomes\n",
    "five_year_line_plot_control = MC_5_year_control.plot_simulation()"
   ]
  },
  {
   "cell_type": "code",
   "execution_count": null,
   "id": "10d43ea8-9a31-4632-a375-8306b4d2ba0e",
   "metadata": {},
   "outputs": [],
   "source": [
    "# Plot probability distribution and confidence intervals\n",
    "five_year_dist_plot_control = MC_5_year_control.plot_distribution()"
   ]
  },
  {
   "cell_type": "code",
   "execution_count": null,
   "id": "9a897a91-3da4-4d33-8401-b591b55c0ad2",
   "metadata": {},
   "outputs": [],
   "source": [
    "# Fetch summary statistics from the Monte Carlo simulation results\n",
    "five_year_summary_control = MC_5_year_control.summarize_cumulative_return()\n",
    "\n",
    "# Print summary statistics\n",
    "print(five_year_summary_control)"
   ]
  },
  {
   "cell_type": "code",
   "execution_count": null,
   "id": "2ce3a0cf-e340-43cd-a69b-312453e5d827",
   "metadata": {},
   "outputs": [],
   "source": [
    "# Set initial investment\n",
    "initial_investment = 20000\n",
    "\n",
    "# Use the lower and upper `95%` confidence intervals to calculate the range of the possible outcomes of our $20,000\n",
    "ci_lower_five_control = round(five_year_summary_control.iloc[8]*initial_investment,2)\n",
    "ci_upper_five_control = round(five_year_summary_control.iloc[9]*initial_investment,2)\n",
    "\n",
    "# Print results\n",
    "print(f\"There is a 95% chance that an initial investment of ${initial_investment} in the portfolio\"\n",
    "      f\" over the next 5 years will end within in the range of\"\n",
    "      f\" ${ci_lower_five_control} and ${ci_upper_five_control}\")"
   ]
  },
  {
   "cell_type": "markdown",
   "id": "00f31db1-9f6c-4ead-b17c-8e5e41471c53",
   "metadata": {},
   "source": [
    "## Tech"
   ]
  },
  {
   "cell_type": "code",
   "execution_count": null,
   "id": "728d36d2-9d54-4f7d-9953-9a6183021f98",
   "metadata": {},
   "outputs": [],
   "source": [
    "MC_5_year_tech = MCSimulation(\n",
    "    portfolio_data = stocks_df,\n",
    "    weights = [0.25, 0.075, 0.075, 0.075, 0.075, 0.075, 0.075, 0.075, 0.075, 0.075, 0.075],\n",
    "    num_simulation = 500,\n",
    "    num_trading_days = 252*5\n",
    ")"
   ]
  },
  {
   "cell_type": "code",
   "execution_count": null,
   "id": "1244bcd7-f021-45ae-b4cb-b41fb842df58",
   "metadata": {},
   "outputs": [],
   "source": [
    "# Running a Monte Carlo simulation to forecast 5 years cumulative returns\n",
    "MC_5_year_tech.calc_cumulative_return()"
   ]
  },
  {
   "cell_type": "code",
   "execution_count": null,
   "id": "d6454373-6e26-4dac-8efd-5fb51fe700ba",
   "metadata": {},
   "outputs": [],
   "source": [
    "# Plot simulation outcomes\n",
    "five_year_line_plot_tech = MC_5_year_tech.plot_simulation()"
   ]
  },
  {
   "cell_type": "code",
   "execution_count": null,
   "id": "f54adc69-6a9f-4686-943d-1e7b65715930",
   "metadata": {},
   "outputs": [],
   "source": [
    "# Plot probability distribution and confidence intervals\n",
    "five_year_dist_plot_tech = MC_5_year_tech.plot_distribution()"
   ]
  },
  {
   "cell_type": "code",
   "execution_count": null,
   "id": "72831d94-7289-4d33-8179-ab1a021a88f4",
   "metadata": {},
   "outputs": [],
   "source": [
    "# Fetch summary statistics from the Monte Carlo simulation results\n",
    "five_year_summary_tech = MC_5_year_tech.summarize_cumulative_return()\n",
    "\n",
    "# Print summary statistics\n",
    "print(five_year_summary_tech)"
   ]
  },
  {
   "cell_type": "code",
   "execution_count": null,
   "id": "806eee74-54a9-4a80-83ed-55a1f7ac8cc0",
   "metadata": {},
   "outputs": [],
   "source": [
    "# Set initial investment\n",
    "initial_investment = 20000\n",
    "\n",
    "# Use the lower and upper `95%` confidence intervals to calculate the range of the possible outcomes of our $20,000\n",
    "ci_lower_five_tech = round(five_year_summary_tech.iloc[8]*initial_investment,2)\n",
    "ci_upper_five_tech = round(five_year_summary_tech.iloc[9]*initial_investment,2)\n",
    "\n",
    "# Print results\n",
    "print(f\"There is a 95% chance that an initial investment of ${initial_investment} in the portfolio\"\n",
    "      f\" over the next 5 years will end within in the range of\"\n",
    "      f\" ${ci_lower_five_tech} and ${ci_upper_five_tech}\")"
   ]
  },
  {
   "cell_type": "markdown",
   "id": "a7562d0d-95bd-4685-91bb-4bc724b86f53",
   "metadata": {},
   "source": [
    "## Fin"
   ]
  },
  {
   "cell_type": "code",
   "execution_count": null,
   "id": "00fdaeed-36e0-45fc-b59b-cd307e77292a",
   "metadata": {},
   "outputs": [],
   "source": [
    "MC_5_year_fin = MCSimulation(\n",
    "    portfolio_data = stocks_df,\n",
    "    weights = [0.075, 0.25, 0.075, 0.075, 0.075, 0.075, 0.075, 0.075, 0.075, 0.075, 0.075],\n",
    "    num_simulation = 500,\n",
    "    num_trading_days = 252*5\n",
    ")"
   ]
  },
  {
   "cell_type": "code",
   "execution_count": null,
   "id": "1d5cea80-8740-40ef-8f70-5a1ea6f27fe7",
   "metadata": {},
   "outputs": [],
   "source": [
    "# Running a Monte Carlo simulation to forecast 5 years cumulative returns\n",
    "MC_5_year_fin.calc_cumulative_return()"
   ]
  },
  {
   "cell_type": "code",
   "execution_count": null,
   "id": "1a3325c4-cc70-4511-99ac-3307b66884f5",
   "metadata": {},
   "outputs": [],
   "source": [
    "# Plot simulation outcomes\n",
    "five_year_line_plot_fin = MC_5_year_fin.plot_simulation()"
   ]
  },
  {
   "cell_type": "code",
   "execution_count": null,
   "id": "eb8f7a67-2c7e-4962-9a5a-ba236a92b43f",
   "metadata": {},
   "outputs": [],
   "source": [
    "# Plot probability distribution and confidence intervals\n",
    "five_year_dist_plot_fin = MC_5_year_fin.plot_distribution()"
   ]
  },
  {
   "cell_type": "code",
   "execution_count": null,
   "id": "3c33536c-1798-41f6-8920-13a9fa9c38f8",
   "metadata": {},
   "outputs": [],
   "source": [
    "# Fetch summary statistics from the Monte Carlo simulation results\n",
    "five_year_summary_fin = MC_5_year_fin.summarize_cumulative_return()\n",
    "\n",
    "# Print summary statistics\n",
    "print(five_year_summary_fin)"
   ]
  },
  {
   "cell_type": "code",
   "execution_count": null,
   "id": "474c0fb5-e200-4c94-a75c-986057b2f021",
   "metadata": {},
   "outputs": [],
   "source": [
    "# Set initial investment\n",
    "initial_investment = 20000\n",
    "\n",
    "# Use the lower and upper `95%` confidence intervals to calculate the range of the possible outcomes of our $20,000\n",
    "ci_lower_five_fin = round(five_year_summary_fin.iloc[8]*initial_investment,2)\n",
    "ci_upper_five_fin = round(five_year_summary_fin.iloc[9]*initial_investment,2)\n",
    "\n",
    "# Print results\n",
    "print(f\"There is a 95% chance that an initial investment of ${initial_investment} in the portfolio\"\n",
    "      f\" over the next 5 years will end within in the range of\"\n",
    "      f\" ${ci_lower_five_fin} and ${ci_upper_five_fin}\")"
   ]
  },
  {
   "cell_type": "markdown",
   "id": "c905c1d7-21de-4b42-b1eb-95ead6ae3252",
   "metadata": {},
   "source": [
    "## Con_ser"
   ]
  },
  {
   "cell_type": "code",
   "execution_count": null,
   "id": "6b92bac3-b87c-491d-82ae-0cef7d24a4bd",
   "metadata": {},
   "outputs": [],
   "source": [
    "MC_5_year_con_ser = MCSimulation(\n",
    "    portfolio_data = stocks_df,\n",
    "    weights = [0.075, 0.075, 0.25, 0.075, 0.075, 0.075, 0.075, 0.075, 0.075, 0.075, 0.075],\n",
    "    num_simulation = 500,\n",
    "    num_trading_days = 252*5\n",
    ")"
   ]
  },
  {
   "cell_type": "code",
   "execution_count": null,
   "id": "d1f80f70-6271-44bc-8fed-2170dd26f69b",
   "metadata": {},
   "outputs": [],
   "source": [
    "# Running a Monte Carlo simulation to forecast 5 years cumulative returns\n",
    "MC_5_year_con_ser.calc_cumulative_return()"
   ]
  },
  {
   "cell_type": "code",
   "execution_count": null,
   "id": "2eec8948-d2b6-480b-8e83-da983e13fa05",
   "metadata": {},
   "outputs": [],
   "source": [
    "# Plot simulation outcomes\n",
    "five_year_line_plot_con_ser = MC_5_year_con_ser.plot_simulation()"
   ]
  },
  {
   "cell_type": "code",
   "execution_count": null,
   "id": "9dec9ee7-e191-47de-8af3-190ec38484fd",
   "metadata": {},
   "outputs": [],
   "source": [
    "# Plot probability distribution and confidence intervals\n",
    "five_year_dist_plot_con_ser = MC_5_year_con_ser.plot_distribution()"
   ]
  },
  {
   "cell_type": "code",
   "execution_count": null,
   "id": "020fc208-66bb-4a2a-9bb0-77c82a328668",
   "metadata": {},
   "outputs": [],
   "source": [
    "# Fetch summary statistics from the Monte Carlo simulation results\n",
    "five_year_summary_con_ser = MC_5_year_con_ser.summarize_cumulative_return()\n",
    "\n",
    "# Print summary statistics\n",
    "print(five_year_summary_con_ser)"
   ]
  },
  {
   "cell_type": "code",
   "execution_count": null,
   "id": "6e428d48-ccb1-4d41-8735-35c0edc01d65",
   "metadata": {},
   "outputs": [],
   "source": [
    "# Set initial investment\n",
    "initial_investment = 20000\n",
    "\n",
    "# Use the lower and upper `95%` confidence intervals to calculate the range of the possible outcomes of our $20,000\n",
    "ci_lower_five_con_ser = round(five_year_summary_con_ser.iloc[8]*initial_investment,2)\n",
    "ci_upper_five_con_ser = round(five_year_summary_con_ser.iloc[9]*initial_investment,2)\n",
    "\n",
    "# Print results\n",
    "print(f\"There is a 95% chance that an initial investment of ${initial_investment} in the portfolio\"\n",
    "      f\" over the next 5 years will end within in the range of\"\n",
    "      f\" ${ci_lower_five_con_ser} and ${ci_upper_five_con_ser}\")"
   ]
  },
  {
   "cell_type": "markdown",
   "id": "c46d14e8-f77f-467d-8ee6-21be771722d7",
   "metadata": {},
   "source": [
    "## Industrial"
   ]
  },
  {
   "cell_type": "code",
   "execution_count": null,
   "id": "40dfcfc3-e39f-4c45-953b-47b72df71ab2",
   "metadata": {},
   "outputs": [],
   "source": [
    "MC_5_year_ind= MCSimulation(\n",
    "    portfolio_data = stocks_df,\n",
    "    weights = [0.075, 0.075, 0.075, 0.25, 0.075, 0.075, 0.075, 0.075, 0.075, 0.075, 0.075],\n",
    "    num_simulation = 500,\n",
    "    num_trading_days = 252*5\n",
    ")"
   ]
  },
  {
   "cell_type": "code",
   "execution_count": null,
   "id": "e55e2fb1-e8a2-4e01-84f4-da91ccf7cd75",
   "metadata": {},
   "outputs": [],
   "source": [
    "# Running a Monte Carlo simulation to forecast 5 years cumulative returns\n",
    "MC_5_year_ind.calc_cumulative_return()"
   ]
  },
  {
   "cell_type": "code",
   "execution_count": null,
   "id": "bb6e3053-afa8-4463-84d2-b10bbe5068d0",
   "metadata": {},
   "outputs": [],
   "source": [
    "# Plot simulation outcomes\n",
    "five_year_line_plot_ind = MC_5_year_ind.plot_simulation()"
   ]
  },
  {
   "cell_type": "code",
   "execution_count": null,
   "id": "5cb66c6c-02b5-4366-aaa8-08e42247fbef",
   "metadata": {},
   "outputs": [],
   "source": [
    "# Plot probability distribution and confidence intervals\n",
    "five_year_dist_plot_ind = MC_5_year_ind.plot_distribution()"
   ]
  },
  {
   "cell_type": "code",
   "execution_count": null,
   "id": "532705eb-defa-44d8-b8e7-ca159366ecfd",
   "metadata": {},
   "outputs": [],
   "source": [
    "# Fetch summary statistics from the Monte Carlo simulation results\n",
    "five_year_summary_ind = MC_5_year_ind.summarize_cumulative_return()\n",
    "\n",
    "# Print summary statistics\n",
    "print(five_year_summary_ind)"
   ]
  },
  {
   "cell_type": "code",
   "execution_count": null,
   "id": "d65bed59-b5ff-4287-bb90-2e1b0d8fc685",
   "metadata": {},
   "outputs": [],
   "source": [
    "# Set initial investment\n",
    "initial_investment = 20000\n",
    "\n",
    "# Use the lower and upper `95%` confidence intervals to calculate the range of the possible outcomes of our $20,000\n",
    "ci_lower_five_ind = round(five_year_summary_ind.iloc[8]*initial_investment,2)\n",
    "ci_upper_five_ind = round(five_year_summary_ind.iloc[9]*initial_investment,2)\n",
    "\n",
    "# Print results\n",
    "print(f\"There is a 95% chance that an initial investment of ${initial_investment} in the portfolio\"\n",
    "      f\" over the next 5 years will end within in the range of\"\n",
    "      f\" ${ci_lower_five_ind} and ${ci_upper_five_ind}\")"
   ]
  },
  {
   "cell_type": "markdown",
   "id": "62dd2a07-efcf-49b4-8a95-d2d3c5441fad",
   "metadata": {},
   "source": [
    "## energy"
   ]
  },
  {
   "cell_type": "code",
   "execution_count": null,
   "id": "ffc15bc0-9def-4ec5-b607-df2b3d175a49",
   "metadata": {},
   "outputs": [],
   "source": [
    "MC_5_year_nrg = MCSimulation(\n",
    "    portfolio_data = stocks_df,\n",
    "    weights = [0.075, 0.075, 0.075, 0.075, 0.25, 0.075, 0.075, 0.075, 0.075, 0.075, 0.075],\n",
    "    num_simulation = 500,\n",
    "    num_trading_days = 252*5\n",
    ")"
   ]
  },
  {
   "cell_type": "code",
   "execution_count": null,
   "id": "d2d2a7d7-ccc9-4b2e-9a7c-bb0a98958033",
   "metadata": {},
   "outputs": [],
   "source": [
    "# Running a Monte Carlo simulation to forecast 5 years cumulative returns\n",
    "MC_5_year_nrg.calc_cumulative_return()"
   ]
  },
  {
   "cell_type": "code",
   "execution_count": null,
   "id": "96f76713-987c-4a1d-ba93-e4c4b3cc791e",
   "metadata": {},
   "outputs": [],
   "source": [
    "# Plot simulation outcomes\n",
    "five_year_line_plot_nrg = MC_5_year_nrg.plot_simulation()"
   ]
  },
  {
   "cell_type": "code",
   "execution_count": null,
   "id": "688beae8-a400-46c1-8d56-635cdef85b41",
   "metadata": {},
   "outputs": [],
   "source": [
    "# Plot probability distribution and confidence intervals\n",
    "five_year_dist_plot_nrg = MC_5_year_nrg.plot_distribution()"
   ]
  },
  {
   "cell_type": "code",
   "execution_count": null,
   "id": "c3baf31f-f509-4437-99ec-6e6c22a74361",
   "metadata": {},
   "outputs": [],
   "source": [
    "# Fetch summary statistics from the Monte Carlo simulation results\n",
    "five_year_summary_nrg = MC_5_year_nrg.summarize_cumulative_return()\n",
    "\n",
    "# Print summary statistics\n",
    "print(five_year_summary_nrg)"
   ]
  },
  {
   "cell_type": "code",
   "execution_count": null,
   "id": "8dd27023-e671-4112-91f2-8c10348d09d2",
   "metadata": {},
   "outputs": [],
   "source": [
    "# Set initial investment\n",
    "initial_investment = 20000\n",
    "\n",
    "# Use the lower and upper `95%` confidence intervals to calculate the range of the possible outcomes of our $20,000\n",
    "ci_lower_five_control = round(five_year_summary_nrg.iloc[8]*initial_investment,2)\n",
    "ci_upper_five_control = round(five_year_summary_nrg.iloc[9]*initial_investment,2)\n",
    "\n",
    "# Print results\n",
    "print(f\"There is a 95% chance that an initial investment of ${initial_investment} in the portfolio\"\n",
    "      f\" over the next 5 years will end within in the range of\"\n",
    "      f\" ${ci_lower_five_control} and ${ci_upper_five_control}\")"
   ]
  },
  {
   "cell_type": "markdown",
   "id": "4d32aa3f-80f1-467a-9ba7-3f4a5f485e22",
   "metadata": {},
   "source": [
    "## utilities"
   ]
  },
  {
   "cell_type": "code",
   "execution_count": null,
   "id": "4bf0f145-25da-425c-bdc2-0993313256a2",
   "metadata": {},
   "outputs": [],
   "source": [
    "MC_5_year_util = MCSimulation(\n",
    "    portfolio_data = stocks_df,\n",
    "    weights = [0.075, 0.075, 0.075, 0.075, 0.075, 0.25, 0.075, 0.075, 0.075, 0.075, 0.075],\n",
    "    num_simulation = 500,\n",
    "    num_trading_days = 252*5\n",
    ")"
   ]
  },
  {
   "cell_type": "code",
   "execution_count": null,
   "id": "a0ed7b0f-8c8a-400b-8f77-3507244137b3",
   "metadata": {},
   "outputs": [],
   "source": [
    "# Running a Monte Carlo simulation to forecast 5 years cumulative returns\n",
    "MC_5_year_util.calc_cumulative_return()"
   ]
  },
  {
   "cell_type": "code",
   "execution_count": null,
   "id": "9fe01507-1bad-4b4d-a717-fb7d4881728a",
   "metadata": {},
   "outputs": [],
   "source": [
    "# Plot simulation outcomes\n",
    "five_year_line_plot_util = MC_5_year_util.plot_simulation()"
   ]
  },
  {
   "cell_type": "code",
   "execution_count": null,
   "id": "acefb1cb-d14c-4b2f-bc19-3adf0172cbcc",
   "metadata": {},
   "outputs": [],
   "source": [
    "# Plot probability distribution and confidence intervals\n",
    "five_year_dist_plot_util = MC_5_year_util.plot_distribution()"
   ]
  },
  {
   "cell_type": "code",
   "execution_count": null,
   "id": "4315afc0-9be6-4a6a-83b1-28a1107e1081",
   "metadata": {},
   "outputs": [],
   "source": [
    "# Fetch summary statistics from the Monte Carlo simulation results\n",
    "five_year_summary_util = MC_5_year_util.summarize_cumulative_return()\n",
    "\n",
    "# Print summary statistics\n",
    "print(five_year_summary_util)"
   ]
  },
  {
   "cell_type": "code",
   "execution_count": null,
   "id": "75390344-1170-474d-878c-165caf62c6e1",
   "metadata": {},
   "outputs": [],
   "source": [
    "# Set initial investment\n",
    "initial_investment = 20000\n",
    "\n",
    "# Use the lower and upper `95%` confidence intervals to calculate the range of the possible outcomes of our $20,000\n",
    "ci_lower_five_util = round(five_year_summary_util.iloc[8]*initial_investment,2)\n",
    "ci_upper_five_util = round(five_year_summary_util.iloc[9]*initial_investment,2)\n",
    "\n",
    "# Print results\n",
    "print(f\"There is a 95% chance that an initial investment of ${initial_investment} in the portfolio\"\n",
    "      f\" over the next 5 years will end within in the range of\"\n",
    "      f\" ${ci_lower_five_util} and ${ci_upper_five_util}\")"
   ]
  },
  {
   "cell_type": "markdown",
   "id": "45f9ce3d-f62c-4376-b9ee-5035d1c5a47f",
   "metadata": {},
   "source": [
    "## Healthcare"
   ]
  },
  {
   "cell_type": "code",
   "execution_count": null,
   "id": "4d53bbda-8a02-4ed4-8915-92cf34fe9563",
   "metadata": {},
   "outputs": [],
   "source": [
    "MC_5_year_hc = MCSimulation(\n",
    "    portfolio_data = stocks_df,\n",
    "    weights = [0.075, 0.075, 0.075, 0.075, 0.075, 0.075, 0.25, 0.075, 0.075, 0.075, 0.075],\n",
    "    num_simulation = 500,\n",
    "    num_trading_days = 252*5\n",
    ")"
   ]
  },
  {
   "cell_type": "code",
   "execution_count": null,
   "id": "ccdb34b3-9fa6-43e8-b0c0-b83edb955be2",
   "metadata": {},
   "outputs": [],
   "source": [
    "# Running a Monte Carlo simulation to forecast 5 years cumulative returns\n",
    "MC_5_year_hc.calc_cumulative_return()"
   ]
  },
  {
   "cell_type": "code",
   "execution_count": null,
   "id": "1483ca46-8d69-448a-947f-b04d455807bb",
   "metadata": {},
   "outputs": [],
   "source": [
    "# Plot simulation outcomes\n",
    "five_year_line_plot_hc = MC_5_year_hc.plot_simulation()"
   ]
  },
  {
   "cell_type": "code",
   "execution_count": null,
   "id": "7a9c2a68-4a6c-483c-9b3b-ad583640b339",
   "metadata": {},
   "outputs": [],
   "source": [
    "# Plot probability distribution and confidence intervals\n",
    "five_year_dist_plot_hc = MC_5_year_hc.plot_distribution()"
   ]
  },
  {
   "cell_type": "code",
   "execution_count": null,
   "id": "6734269b-2cee-4a16-a578-4bf2d1c4e959",
   "metadata": {},
   "outputs": [],
   "source": [
    "# Fetch summary statistics from the Monte Carlo simulation results\n",
    "five_year_summary_hc = MC_5_year_hc.summarize_cumulative_return()\n",
    "\n",
    "# Print summary statistics\n",
    "print(five_year_summary_hc)"
   ]
  },
  {
   "cell_type": "code",
   "execution_count": null,
   "id": "69bd7523-2ab0-4ae8-a811-26fad8a1d19d",
   "metadata": {},
   "outputs": [],
   "source": [
    "# Set initial investment\n",
    "initial_investment = 20000\n",
    "\n",
    "# Use the lower and upper `95%` confidence intervals to calculate the range of the possible outcomes of our $20,000\n",
    "ci_lower_five_hc = round(five_year_summary_hc.iloc[8]*initial_investment,2)\n",
    "ci_upper_five_hc = round(five_year_summary_hc.iloc[9]*initial_investment,2)\n",
    "\n",
    "# Print results\n",
    "print(f\"There is a 95% chance that an initial investment of ${initial_investment} in the portfolio\"\n",
    "      f\" over the next 5 years will end within in the range of\"\n",
    "      f\" ${ci_lower_five_hc} and ${ci_upper_five_hc}\")"
   ]
  },
  {
   "cell_type": "markdown",
   "id": "71b79a42-31b0-4d5e-b53e-4ea363569ee0",
   "metadata": {},
   "source": [
    "## Materials"
   ]
  },
  {
   "cell_type": "code",
   "execution_count": null,
   "id": "808e2156-b2ed-4313-af38-65b6f6cc9324",
   "metadata": {},
   "outputs": [],
   "source": [
    "MC_5_year_mat = MCSimulation(\n",
    "    portfolio_data = stocks_df,\n",
    "    weights = [0.075, 0.075, 0.075, 0.075, 0.075, 0.075, 0.075, 0.25, 0.075, 0.075, 0.075],\n",
    "    num_simulation = 500,\n",
    "    num_trading_days = 252*5\n",
    ")"
   ]
  },
  {
   "cell_type": "code",
   "execution_count": null,
   "id": "6029a069-177f-45cb-aa40-3c7d3fd838be",
   "metadata": {},
   "outputs": [],
   "source": [
    "# Running a Monte Carlo simulation to forecast 5 years cumulative returns\n",
    "MC_5_year_mat.calc_cumulative_return()"
   ]
  },
  {
   "cell_type": "code",
   "execution_count": null,
   "id": "9eddfa95-87c0-4867-8837-dee88db60ed4",
   "metadata": {},
   "outputs": [],
   "source": [
    "# Plot simulation outcomes\n",
    "five_year_line_plot_mat = MC_5_year_mat.plot_simulation()"
   ]
  },
  {
   "cell_type": "code",
   "execution_count": null,
   "id": "d0485942-19e1-4dea-af11-946c795b9424",
   "metadata": {},
   "outputs": [],
   "source": [
    "# Plot probability distribution and confidence intervals\n",
    "five_year_dist_plot_mat = MC_5_year_mat.plot_distribution()"
   ]
  },
  {
   "cell_type": "code",
   "execution_count": null,
   "id": "5a47f910-f4bf-41c7-97bd-e8ceded384d0",
   "metadata": {},
   "outputs": [],
   "source": [
    "# Fetch summary statistics from the Monte Carlo simulation results\n",
    "five_year_summary_mat = MC_5_year_mat.summarize_cumulative_return()\n",
    "\n",
    "# Print summary statistics\n",
    "print(five_year_summary_mat)"
   ]
  },
  {
   "cell_type": "code",
   "execution_count": null,
   "id": "8f0cffb8-2773-49a2-886f-5d8dd1e1e413",
   "metadata": {},
   "outputs": [],
   "source": [
    "# Set initial investment\n",
    "initial_investment = 20000\n",
    "\n",
    "# Use the lower and upper `95%` confidence intervals to calculate the range of the possible outcomes of our $20,000\n",
    "ci_lower_five_mat = round(five_year_summary_mat.iloc[8]*initial_investment,2)\n",
    "ci_upper_five_mat = round(five_year_summary_mat.iloc[9]*initial_investment,2)\n",
    "\n",
    "# Print results\n",
    "print(f\"There is a 95% chance that an initial investment of ${initial_investment} in the portfolio\"\n",
    "      f\" over the next 5 years will end within in the range of\"\n",
    "      f\" ${ci_lower_five_mat} and ${ci_upper_five_mat}\")"
   ]
  },
  {
   "cell_type": "markdown",
   "id": "3e77189f-d80c-41a6-9e64-4d9bdd0190b3",
   "metadata": {},
   "source": [
    "## Real Estate"
   ]
  },
  {
   "cell_type": "code",
   "execution_count": null,
   "id": "3b51a590-1157-4ecc-accd-04013a1bf236",
   "metadata": {},
   "outputs": [],
   "source": [
    "MC_5_year_re = MCSimulation(\n",
    "    portfolio_data = stocks_df,\n",
    "    weights = [0.075, 0.075, 0.075, 0.075, 0.075, 0.075, 0.075, 0.075, 0.25, 0.075, 0.075],\n",
    "    num_simulation = 500,\n",
    "    num_trading_days = 252*5\n",
    ")\n"
   ]
  },
  {
   "cell_type": "code",
   "execution_count": null,
   "id": "2ede7363-1516-48b9-aed3-a03295845ac0",
   "metadata": {},
   "outputs": [],
   "source": [
    "# Running a Monte Carlo simulation to forecast 5 years cumulative returns\n",
    "MC_5_year_re.calc_cumulative_return()"
   ]
  },
  {
   "cell_type": "code",
   "execution_count": null,
   "id": "694563c6-37b3-4610-9044-b54e7519780a",
   "metadata": {},
   "outputs": [],
   "source": [
    "# Plot simulation outcomes\n",
    "five_year_line_plot_re = MC_5_year_re.plot_simulation()"
   ]
  },
  {
   "cell_type": "code",
   "execution_count": null,
   "id": "deaa0f34-346e-4735-a965-684f293810c0",
   "metadata": {},
   "outputs": [],
   "source": [
    "# Plot probability distribution and confidence intervals\n",
    "five_year_dist_plot_re = MC_5_year_re.plot_distribution()"
   ]
  },
  {
   "cell_type": "code",
   "execution_count": null,
   "id": "335b58a8-4877-462a-bfd5-4a13cdad1473",
   "metadata": {},
   "outputs": [],
   "source": [
    "# Fetch summary statistics from the Monte Carlo simulation results\n",
    "five_year_summary_re = MC_5_year_re.summarize_cumulative_return()\n",
    "\n",
    "# Print summary statistics\n",
    "print(five_year_summary_re)"
   ]
  },
  {
   "cell_type": "code",
   "execution_count": null,
   "id": "191338be-4311-4028-aec7-7ce41986c428",
   "metadata": {},
   "outputs": [],
   "source": [
    "# Set initial investment\n",
    "initial_investment = 20000\n",
    "\n",
    "# Use the lower and upper `95%` confidence intervals to calculate the range of the possible outcomes of our $20,000\n",
    "ci_lower_five_re = round(five_year_summary_re.iloc[8]*initial_investment,2)\n",
    "ci_upper_five_re = round(five_year_summary_re.iloc[9]*initial_investment,2)\n",
    "\n",
    "# Print results\n",
    "print(f\"There is a 95% chance that an initial investment of ${initial_investment} in the portfolio\"\n",
    "      f\" over the next 5 years will end within in the range of\"\n",
    "      f\" ${ci_lower_five_re} and ${ci_upper_five_re}\")"
   ]
  },
  {
   "cell_type": "markdown",
   "id": "024ef930-ae68-4210-89ca-9527917fa6ce",
   "metadata": {},
   "source": [
    "## Consumer Staples"
   ]
  },
  {
   "cell_type": "code",
   "execution_count": null,
   "id": "d8da3904-5e55-430d-8629-de1f4322b272",
   "metadata": {},
   "outputs": [],
   "source": [
    "MC_5_year_con_staple = MCSimulation(\n",
    "    portfolio_data = stocks_df,\n",
    "    weights = [0.075, 0.075, 0.075, 0.075, 0.075, 0.075, 0.075, 0.075, 0.075, 0.25, 0.075],\n",
    "    num_simulation = 500,\n",
    "    num_trading_days = 252*5\n",
    ")"
   ]
  },
  {
   "cell_type": "code",
   "execution_count": null,
   "id": "0cd6f379-d024-418c-b01f-62c46f117dff",
   "metadata": {},
   "outputs": [],
   "source": [
    "# Running a Monte Carlo simulation to forecast 5 years cumulative returns\n",
    "MC_5_year_con_staple.calc_cumulative_return()"
   ]
  },
  {
   "cell_type": "code",
   "execution_count": null,
   "id": "fe836279-8bac-4d32-8132-f5ec51d70735",
   "metadata": {},
   "outputs": [],
   "source": [
    "# Plot simulation outcomes\n",
    "five_year_line_plot_con_staple = MC_5_year_con_staple.plot_simulation()"
   ]
  },
  {
   "cell_type": "code",
   "execution_count": null,
   "id": "4f379e2f-10c1-4bc3-a938-d5bef672ad77",
   "metadata": {},
   "outputs": [],
   "source": [
    "# Plot probability distribution and confidence intervals\n",
    "five_year_dist_plot_con_staple = MC_5_year_con_staple.plot_distribution()"
   ]
  },
  {
   "cell_type": "code",
   "execution_count": null,
   "id": "e4ed85a8-4df1-41f7-9aac-5e8028829a32",
   "metadata": {},
   "outputs": [],
   "source": [
    "# Fetch summary statistics from the Monte Carlo simulation results\n",
    "five_year_summary_con_staple = MC_5_year_con_staple.summarize_cumulative_return()\n",
    "\n",
    "# Print summary statistics\n",
    "print(five_year_summary_con_staple)"
   ]
  },
  {
   "cell_type": "code",
   "execution_count": null,
   "id": "d4589fcc-26fd-41db-b2cb-1b3800840e48",
   "metadata": {},
   "outputs": [],
   "source": [
    "# Set initial investment\n",
    "initial_investment = 20000\n",
    "\n",
    "# Use the lower and upper `95%` confidence intervals to calculate the range of the possible outcomes of our $20,000\n",
    "ci_lower_five_con_staple = round(five_year_summary_con_staple.iloc[8]*initial_investment,2)\n",
    "ci_upper_five_con_staple = round(five_year_summary_con_staple.iloc[9]*initial_investment,2)\n",
    "\n",
    "# Print results\n",
    "print(f\"There is a 95% chance that an initial investment of ${initial_investment} in the portfolio\"\n",
    "      f\" over the next 5 years will end within in the range of\"\n",
    "      f\" ${ci_lower_five_con_staple} and ${ci_upper_five_con_staple}\")"
   ]
  },
  {
   "cell_type": "markdown",
   "id": "5d5f3319-0e5a-42ef-adcb-488fb65c0ab8",
   "metadata": {},
   "source": [
    "## Consumer Discretionary"
   ]
  },
  {
   "cell_type": "code",
   "execution_count": null,
   "id": "4de47656-4c5b-4675-8da1-99c34abfa454",
   "metadata": {},
   "outputs": [],
   "source": [
    "MC_5_year_con_disc = MCSimulation(\n",
    "    portfolio_data = stocks_df,\n",
    "    weights = [0.075, 0.075, 0.075, 0.075, 0.075, 0.075, 0.075, 0.075, 0.25, 0.075, 0.25],\n",
    "    num_simulation = 500,\n",
    "    num_trading_days = 252*5\n",
    ")"
   ]
  },
  {
   "cell_type": "code",
   "execution_count": null,
   "id": "1decb329-4a1c-4c59-9633-044330c145a4",
   "metadata": {},
   "outputs": [],
   "source": [
    "# Running a Monte Carlo simulation to forecast 5 years cumulative returns\n",
    "MC_5_year_con_disc.calc_cumulative_return()"
   ]
  },
  {
   "cell_type": "code",
   "execution_count": null,
   "id": "69518329-0371-46d9-9b45-713b35809a59",
   "metadata": {},
   "outputs": [],
   "source": [
    "# Plot simulation outcomes\n",
    "five_year_line_plot_con_disc = MC_5_year_con_disc.plot_simulation()"
   ]
  },
  {
   "cell_type": "code",
   "execution_count": null,
   "id": "30e7726b-3686-4db7-a95a-8fc8cc5120fa",
   "metadata": {},
   "outputs": [],
   "source": [
    "# Plot probability distribution and confidence intervals\n",
    "five_year_dist_plot_con_disc = MC_5_year_con_disc.plot_distribution()"
   ]
  },
  {
   "cell_type": "code",
   "execution_count": null,
   "id": "947e8a02-4f32-4774-86b1-f1ac4805267d",
   "metadata": {
    "tags": []
   },
   "outputs": [],
   "source": [
    "# Fetch summary statistics from the Monte Carlo simulation results\n",
    "five_year_summary_con_disc = MC_5_year_con_disc.summarize_cumulative_return()\n",
    "\n",
    "# Print summary statistics\n",
    "print(five_year_summary_con_disc)"
   ]
  },
  {
   "cell_type": "code",
   "execution_count": null,
   "id": "9e095c06-9d01-4179-b0ff-1cd18bc20251",
   "metadata": {},
   "outputs": [],
   "source": [
    "# Set initial investment\n",
    "initial_investment = 20000\n",
    "\n",
    "# Use the lower and upper `95%` confidence intervals to calculate the range of the possible outcomes of our $20,000\n",
    "ci_lower_five_con_disc = round(five_year_summary_con_disc.iloc[8]*initial_investment,2)\n",
    "ci_upper_five_con_disc = round(five_year_summary_con_disc.iloc[9]*initial_investment,2)\n",
    "\n",
    "# Print results\n",
    "print(f\"There is a 95% chance that an initial investment of ${initial_investment} in the portfolio\"\n",
    "      f\" over the next 5 years will end within in the range of\"\n",
    "      f\" ${ci_lower_five_con_disc} and ${ci_upper_five_con_disc}\")"
   ]
  },
  {
   "cell_type": "markdown",
   "id": "6737accc-964c-4d5e-9045-5e38351a04ee",
   "metadata": {},
   "source": [
    "# Part VI: Plots/Visualizations"
   ]
  },
  {
   "cell_type": "markdown",
   "id": "55f4d989-9529-47ed-91cb-86ade6fecff8",
   "metadata": {},
   "source": [
    "Plots Needed:\n",
    "1. Historical analysis(All Line Charts): daily returns, historical values, and cumulative returns\n",
    "2. Risk Analysis: Boxplot\n",
    "3. Monte Carlo: box plot of summary stats\n",
    "4. Pie/Donut Charts represent each portfolios weighted distribution?"
   ]
  },
  {
   "cell_type": "markdown",
   "id": "c10f9970-2293-443a-8307-b73e78a3ddd6",
   "metadata": {},
   "source": [
    "*Pie/donut chart showing each portfolio's distribution"
   ]
  },
  {
   "cell_type": "markdown",
   "id": "c004b04f-35d7-45b6-b585-0f16100016b5",
   "metadata": {},
   "source": [
    "## Historical Cumulative Returns"
   ]
  },
  {
   "cell_type": "code",
   "execution_count": null,
   "id": "c6bb2e20-63f2-40d9-8537-36c6153387bc",
   "metadata": {
    "tags": []
   },
   "outputs": [],
   "source": [
    "hist_cumulative_returns_fig = px.line(all_cumulative_returns_df, width=800, height=500, title=\"Cumulative Returns of all Portfolios\")\n",
    "hist_cumulative_returns_fig.show()"
   ]
  },
  {
   "cell_type": "markdown",
   "id": "7be997bd-afdf-408b-9e08-12c1677a2677",
   "metadata": {},
   "source": [
    "## Portfolios Historical Results with an Initial Investment of $20,000"
   ]
  },
  {
   "cell_type": "code",
   "execution_count": null,
   "id": "a1bbe456-d85c-4469-8caf-b1a6a9afcabb",
   "metadata": {
    "tags": []
   },
   "outputs": [],
   "source": [
    "historical_values_fig = px.line(all_historical_values_df, width=1000, height=850, title=\"Historical Value with an initial investment of $20,000 of all Portfolios\")\n",
    "historical_values_fig.show()"
   ]
  },
  {
   "cell_type": "markdown",
   "id": "0f3ab8d3-9742-4d40-8fb7-eb161ffab238",
   "metadata": {},
   "source": [
    "## Portfolios Daily Returns"
   ]
  },
  {
   "cell_type": "code",
   "execution_count": null,
   "id": "a78fdd0e-fa54-4d27-b602-cbe9efe08643",
   "metadata": {
    "tags": []
   },
   "outputs": [],
   "source": [
    "hist_daily_returns_fig = px.line(all_daily_returns_df, width=1000, height=850, title=\"Daily Returns of all Portfolios\")\n",
    "hist_daily_returns_fig.show()"
   ]
  },
  {
   "cell_type": "markdown",
   "id": "3cf6b26b-6b93-434c-8402-6a6b354135c6",
   "metadata": {
    "tags": []
   },
   "source": [
    "## Candlestick/boxplot chart to show Monte Carlo simulation summary statistics values (minimum, maximum, CI upper, CI lower)"
   ]
  },
  {
   "cell_type": "code",
   "execution_count": null,
   "id": "af323614-880f-4ca6-b943-e10e60385fc8",
   "metadata": {
    "tags": []
   },
   "outputs": [],
   "source": [
    "# Plotting the upper and lower CI 95% of all MC simulation(min/max = high/low; open/close = CIupper/CIlower\n",
    "min_data = [0.612243, 0.805576, 0.786399, 0.604798, 0.769029, 0.862505, 0.649108, 0.909431, 0.677289, 0.647386, 0.628008, 0.280719]\n",
    "max_data = [2.967900, 3.577134, 3.090839, 4.066498, 3.077694, 3.639074, 2.797470, 3.107733, 3.281936, 3.183344, 2.978899, 4.169834]\n",
    "ci_upper = [2.363665, 2.707885, 2.420722, 2.917650, 2.374532, 2.917394, 2.165186, 2.553763, 2.301589, 2.331461, 2.292041, 2.457851]\n",
    "ci_lower = [0.949598, 1.015959, 1.030039, 0.964470, 0.958643, 1.173393, 0.876502, 1.047440, 0.892707, 0.924784, 0.923972, 0.450766]\n",
    "portfolios = ['Control', 'Technology', 'Finance', 'Consumer Services', 'Industrial', 'Energy', 'Utilities', 'Healthcare', 'Materials', 'Real Estate', 'Consumer Staples', 'Consumer Discretionary']\n",
    "\n",
    "candle_fig = go.Figure(data=[go.Candlestick(x=portfolios,\n",
    "                       open=ci_upper, high=max_data,\n",
    "                       low=min_data, close=ci_lower)])\n",
    "\n",
    "candle_fig.show()"
   ]
  },
  {
   "cell_type": "markdown",
   "id": "4bc1f2d9-9e15-4fcd-9f36-721382058374",
   "metadata": {},
   "source": [
    "## Box plot for risk calculated with historical data using std"
   ]
  },
  {
   "cell_type": "code",
   "execution_count": null,
   "id": "c8410c0f-ed42-4b60-9b74-0b481b9fe234",
   "metadata": {
    "tags": []
   },
   "outputs": [],
   "source": [
    "hist_risk_fig = px.box(all_daily_returns_df, width=1000, height=850)\n",
    "hist_risk_fig.show()"
   ]
  },
  {
   "cell_type": "markdown",
   "id": "8a70220c-29c3-4683-8ee5-559137fc004d",
   "metadata": {},
   "source": [
    "## Box plot for risk calculated with Monte Carlo sim data using summary statistics"
   ]
  },
  {
   "cell_type": "code",
   "execution_count": null,
   "id": "84753310-ffb7-4130-861b-dfe22472351b",
   "metadata": {
    "tags": []
   },
   "outputs": [],
   "source": [
    "#mc_risk_fig = px.box()\n",
    "#mc_risk_fig.show()"
   ]
  },
  {
   "cell_type": "markdown",
   "id": "c746a72b-f644-42f2-8729-8eed03d082fb",
   "metadata": {},
   "source": [
    "## Pie Chart to display portfolio weights"
   ]
  },
  {
   "cell_type": "code",
   "execution_count": null,
   "id": "0e44ff65-feb5-4e13-8e0d-f1131d996644",
   "metadata": {
    "tags": []
   },
   "outputs": [],
   "source": [
    "#fig = px.pie(weights)\n",
    "#fig.show()"
   ]
  },
  {
   "cell_type": "markdown",
   "id": "1294dc34-bdd2-412b-b62b-8c4c6b509b48",
   "metadata": {},
   "source": [
    "## Histogram to plot distribution (edit MC file)"
   ]
  },
  {
   "cell_type": "code",
   "execution_count": null,
   "id": "7c0c0001-2455-484c-8135-6272d4c33bcf",
   "metadata": {},
   "outputs": [],
   "source": [
    "#fig = px.histogram(df, x=\"total_bill\")\n",
    "#fig.show()"
   ]
  },
  {
   "cell_type": "markdown",
   "id": "26bf702c-9b63-49eb-aa49-17f87d0abdd1",
   "metadata": {},
   "source": [
    "## Heatmap of correlation of stocks within portfolios"
   ]
  },
  {
   "cell_type": "code",
   "execution_count": null,
   "id": "d8465d4d-aaf4-422a-b518-a1f70d7cb9b7",
   "metadata": {
    "tags": []
   },
   "outputs": [],
   "source": [
    "#stocks_correlation = stocks_df.corr()\n",
    "#stocks_correlation_fig = px.imshow(stocks_correlation)\n",
    "#stocks_correlation_fig.show()"
   ]
  }
 ],
 "metadata": {
  "kernelspec": {
   "display_name": "Python 3 (ipykernel)",
   "language": "python",
   "name": "python3"
  },
  "language_info": {
   "codemirror_mode": {
    "name": "ipython",
    "version": 3
   },
   "file_extension": ".py",
   "mimetype": "text/x-python",
   "name": "python",
   "nbconvert_exporter": "python",
   "pygments_lexer": "ipython3",
   "version": "3.11.7"
  }
 },
 "nbformat": 4,
 "nbformat_minor": 5
}
